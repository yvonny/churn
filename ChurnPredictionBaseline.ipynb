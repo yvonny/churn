{
  "nbformat": 4,
  "nbformat_minor": 0,
  "metadata": {
    "colab": {
      "name": "Baseline (3).ipynb",
      "provenance": [],
      "collapsed_sections": [],
      "machine_shape": "hm",
      "include_colab_link": true
    },
    "kernelspec": {
      "display_name": "Python 3",
      "language": "python",
      "name": "python3"
    },
    "language_info": {
      "codemirror_mode": {
        "name": "ipython",
        "version": 3
      },
      "file_extension": ".py",
      "mimetype": "text/x-python",
      "name": "python",
      "nbconvert_exporter": "python",
      "pygments_lexer": "ipython3",
      "version": "3.7.3"
    }
  },
  "cells": [
    {
      "cell_type": "markdown",
      "metadata": {
        "id": "view-in-github",
        "colab_type": "text"
      },
      "source": [
        "<a href=\"https://colab.research.google.com/github/yvonny/churn/blob/master/ChurnPredictionBaseline.ipynb\" target=\"_parent\"><img src=\"https://colab.research.google.com/assets/colab-badge.svg\" alt=\"Open In Colab\"/></a>"
      ]
    },
    {
      "cell_type": "markdown",
      "metadata": {
        "colab_type": "text",
        "id": "3_QkgnAeElN_"
      },
      "source": [
        "Paper: https://www.andrew.cmu.edu/user/lakoglu/pubs/StackOverflow-churn.pdf\n",
        "\n",
        "Description of datasets: https://ia800107.us.archive.org/27/items/stackexchange/readme.txt\n",
        "\n",
        "Site for download of datasets: https://archive.org/details/stackexchange\n",
        "\n",
        "This code has 6 steps\n",
        "\n",
        "1. Load StackOverflow datasets as dataframe\n",
        "2. Extract and label the datasets for each task\n",
        "3. Extract features for each task\n",
        "4. Analyze features\n",
        "5. Train models for each task with the features\n",
        "6. Quantify the importance of each feature category"
      ]
    },
    {
      "cell_type": "markdown",
      "metadata": {
        "colab_type": "text",
        "id": "BIq6tvSgGX_u"
      },
      "source": [
        "1. Load StackOverflow datasets as dataframe"
      ]
    },
    {
      "cell_type": "code",
      "metadata": {
        "colab_type": "code",
        "id": "SkhHqE16EqWg",
        "outputId": "89e656bc-5fb1-458e-f349-eec5704b2e2d",
        "colab": {
          "base_uri": "https://localhost:8080/",
          "height": 109
        }
      },
      "source": [
        "import sys\n",
        "!{sys.executable} -m pip install xmltodict"
      ],
      "execution_count": 1,
      "outputs": [
        {
          "output_type": "stream",
          "text": [
            "Collecting xmltodict\n",
            "  Downloading https://files.pythonhosted.org/packages/28/fd/30d5c1d3ac29ce229f6bdc40bbc20b28f716e8b363140c26eff19122d8a5/xmltodict-0.12.0-py2.py3-none-any.whl\n",
            "Installing collected packages: xmltodict\n",
            "Successfully installed xmltodict-0.12.0\n"
          ],
          "name": "stdout"
        }
      ]
    },
    {
      "cell_type": "code",
      "metadata": {
        "colab_type": "code",
        "id": "fsdakpOMEuhl",
        "colab": {}
      },
      "source": [
        "import xmltodict\n",
        "import pandas as pd\n",
        "import numpy as np\n",
        "import matplotlib.pyplot as plt\n",
        "import io"
      ],
      "execution_count": 0,
      "outputs": []
    },
    {
      "cell_type": "code",
      "metadata": {
        "colab_type": "code",
        "id": "0WX1fzL0Ezx5",
        "colab": {}
      },
      "source": [
        "!pip install -U -q PyDrive\n",
        "from pydrive.auth import GoogleAuth\n",
        "from pydrive.drive import GoogleDrive\n",
        "from google.colab import auth\n",
        "from oauth2client.client import GoogleCredentials"
      ],
      "execution_count": 0,
      "outputs": []
    },
    {
      "cell_type": "code",
      "metadata": {
        "colab_type": "code",
        "id": "2r9tJIIxE1vI",
        "colab": {}
      },
      "source": [
        "auth.authenticate_user()\n",
        "gauth = GoogleAuth()\n",
        "gauth.credentials = GoogleCredentials.get_application_default()\n",
        "gdrive = GoogleDrive(gauth)"
      ],
      "execution_count": 0,
      "outputs": []
    },
    {
      "cell_type": "code",
      "metadata": {
        "colab_type": "code",
        "id": "UIyjk-t9E3jo",
        "colab": {}
      },
      "source": [
        "def store_df_at_google_drive(fname, df, ftype=None):\n",
        "    s = io.StringIO()\n",
        "    if ftype == 'png':\n",
        "      uploaded = gdrive.CreateFile({'title': fname, 'parents':[{'id': 'root'}]})\n",
        "      uploaded.SetContentFile('%s.png'%(fname))\n",
        "      uploaded.Upload()\n",
        "      print('Uploaded file with ID {}'.format(uploaded.get('id')))\n",
        "    else:\n",
        "      df.to_csv(s)\n",
        "      uploaded = gdrive.CreateFile({'title': fname, 'parents':[{'id': 'root'}]})\n",
        "      uploaded.SetContentString(s.getvalue())\n",
        "      uploaded.Upload()\n",
        "      print('Uploaded file with ID {}'.format(uploaded.get('id')))\n",
        "\n",
        "def load_df_at_google_drive(fname):\n",
        "    file_list = gdrive.ListFile({'q': \"'root' in parents and trashed=false\"}).GetList()\n",
        "    for file1 in file_list:\n",
        "        if (file1['title'] == fname):\n",
        "            downloaded = gdrive.CreateFile({'id': file1['id']})\n",
        "            s = io.StringIO(downloaded.GetContentString())\n",
        "            return pd.read_csv(s)\n",
        "    \n",
        "def load_dataset_from_google_drive(dir_id):\n",
        "    files = []\n",
        "    file_list = gdrive.ListFile({'q': \"'{}' in parents\".format(dir_id)}).GetList()\n",
        "    for f in file_list:\n",
        "      if f['title'] in ['Users.xml', 'Posts.xml','users_reduce.pkl', 'posts_reduce.pkl']:\n",
        "          print('  Load file: {}'.format(f['title']))\n",
        "          f_ = gdrive.CreateFile({'id': f['id']})\n",
        "          f_.GetContentFile(f['title'])\n",
        "          files.append(f['title'])\n",
        "    return files"
      ],
      "execution_count": 0,
      "outputs": []
    },
    {
      "cell_type": "code",
      "metadata": {
        "colab_type": "code",
        "id": "p_9rM193FeAn",
        "outputId": "d5dfa197-d90f-4b4c-8d62-6aac80b4349a",
        "colab": {
          "base_uri": "https://localhost:8080/",
          "height": 53
        }
      },
      "source": [
        "files = load_dataset_from_google_drive('1Fp_7GDH_t7xfnU8aXeKrcBC54_nECOcu') "
      ],
      "execution_count": 6,
      "outputs": [
        {
          "output_type": "stream",
          "text": [
            "  Load file: users_reduce.pkl\n",
            "  Load file: posts_reduce.pkl\n"
          ],
          "name": "stdout"
        }
      ]
    },
    {
      "cell_type": "code",
      "metadata": {
        "colab_type": "code",
        "id": "lbh_OQyiGK2Z",
        "outputId": "108ddc51-fc96-4fa4-c3a6-dcb264fe05ae",
        "colab": {
          "base_uri": "https://localhost:8080/",
          "height": 35
        }
      },
      "source": [
        "users_df = pd.read_pickle(\"{}.pkl\".format('users_reduce'))   # shape: (992,110, 3)\n",
        "posts_df = pd.read_pickle(\"{}.pkl\".format('posts_reduce'))   # shape: (11,324,326, 10)\n",
        "\n",
        "users_df.shape, posts_df.shape   # Total dataset"
      ],
      "execution_count": 7,
      "outputs": [
        {
          "output_type": "execute_result",
          "data": {
            "text/plain": [
              "((992110, 3), (11324326, 10))"
            ]
          },
          "metadata": {
            "tags": []
          },
          "execution_count": 7
        }
      ]
    },
    {
      "cell_type": "markdown",
      "metadata": {
        "colab_type": "text",
        "id": "ugS0FTGWGhg9"
      },
      "source": [
        "2. Extract and label the datasets for each tasks\n",
        "\n",
        "You should extract the dataset for the period of the dataset: July 31, 2008 ~ July 31, 2012\n",
        "\n",
        "There are 2 tasks:\n",
        "\n",
        "A. After a user's K-th post, predict how likely it is that the user will churn\n",
        "\n",
        "B. After the T-th day from the account creation of a user, predict how likely it is that the user will churn"
      ]
    },
    {
      "cell_type": "code",
      "metadata": {
        "colab_type": "code",
        "id": "ztCnzaoPGQTJ",
        "outputId": "612d9573-9661-42eb-be06-07a355e3e0fb",
        "colab": {
          "base_uri": "https://localhost:8080/",
          "height": 35
        }
      },
      "source": [
        "def getIthOfPosts(posts):\n",
        "    print('getIthOfPosts')\n",
        "    posts.sort_values(by=['OwnerUserId', 'CreationDate'], inplace=True)\n",
        "    posts.reset_index(level=0, inplace=True)\n",
        "    posts['id_owner_time'] = posts.index\n",
        "    first_posts = posts.groupby('OwnerUserId')['id_owner_time'].min().to_frame()\n",
        "    tmp = posts.join(first_posts, on='OwnerUserId', how='inner', lsuffix='F', rsuffix='P')\n",
        "    posts['ith'] = tmp['id_owner_timeF'] - tmp['id_owner_timeP'] + 1\n",
        "    posts = posts.drop(['id_owner_time'], axis=1)\n",
        "    return posts\n",
        "\n",
        "# You should extract the dataset for the period of the dataset: July 31, 2008 ~  July 31, 2012\n",
        "start_time = pd.to_datetime('2008-07-31')\n",
        "end_time = pd.to_datetime('2012-07-31')\n",
        "end_time_2 = pd.to_datetime('2012-01-31')\n",
        "\n",
        "posts_df = posts_df[(posts_df['CreationDate'] >= start_time) & (posts_df['CreationDate'] <= end_time)]\n",
        "users_df = users_df[(users_df['CreationDate'] >= start_time) & (users_df['CreationDate'] <= end_time_2)]\n",
        "\n",
        "\n",
        "posts_df = getIthOfPosts(posts_df)"
      ],
      "execution_count": 8,
      "outputs": [
        {
          "output_type": "stream",
          "text": [
            "getIthOfPosts\n"
          ],
          "name": "stdout"
        }
      ]
    },
    {
      "cell_type": "code",
      "metadata": {
        "id": "2T3zcrdECyI8",
        "colab_type": "code",
        "outputId": "bd2ddca3-d1cc-41f1-980a-20709d065f21",
        "colab": {
          "base_uri": "https://localhost:8080/",
          "height": 309
        }
      },
      "source": [
        "posts_df.head(5)"
      ],
      "execution_count": 9,
      "outputs": [
        {
          "output_type": "execute_result",
          "data": {
            "text/html": [
              "<div>\n",
              "<style scoped>\n",
              "    .dataframe tbody tr th:only-of-type {\n",
              "        vertical-align: middle;\n",
              "    }\n",
              "\n",
              "    .dataframe tbody tr th {\n",
              "        vertical-align: top;\n",
              "    }\n",
              "\n",
              "    .dataframe thead th {\n",
              "        text-align: right;\n",
              "    }\n",
              "</style>\n",
              "<table border=\"1\" class=\"dataframe\">\n",
              "  <thead>\n",
              "    <tr style=\"text-align: right;\">\n",
              "      <th></th>\n",
              "      <th>Id</th>\n",
              "      <th>PostTypeId</th>\n",
              "      <th>AcceptedAnswerId</th>\n",
              "      <th>CreationDate</th>\n",
              "      <th>Score</th>\n",
              "      <th>OwnerUserId</th>\n",
              "      <th>AnswerCount</th>\n",
              "      <th>CommentCount</th>\n",
              "      <th>ParentId</th>\n",
              "      <th>CreationDateOfOwner</th>\n",
              "      <th>BodyWordNum</th>\n",
              "      <th>ith</th>\n",
              "    </tr>\n",
              "  </thead>\n",
              "  <tbody>\n",
              "    <tr>\n",
              "      <th>0</th>\n",
              "      <td>3609905</td>\n",
              "      <td>3</td>\n",
              "      <td>NaN</td>\n",
              "      <td>2010-07-22 18:39:58.787</td>\n",
              "      <td>0.0</td>\n",
              "      <td>-1</td>\n",
              "      <td>0.0</td>\n",
              "      <td>0.0</td>\n",
              "      <td>NaN</td>\n",
              "      <td>2008-07-31</td>\n",
              "      <td>48.0</td>\n",
              "      <td>1</td>\n",
              "    </tr>\n",
              "    <tr>\n",
              "      <th>1</th>\n",
              "      <td>3625049</td>\n",
              "      <td>3</td>\n",
              "      <td>NaN</td>\n",
              "      <td>2010-08-01 09:51:37.270</td>\n",
              "      <td>0.0</td>\n",
              "      <td>-1</td>\n",
              "      <td>0.0</td>\n",
              "      <td>0.0</td>\n",
              "      <td>NaN</td>\n",
              "      <td>2008-07-31</td>\n",
              "      <td>8.0</td>\n",
              "      <td>2</td>\n",
              "    </tr>\n",
              "    <tr>\n",
              "      <th>2</th>\n",
              "      <td>3625050</td>\n",
              "      <td>3</td>\n",
              "      <td>NaN</td>\n",
              "      <td>2010-08-01 09:51:37.270</td>\n",
              "      <td>0.0</td>\n",
              "      <td>-1</td>\n",
              "      <td>0.0</td>\n",
              "      <td>0.0</td>\n",
              "      <td>NaN</td>\n",
              "      <td>2008-07-31</td>\n",
              "      <td>7.0</td>\n",
              "      <td>3</td>\n",
              "    </tr>\n",
              "    <tr>\n",
              "      <th>3</th>\n",
              "      <td>3621159</td>\n",
              "      <td>3</td>\n",
              "      <td>NaN</td>\n",
              "      <td>2010-08-02 06:04:30.050</td>\n",
              "      <td>0.0</td>\n",
              "      <td>-1</td>\n",
              "      <td>0.0</td>\n",
              "      <td>0.0</td>\n",
              "      <td>NaN</td>\n",
              "      <td>2008-07-31</td>\n",
              "      <td>0.0</td>\n",
              "      <td>4</td>\n",
              "    </tr>\n",
              "    <tr>\n",
              "      <th>4</th>\n",
              "      <td>3625171</td>\n",
              "      <td>3</td>\n",
              "      <td>NaN</td>\n",
              "      <td>2010-08-02 18:22:47.767</td>\n",
              "      <td>0.0</td>\n",
              "      <td>-1</td>\n",
              "      <td>0.0</td>\n",
              "      <td>0.0</td>\n",
              "      <td>NaN</td>\n",
              "      <td>2008-07-31</td>\n",
              "      <td>176.0</td>\n",
              "      <td>5</td>\n",
              "    </tr>\n",
              "  </tbody>\n",
              "</table>\n",
              "</div>"
            ],
            "text/plain": [
              "        Id  PostTypeId  AcceptedAnswerId  ... CreationDateOfOwner  BodyWordNum  ith\n",
              "0  3609905           3               NaN  ...          2008-07-31         48.0    1\n",
              "1  3625049           3               NaN  ...          2008-07-31          8.0    2\n",
              "2  3625050           3               NaN  ...          2008-07-31          7.0    3\n",
              "3  3621159           3               NaN  ...          2008-07-31          0.0    4\n",
              "4  3625171           3               NaN  ...          2008-07-31        176.0    5\n",
              "\n",
              "[5 rows x 12 columns]"
            ]
          },
          "metadata": {
            "tags": []
          },
          "execution_count": 9
        }
      ]
    },
    {
      "cell_type": "code",
      "metadata": {
        "id": "Io6dWvNEC2RJ",
        "colab_type": "code",
        "outputId": "49f4807c-d3d8-4b3b-cdbe-7ce90be8b200",
        "colab": {
          "base_uri": "https://localhost:8080/",
          "height": 235
        }
      },
      "source": [
        "users_df.head(5)"
      ],
      "execution_count": 10,
      "outputs": [
        {
          "output_type": "execute_result",
          "data": {
            "text/html": [
              "<div>\n",
              "<style scoped>\n",
              "    .dataframe tbody tr th:only-of-type {\n",
              "        vertical-align: middle;\n",
              "    }\n",
              "\n",
              "    .dataframe tbody tr th {\n",
              "        vertical-align: top;\n",
              "    }\n",
              "\n",
              "    .dataframe thead th {\n",
              "        text-align: right;\n",
              "    }\n",
              "</style>\n",
              "<table border=\"1\" class=\"dataframe\">\n",
              "  <thead>\n",
              "    <tr style=\"text-align: right;\">\n",
              "      <th></th>\n",
              "      <th>Reputation</th>\n",
              "      <th>CreationDate</th>\n",
              "      <th>LastAccessDate</th>\n",
              "    </tr>\n",
              "    <tr>\n",
              "      <th>Id</th>\n",
              "      <th></th>\n",
              "      <th></th>\n",
              "      <th></th>\n",
              "    </tr>\n",
              "  </thead>\n",
              "  <tbody>\n",
              "    <tr>\n",
              "      <th>-1</th>\n",
              "      <td>1</td>\n",
              "      <td>2008-07-31 00:00:00.000</td>\n",
              "      <td>2008-08-26 00:16:53.810</td>\n",
              "    </tr>\n",
              "    <tr>\n",
              "      <th>1</th>\n",
              "      <td>47044</td>\n",
              "      <td>2008-07-31 14:22:31.287</td>\n",
              "      <td>2019-08-16 05:05:51.480</td>\n",
              "    </tr>\n",
              "    <tr>\n",
              "      <th>2</th>\n",
              "      <td>3677</td>\n",
              "      <td>2008-07-31 14:22:31.287</td>\n",
              "      <td>2019-08-29 19:51:51.283</td>\n",
              "    </tr>\n",
              "    <tr>\n",
              "      <th>3</th>\n",
              "      <td>13706</td>\n",
              "      <td>2008-07-31 14:22:31.287</td>\n",
              "      <td>2019-08-30 19:52:29.747</td>\n",
              "    </tr>\n",
              "    <tr>\n",
              "      <th>4</th>\n",
              "      <td>29608</td>\n",
              "      <td>2008-07-31 14:22:31.317</td>\n",
              "      <td>2019-08-11 05:08:53.910</td>\n",
              "    </tr>\n",
              "  </tbody>\n",
              "</table>\n",
              "</div>"
            ],
            "text/plain": [
              "    Reputation            CreationDate          LastAccessDate\n",
              "Id                                                            \n",
              "-1           1 2008-07-31 00:00:00.000 2008-08-26 00:16:53.810\n",
              " 1       47044 2008-07-31 14:22:31.287 2019-08-16 05:05:51.480\n",
              " 2        3677 2008-07-31 14:22:31.287 2019-08-29 19:51:51.283\n",
              " 3       13706 2008-07-31 14:22:31.287 2019-08-30 19:52:29.747\n",
              " 4       29608 2008-07-31 14:22:31.317 2019-08-11 05:08:53.910"
            ]
          },
          "metadata": {
            "tags": []
          },
          "execution_count": 10
        }
      ]
    },
    {
      "cell_type": "code",
      "metadata": {
        "colab_type": "code",
        "id": "azQSCsXHHAza",
        "colab": {}
      },
      "source": [
        "# Dataset in Task 1\n",
        "#   Posts: Extract K posts of each user\n",
        "#   Users: Extract users who post at least K\n",
        "\n",
        "\n",
        "def getTask1Posts(posts, K):\n",
        "    tmp = posts[posts['ith'] == K]['OwnerUserId'].to_frame()\n",
        "    tmp = tmp.set_index('OwnerUserId')\n",
        "    tmp = posts[posts['OwnerUserId'].isin(tmp.index)]\n",
        "    return tmp[tmp['ith'] <= K]\n",
        "\n",
        "\n",
        "def getTask1Users(users, posts, K):\n",
        "    users['num_posts'] = posts.groupby('OwnerUserId')['OwnerUserId'].count()\n",
        "    users = users[users['num_posts'] >= K]\n",
        "    return users\n"
      ],
      "execution_count": 0,
      "outputs": []
    },
    {
      "cell_type": "code",
      "metadata": {
        "colab_type": "code",
        "id": "xlsZBbM8ctQv",
        "colab": {}
      },
      "source": [
        "list_of_K = range(1, 21)\n",
        "users_of_task1, posts_of_task1 = {}, {}\n",
        "\n",
        "\n",
        "for K in list_of_K:\n",
        "    posts_of_task1[K] = getTask1Posts(posts_df, K)\n",
        "    users_of_task1[K] = getTask1Users(users_df, posts_df, K)"
      ],
      "execution_count": 0,
      "outputs": []
    },
    {
      "cell_type": "code",
      "metadata": {
        "colab_type": "code",
        "id": "OpHDgehj4gde",
        "outputId": "eb20a4d9-8648-417a-dc0f-c865e44e84ee",
        "colab": {
          "base_uri": "https://localhost:8080/",
          "height": 343
        }
      },
      "source": [
        "# Churn in Task 1\n",
        "#   Churners: Users who did not post for at least 6 months from their K-th post \n",
        "#   Stayers:  Users who created at least one post within the 6 months from their K-th post\n",
        "\n",
        "def prepareFeaturesTask1(users, posts, K):\n",
        "    tmp = posts[posts['ith']==K]['OwnerUserId'].to_frame()\n",
        "    tmp = tmp.set_index('OwnerUserId')\n",
        "    posts = posts[posts['OwnerUserId'].isin(tmp.index)]\n",
        "\n",
        "    posts_task = posts[posts['OwnerUserId'].isin(users.index)]\n",
        "    posts_Kth_time = posts_task[posts_task['ith']==K]\n",
        "    posts_Kth_time = posts_Kth_time.set_index('OwnerUserId')['CreationDate']\n",
        "    posts_deadline = posts_Kth_time + pd.tseries.offsets.DateOffset(months=6)\n",
        "    \n",
        "    posts_stayer = posts_task[posts_task['ith'] > K].groupby('OwnerUserId')['CreationDate'].min().to_frame()\n",
        "    posts_stayer = posts_stayer.merge(posts_deadline, on='OwnerUserId', how='left', suffixes=('_left', '_right'))\n",
        "    \n",
        "    posts_churner1 = posts_stayer[posts_stayer['CreationDate_left'] > posts_stayer['CreationDate_right']]\n",
        "    posts_churner1['is_churn'] = 1\n",
        "    posts_churner1 = posts_churner1[['is_churn']]\n",
        "    posts_stayer = posts_stayer[posts_stayer['CreationDate_left'] <= posts_stayer['CreationDate_right']]\n",
        "    posts_stayer['is_churn'] = 0    \n",
        "    posts_stayer = posts_stayer[['is_churn']]\n",
        "       \n",
        "    posts_churner2 = posts_task[posts_task['ith'] >= K].groupby('OwnerUserId').count()\n",
        "    posts_churner2 = posts_churner2[posts_churner2['CreationDate'] == 1][['CreationDate']]\n",
        "    posts_churner2['is_churn'] = 1\n",
        "    posts_churner2 = posts_churner2[['is_churn']]\n",
        "    \n",
        "    posts = pd.concat([posts_stayer, posts_churner1, posts_churner2])\n",
        "    posts = posts.rename(columns={'OwnerUserId': 'Id'})\n",
        "    users['is_churn'] = 0\n",
        "    users.update(posts)\n",
        "    return users\n",
        "\n",
        "features_of_task1 = {}\n",
        "\n",
        "for K in list_of_K:\n",
        "    features_of_task1[K] = prepareFeaturesTask1(users_of_task1[K], posts_df, K)\n",
        "  "
      ],
      "execution_count": 13,
      "outputs": [
        {
          "output_type": "stream",
          "text": [
            "/usr/local/lib/python3.6/dist-packages/ipykernel_launcher.py:16: SettingWithCopyWarning: \n",
            "A value is trying to be set on a copy of a slice from a DataFrame.\n",
            "Try using .loc[row_indexer,col_indexer] = value instead\n",
            "\n",
            "See the caveats in the documentation: http://pandas.pydata.org/pandas-docs/stable/indexing.html#indexing-view-versus-copy\n",
            "  app.launch_new_instance()\n",
            "/usr/local/lib/python3.6/dist-packages/ipykernel_launcher.py:29: SettingWithCopyWarning: \n",
            "A value is trying to be set on a copy of a slice from a DataFrame.\n",
            "Try using .loc[row_indexer,col_indexer] = value instead\n",
            "\n",
            "See the caveats in the documentation: http://pandas.pydata.org/pandas-docs/stable/indexing.html#indexing-view-versus-copy\n",
            "/usr/local/lib/python3.6/dist-packages/pandas/core/frame.py:5516: SettingWithCopyWarning: \n",
            "A value is trying to be set on a copy of a slice from a DataFrame.\n",
            "Try using .loc[row_indexer,col_indexer] = value instead\n",
            "\n",
            "See the caveats in the documentation: http://pandas.pydata.org/pandas-docs/stable/indexing.html#indexing-view-versus-copy\n",
            "  self[col] = expressions.where(mask, this, that)\n"
          ],
          "name": "stderr"
        }
      ]
    },
    {
      "cell_type": "code",
      "metadata": {
        "colab_type": "code",
        "id": "-Ln3Q7trGg06",
        "colab": {}
      },
      "source": [
        "# Dataset in Task 2\n",
        "#   Users: Extract users who post at least 1\n",
        "#   Posts: Extract posts which create before T day from the account creation of the owner\n",
        "\n",
        "def getCreationDateOfOwner(users, posts):\n",
        "    posts['DataframeIndex'] = posts.index\n",
        "    posts['CreationDateOfOwner'] = posts.set_index('OwnerUserId')\\\n",
        "            .join(users, how='inner', rsuffix='OfOwner')\\\n",
        "            .set_index('DataframeIndex')['CreationDateOfOwner']\n",
        "    posts = posts.drop(['DataframeIndex'], axis=1)\n",
        "    return posts['CreationDateOfOwner']\n",
        "\n",
        "  \n",
        "def getTask2Posts(users, posts, T):\n",
        "    if 'CreationDateOfUser' not in posts.columns:\n",
        "        posts['CreationDateOfOwner'] = getCreationDateOfOwner(users, posts)\n",
        "    observation_deadline = posts['CreationDateOfOwner'] + pd.offsets.Day(T)\n",
        "    posts = posts[posts['CreationDate'] <= observation_deadline]\n",
        "    return posts\n",
        "  \n",
        "def getTask2Users(users, posts):\n",
        "    users['num_posts'] = posts.groupby('OwnerUserId')['OwnerUserId'].count()\n",
        "    users = users[users['num_posts'] >= 1]\n",
        "    return users\n",
        "  \n",
        "list_of_T = [7, 15, 30]\n",
        "users_of_task2 = {}\n",
        "posts_of_task2 = {}\n",
        "\n",
        "for T in list_of_T:\n",
        "    posts_of_task2[T] = getTask2Posts(users_df, posts_df, T)\n",
        "    users_of_task2[T] = getTask2Users(users_df, posts_df)"
      ],
      "execution_count": 0,
      "outputs": []
    },
    {
      "cell_type": "markdown",
      "metadata": {
        "colab_type": "text",
        "id": "pYIvRp-nY8q-"
      },
      "source": [
        ""
      ]
    },
    {
      "cell_type": "code",
      "metadata": {
        "colab_type": "code",
        "id": "4KFrYJP0H8H8",
        "outputId": "77d5e972-75fe-4ef4-8bce-bb32eb9b7c1c",
        "colab": {
          "base_uri": "https://localhost:8080/",
          "height": 145
        }
      },
      "source": [
        "# Churn in Task2\n",
        "#   Churners: Users who did not post for at least 6 months from T days after account creation\n",
        "#   Stayers:  Users who created at least one post within the 6 months from T days after account creation\n",
        "\n",
        "def prepareFeaturesTask2(users, posts, T=30):\n",
        "    if 'CreationDateOfUser' not in posts.columns:\n",
        "        posts['CreationDateOfOwner'] = getCreationDateOfOwner(users, posts)\n",
        "    users = getTask1Users(users, posts, K=1)\n",
        "    observe_deadline = posts['CreationDateOfOwner'] + pd.offsets.Day(T)\n",
        "    churn_deadline = observe_deadline + pd.tseries.offsets.DateOffset(months=6)\n",
        "    posts_observed = posts[(posts['CreationDate'] <= observe_deadline) & (posts['CreationDate'] >= posts['CreationDateOfOwner'])]\n",
        "    posts_after_observe = posts[(posts['CreationDate'] <= churn_deadline) & (posts['CreationDate'] > observe_deadline)]\n",
        "    label_df = users.reindex((posts_observed.groupby('OwnerUserId')['OwnerUserId'].count() > 0).index)\n",
        "    stayers = (posts_after_observe.groupby('OwnerUserId')['OwnerUserId'].count() > 0).index\n",
        "    churners = list(set(label_df.index) - set(stayers))\n",
        "    label_df['is_churn'] = 0.\n",
        "    label_df.loc[churners, 'is_churn'] = 1.\n",
        "    return label_df\n",
        "\n",
        "features_of_task2 = {}\n",
        "for T in list_of_T:\n",
        "    features_of_task2[T] = prepareFeaturesTask2(users_of_task2[T], posts_df, T)\n"
      ],
      "execution_count": 15,
      "outputs": [
        {
          "output_type": "stream",
          "text": [
            "/usr/local/lib/python3.6/dist-packages/ipykernel_launcher.py:11: SettingWithCopyWarning: \n",
            "A value is trying to be set on a copy of a slice from a DataFrame.\n",
            "Try using .loc[row_indexer,col_indexer] = value instead\n",
            "\n",
            "See the caveats in the documentation: http://pandas.pydata.org/pandas-docs/stable/indexing.html#indexing-view-versus-copy\n",
            "  # This is added back by InteractiveShellApp.init_path()\n"
          ],
          "name": "stderr"
        }
      ]
    },
    {
      "cell_type": "markdown",
      "metadata": {
        "colab_type": "text",
        "id": "tTUabuRXIMeh"
      },
      "source": [
        "3. Extract features for each task"
      ]
    },
    {
      "cell_type": "markdown",
      "metadata": {
        "colab_type": "text",
        "id": "qeu0qyZjIVaW"
      },
      "source": [
        "3-1. Temporal features"
      ]
    },
    {
      "cell_type": "code",
      "metadata": {
        "colab_type": "code",
        "id": "1BwDqBD4H_my",
        "colab": {}
      },
      "source": [
        "# Temporal features 1: gap1\n",
        "def getTimeGap1OfUser(users, posts):\n",
        "    creation_date_user = users['CreationDate']\n",
        "    creation_date_first_post = posts.groupby('OwnerUserId')['CreationDate'].min()\n",
        "    return (creation_date_first_post - creation_date_user).dt.total_seconds()"
      ],
      "execution_count": 0,
      "outputs": []
    },
    {
      "cell_type": "code",
      "metadata": {
        "colab_type": "code",
        "id": "blqxv9rsIiFT",
        "colab": {}
      },
      "source": [
        "# Temporal features 2: gapK  (units: min)\n",
        "# k > 2\n",
        "def getTimeGapkOfPosts(posts, k):\n",
        "    date_1 = posts[posts['ith'] == (k-1)].sort_values('OwnerUserId')\n",
        "    date_2 = posts[posts['ith'] == k].sort_values('OwnerUserId')\n",
        "    date_2 = date_2.set_index('OwnerUserId')\n",
        "    date_1 = date_1.set_index('OwnerUserId')\n",
        "    result = (date_2['CreationDate'] - date_1['CreationDate']).dt.total_seconds() / 60  \n",
        "    return result"
      ],
      "execution_count": 0,
      "outputs": []
    },
    {
      "cell_type": "code",
      "metadata": {
        "colab_type": "code",
        "id": "lpApw_8FMA8O",
        "colab": {}
      },
      "source": [
        "# Temporal features 3: last_gap (units : min)\n",
        "def getTimeLastGapOfPosts(posts):\n",
        "    last_posts = posts.groupby('OwnerUserId')['CreationDate'].max().to_frame()\n",
        "    tmp = posts.join(last_posts, on='OwnerUserId', how='inner', lsuffix='F', rsuffix='P')\n",
        "    tmp = tmp[tmp['CreationDateF'] < tmp['CreationDateP']].groupby('OwnerUserId')['CreationDateF'].max().to_frame()\n",
        "    return (last_posts['CreationDate'] - tmp['CreationDateF']).dt.total_seconds() / 60"
      ],
      "execution_count": 0,
      "outputs": []
    },
    {
      "cell_type": "code",
      "metadata": {
        "colab_type": "code",
        "id": "RpmdwUxkMFdq",
        "colab": {}
      },
      "source": [
        "# Temporal features 4: time_since_last_post (units: min)\n",
        "def getTimeSinceLastPost(users, posts, T):\n",
        "    last_post_date = posts.groupby('OwnerUserId')['CreationDate'].max()\n",
        "    creation_after_T_days_date = users['CreationDate'] + pd.offsets.Day(T)\n",
        "    return (creation_after_T_days_date - last_post_date).dt.total_seconds() / 60\n"
      ],
      "execution_count": 0,
      "outputs": []
    },
    {
      "cell_type": "code",
      "metadata": {
        "colab_type": "code",
        "id": "PhBuCzYXMQ4A",
        "colab": {}
      },
      "source": [
        "# Temporal features 5: mean_gap\n",
        "def getTimeMeanGap(posts):\n",
        "    last_post_date = posts.groupby('OwnerUserId')['CreationDate'].max()\n",
        "    first_post_date = posts.groupby('OwnerUserId')['CreationDate'].min()\n",
        "    num_posts = posts.groupby('OwnerUserId')['CreationDate'].count()\n",
        "    return (last_post_date - first_post_date).dt.total_seconds() / 60 / num_posts\n"
      ],
      "execution_count": 0,
      "outputs": []
    },
    {
      "cell_type": "code",
      "metadata": {
        "colab_type": "code",
        "id": "wUa-4pyI96fP",
        "outputId": "359a0591-8460-4118-f48b-2b2d71f57274",
        "colab": {
          "base_uri": "https://localhost:8080/",
          "height": 1000
        }
      },
      "source": [
        "# Extract temporal features for task1\n",
        "for K in list_of_K:\n",
        "    features_of_task1[K]['gap1'] = getTimeGap1OfUser(users_of_task1[K], posts_of_task1[K])\n",
        "    for k in range(2, K+1):\n",
        "        features_of_task1[K]['gap{}'.format(k)] = getTimeGapkOfPosts(posts_of_task1[K], k)"
      ],
      "execution_count": 21,
      "outputs": [
        {
          "output_type": "stream",
          "text": [
            "/usr/local/lib/python3.6/dist-packages/ipykernel_launcher.py:2: SettingWithCopyWarning: \n",
            "A value is trying to be set on a copy of a slice from a DataFrame.\n",
            "Try using .loc[row_indexer,col_indexer] = value instead\n",
            "\n",
            "See the caveats in the documentation: http://pandas.pydata.org/pandas-docs/stable/indexing.html#indexing-view-versus-copy\n",
            "  \n",
            "/usr/local/lib/python3.6/dist-packages/ipykernel_launcher.py:4: SettingWithCopyWarning: \n",
            "A value is trying to be set on a copy of a slice from a DataFrame.\n",
            "Try using .loc[row_indexer,col_indexer] = value instead\n",
            "\n",
            "See the caveats in the documentation: http://pandas.pydata.org/pandas-docs/stable/indexing.html#indexing-view-versus-copy\n",
            "  after removing the cwd from sys.path.\n",
            "/usr/local/lib/python3.6/dist-packages/ipykernel_launcher.py:2: SettingWithCopyWarning: \n",
            "A value is trying to be set on a copy of a slice from a DataFrame.\n",
            "Try using .loc[row_indexer,col_indexer] = value instead\n",
            "\n",
            "See the caveats in the documentation: http://pandas.pydata.org/pandas-docs/stable/indexing.html#indexing-view-versus-copy\n",
            "  \n",
            "/usr/local/lib/python3.6/dist-packages/ipykernel_launcher.py:4: SettingWithCopyWarning: \n",
            "A value is trying to be set on a copy of a slice from a DataFrame.\n",
            "Try using .loc[row_indexer,col_indexer] = value instead\n",
            "\n",
            "See the caveats in the documentation: http://pandas.pydata.org/pandas-docs/stable/indexing.html#indexing-view-versus-copy\n",
            "  after removing the cwd from sys.path.\n",
            "/usr/local/lib/python3.6/dist-packages/ipykernel_launcher.py:4: SettingWithCopyWarning: \n",
            "A value is trying to be set on a copy of a slice from a DataFrame.\n",
            "Try using .loc[row_indexer,col_indexer] = value instead\n",
            "\n",
            "See the caveats in the documentation: http://pandas.pydata.org/pandas-docs/stable/indexing.html#indexing-view-versus-copy\n",
            "  after removing the cwd from sys.path.\n",
            "/usr/local/lib/python3.6/dist-packages/ipykernel_launcher.py:2: SettingWithCopyWarning: \n",
            "A value is trying to be set on a copy of a slice from a DataFrame.\n",
            "Try using .loc[row_indexer,col_indexer] = value instead\n",
            "\n",
            "See the caveats in the documentation: http://pandas.pydata.org/pandas-docs/stable/indexing.html#indexing-view-versus-copy\n",
            "  \n",
            "/usr/local/lib/python3.6/dist-packages/ipykernel_launcher.py:4: SettingWithCopyWarning: \n",
            "A value is trying to be set on a copy of a slice from a DataFrame.\n",
            "Try using .loc[row_indexer,col_indexer] = value instead\n",
            "\n",
            "See the caveats in the documentation: http://pandas.pydata.org/pandas-docs/stable/indexing.html#indexing-view-versus-copy\n",
            "  after removing the cwd from sys.path.\n",
            "/usr/local/lib/python3.6/dist-packages/ipykernel_launcher.py:4: SettingWithCopyWarning: \n",
            "A value is trying to be set on a copy of a slice from a DataFrame.\n",
            "Try using .loc[row_indexer,col_indexer] = value instead\n",
            "\n",
            "See the caveats in the documentation: http://pandas.pydata.org/pandas-docs/stable/indexing.html#indexing-view-versus-copy\n",
            "  after removing the cwd from sys.path.\n",
            "/usr/local/lib/python3.6/dist-packages/ipykernel_launcher.py:4: SettingWithCopyWarning: \n",
            "A value is trying to be set on a copy of a slice from a DataFrame.\n",
            "Try using .loc[row_indexer,col_indexer] = value instead\n",
            "\n",
            "See the caveats in the documentation: http://pandas.pydata.org/pandas-docs/stable/indexing.html#indexing-view-versus-copy\n",
            "  after removing the cwd from sys.path.\n",
            "/usr/local/lib/python3.6/dist-packages/ipykernel_launcher.py:2: SettingWithCopyWarning: \n",
            "A value is trying to be set on a copy of a slice from a DataFrame.\n",
            "Try using .loc[row_indexer,col_indexer] = value instead\n",
            "\n",
            "See the caveats in the documentation: http://pandas.pydata.org/pandas-docs/stable/indexing.html#indexing-view-versus-copy\n",
            "  \n",
            "/usr/local/lib/python3.6/dist-packages/ipykernel_launcher.py:4: SettingWithCopyWarning: \n",
            "A value is trying to be set on a copy of a slice from a DataFrame.\n",
            "Try using .loc[row_indexer,col_indexer] = value instead\n",
            "\n",
            "See the caveats in the documentation: http://pandas.pydata.org/pandas-docs/stable/indexing.html#indexing-view-versus-copy\n",
            "  after removing the cwd from sys.path.\n",
            "/usr/local/lib/python3.6/dist-packages/ipykernel_launcher.py:4: SettingWithCopyWarning: \n",
            "A value is trying to be set on a copy of a slice from a DataFrame.\n",
            "Try using .loc[row_indexer,col_indexer] = value instead\n",
            "\n",
            "See the caveats in the documentation: http://pandas.pydata.org/pandas-docs/stable/indexing.html#indexing-view-versus-copy\n",
            "  after removing the cwd from sys.path.\n",
            "/usr/local/lib/python3.6/dist-packages/ipykernel_launcher.py:4: SettingWithCopyWarning: \n",
            "A value is trying to be set on a copy of a slice from a DataFrame.\n",
            "Try using .loc[row_indexer,col_indexer] = value instead\n",
            "\n",
            "See the caveats in the documentation: http://pandas.pydata.org/pandas-docs/stable/indexing.html#indexing-view-versus-copy\n",
            "  after removing the cwd from sys.path.\n",
            "/usr/local/lib/python3.6/dist-packages/ipykernel_launcher.py:4: SettingWithCopyWarning: \n",
            "A value is trying to be set on a copy of a slice from a DataFrame.\n",
            "Try using .loc[row_indexer,col_indexer] = value instead\n",
            "\n",
            "See the caveats in the documentation: http://pandas.pydata.org/pandas-docs/stable/indexing.html#indexing-view-versus-copy\n",
            "  after removing the cwd from sys.path.\n",
            "/usr/local/lib/python3.6/dist-packages/ipykernel_launcher.py:2: SettingWithCopyWarning: \n",
            "A value is trying to be set on a copy of a slice from a DataFrame.\n",
            "Try using .loc[row_indexer,col_indexer] = value instead\n",
            "\n",
            "See the caveats in the documentation: http://pandas.pydata.org/pandas-docs/stable/indexing.html#indexing-view-versus-copy\n",
            "  \n",
            "/usr/local/lib/python3.6/dist-packages/ipykernel_launcher.py:4: SettingWithCopyWarning: \n",
            "A value is trying to be set on a copy of a slice from a DataFrame.\n",
            "Try using .loc[row_indexer,col_indexer] = value instead\n",
            "\n",
            "See the caveats in the documentation: http://pandas.pydata.org/pandas-docs/stable/indexing.html#indexing-view-versus-copy\n",
            "  after removing the cwd from sys.path.\n",
            "/usr/local/lib/python3.6/dist-packages/ipykernel_launcher.py:4: SettingWithCopyWarning: \n",
            "A value is trying to be set on a copy of a slice from a DataFrame.\n",
            "Try using .loc[row_indexer,col_indexer] = value instead\n",
            "\n",
            "See the caveats in the documentation: http://pandas.pydata.org/pandas-docs/stable/indexing.html#indexing-view-versus-copy\n",
            "  after removing the cwd from sys.path.\n",
            "/usr/local/lib/python3.6/dist-packages/ipykernel_launcher.py:4: SettingWithCopyWarning: \n",
            "A value is trying to be set on a copy of a slice from a DataFrame.\n",
            "Try using .loc[row_indexer,col_indexer] = value instead\n",
            "\n",
            "See the caveats in the documentation: http://pandas.pydata.org/pandas-docs/stable/indexing.html#indexing-view-versus-copy\n",
            "  after removing the cwd from sys.path.\n",
            "/usr/local/lib/python3.6/dist-packages/ipykernel_launcher.py:4: SettingWithCopyWarning: \n",
            "A value is trying to be set on a copy of a slice from a DataFrame.\n",
            "Try using .loc[row_indexer,col_indexer] = value instead\n",
            "\n",
            "See the caveats in the documentation: http://pandas.pydata.org/pandas-docs/stable/indexing.html#indexing-view-versus-copy\n",
            "  after removing the cwd from sys.path.\n",
            "/usr/local/lib/python3.6/dist-packages/ipykernel_launcher.py:4: SettingWithCopyWarning: \n",
            "A value is trying to be set on a copy of a slice from a DataFrame.\n",
            "Try using .loc[row_indexer,col_indexer] = value instead\n",
            "\n",
            "See the caveats in the documentation: http://pandas.pydata.org/pandas-docs/stable/indexing.html#indexing-view-versus-copy\n",
            "  after removing the cwd from sys.path.\n",
            "/usr/local/lib/python3.6/dist-packages/ipykernel_launcher.py:2: SettingWithCopyWarning: \n",
            "A value is trying to be set on a copy of a slice from a DataFrame.\n",
            "Try using .loc[row_indexer,col_indexer] = value instead\n",
            "\n",
            "See the caveats in the documentation: http://pandas.pydata.org/pandas-docs/stable/indexing.html#indexing-view-versus-copy\n",
            "  \n",
            "/usr/local/lib/python3.6/dist-packages/ipykernel_launcher.py:4: SettingWithCopyWarning: \n",
            "A value is trying to be set on a copy of a slice from a DataFrame.\n",
            "Try using .loc[row_indexer,col_indexer] = value instead\n",
            "\n",
            "See the caveats in the documentation: http://pandas.pydata.org/pandas-docs/stable/indexing.html#indexing-view-versus-copy\n",
            "  after removing the cwd from sys.path.\n",
            "/usr/local/lib/python3.6/dist-packages/ipykernel_launcher.py:4: SettingWithCopyWarning: \n",
            "A value is trying to be set on a copy of a slice from a DataFrame.\n",
            "Try using .loc[row_indexer,col_indexer] = value instead\n",
            "\n",
            "See the caveats in the documentation: http://pandas.pydata.org/pandas-docs/stable/indexing.html#indexing-view-versus-copy\n",
            "  after removing the cwd from sys.path.\n",
            "/usr/local/lib/python3.6/dist-packages/ipykernel_launcher.py:4: SettingWithCopyWarning: \n",
            "A value is trying to be set on a copy of a slice from a DataFrame.\n",
            "Try using .loc[row_indexer,col_indexer] = value instead\n",
            "\n",
            "See the caveats in the documentation: http://pandas.pydata.org/pandas-docs/stable/indexing.html#indexing-view-versus-copy\n",
            "  after removing the cwd from sys.path.\n",
            "/usr/local/lib/python3.6/dist-packages/ipykernel_launcher.py:4: SettingWithCopyWarning: \n",
            "A value is trying to be set on a copy of a slice from a DataFrame.\n",
            "Try using .loc[row_indexer,col_indexer] = value instead\n",
            "\n",
            "See the caveats in the documentation: http://pandas.pydata.org/pandas-docs/stable/indexing.html#indexing-view-versus-copy\n",
            "  after removing the cwd from sys.path.\n",
            "/usr/local/lib/python3.6/dist-packages/ipykernel_launcher.py:4: SettingWithCopyWarning: \n",
            "A value is trying to be set on a copy of a slice from a DataFrame.\n",
            "Try using .loc[row_indexer,col_indexer] = value instead\n",
            "\n",
            "See the caveats in the documentation: http://pandas.pydata.org/pandas-docs/stable/indexing.html#indexing-view-versus-copy\n",
            "  after removing the cwd from sys.path.\n",
            "/usr/local/lib/python3.6/dist-packages/ipykernel_launcher.py:4: SettingWithCopyWarning: \n",
            "A value is trying to be set on a copy of a slice from a DataFrame.\n",
            "Try using .loc[row_indexer,col_indexer] = value instead\n",
            "\n",
            "See the caveats in the documentation: http://pandas.pydata.org/pandas-docs/stable/indexing.html#indexing-view-versus-copy\n",
            "  after removing the cwd from sys.path.\n",
            "/usr/local/lib/python3.6/dist-packages/ipykernel_launcher.py:2: SettingWithCopyWarning: \n",
            "A value is trying to be set on a copy of a slice from a DataFrame.\n",
            "Try using .loc[row_indexer,col_indexer] = value instead\n",
            "\n",
            "See the caveats in the documentation: http://pandas.pydata.org/pandas-docs/stable/indexing.html#indexing-view-versus-copy\n",
            "  \n",
            "/usr/local/lib/python3.6/dist-packages/ipykernel_launcher.py:4: SettingWithCopyWarning: \n",
            "A value is trying to be set on a copy of a slice from a DataFrame.\n",
            "Try using .loc[row_indexer,col_indexer] = value instead\n",
            "\n",
            "See the caveats in the documentation: http://pandas.pydata.org/pandas-docs/stable/indexing.html#indexing-view-versus-copy\n",
            "  after removing the cwd from sys.path.\n",
            "/usr/local/lib/python3.6/dist-packages/ipykernel_launcher.py:4: SettingWithCopyWarning: \n",
            "A value is trying to be set on a copy of a slice from a DataFrame.\n",
            "Try using .loc[row_indexer,col_indexer] = value instead\n",
            "\n",
            "See the caveats in the documentation: http://pandas.pydata.org/pandas-docs/stable/indexing.html#indexing-view-versus-copy\n",
            "  after removing the cwd from sys.path.\n",
            "/usr/local/lib/python3.6/dist-packages/ipykernel_launcher.py:4: SettingWithCopyWarning: \n",
            "A value is trying to be set on a copy of a slice from a DataFrame.\n",
            "Try using .loc[row_indexer,col_indexer] = value instead\n",
            "\n",
            "See the caveats in the documentation: http://pandas.pydata.org/pandas-docs/stable/indexing.html#indexing-view-versus-copy\n",
            "  after removing the cwd from sys.path.\n",
            "/usr/local/lib/python3.6/dist-packages/ipykernel_launcher.py:4: SettingWithCopyWarning: \n",
            "A value is trying to be set on a copy of a slice from a DataFrame.\n",
            "Try using .loc[row_indexer,col_indexer] = value instead\n",
            "\n",
            "See the caveats in the documentation: http://pandas.pydata.org/pandas-docs/stable/indexing.html#indexing-view-versus-copy\n",
            "  after removing the cwd from sys.path.\n",
            "/usr/local/lib/python3.6/dist-packages/ipykernel_launcher.py:4: SettingWithCopyWarning: \n",
            "A value is trying to be set on a copy of a slice from a DataFrame.\n",
            "Try using .loc[row_indexer,col_indexer] = value instead\n",
            "\n",
            "See the caveats in the documentation: http://pandas.pydata.org/pandas-docs/stable/indexing.html#indexing-view-versus-copy\n",
            "  after removing the cwd from sys.path.\n",
            "/usr/local/lib/python3.6/dist-packages/ipykernel_launcher.py:4: SettingWithCopyWarning: \n",
            "A value is trying to be set on a copy of a slice from a DataFrame.\n",
            "Try using .loc[row_indexer,col_indexer] = value instead\n",
            "\n",
            "See the caveats in the documentation: http://pandas.pydata.org/pandas-docs/stable/indexing.html#indexing-view-versus-copy\n",
            "  after removing the cwd from sys.path.\n",
            "/usr/local/lib/python3.6/dist-packages/ipykernel_launcher.py:4: SettingWithCopyWarning: \n",
            "A value is trying to be set on a copy of a slice from a DataFrame.\n",
            "Try using .loc[row_indexer,col_indexer] = value instead\n",
            "\n",
            "See the caveats in the documentation: http://pandas.pydata.org/pandas-docs/stable/indexing.html#indexing-view-versus-copy\n",
            "  after removing the cwd from sys.path.\n",
            "/usr/local/lib/python3.6/dist-packages/ipykernel_launcher.py:2: SettingWithCopyWarning: \n",
            "A value is trying to be set on a copy of a slice from a DataFrame.\n",
            "Try using .loc[row_indexer,col_indexer] = value instead\n",
            "\n",
            "See the caveats in the documentation: http://pandas.pydata.org/pandas-docs/stable/indexing.html#indexing-view-versus-copy\n",
            "  \n",
            "/usr/local/lib/python3.6/dist-packages/ipykernel_launcher.py:4: SettingWithCopyWarning: \n",
            "A value is trying to be set on a copy of a slice from a DataFrame.\n",
            "Try using .loc[row_indexer,col_indexer] = value instead\n",
            "\n",
            "See the caveats in the documentation: http://pandas.pydata.org/pandas-docs/stable/indexing.html#indexing-view-versus-copy\n",
            "  after removing the cwd from sys.path.\n",
            "/usr/local/lib/python3.6/dist-packages/ipykernel_launcher.py:4: SettingWithCopyWarning: \n",
            "A value is trying to be set on a copy of a slice from a DataFrame.\n",
            "Try using .loc[row_indexer,col_indexer] = value instead\n",
            "\n",
            "See the caveats in the documentation: http://pandas.pydata.org/pandas-docs/stable/indexing.html#indexing-view-versus-copy\n",
            "  after removing the cwd from sys.path.\n",
            "/usr/local/lib/python3.6/dist-packages/ipykernel_launcher.py:4: SettingWithCopyWarning: \n",
            "A value is trying to be set on a copy of a slice from a DataFrame.\n",
            "Try using .loc[row_indexer,col_indexer] = value instead\n",
            "\n",
            "See the caveats in the documentation: http://pandas.pydata.org/pandas-docs/stable/indexing.html#indexing-view-versus-copy\n",
            "  after removing the cwd from sys.path.\n",
            "/usr/local/lib/python3.6/dist-packages/ipykernel_launcher.py:4: SettingWithCopyWarning: \n",
            "A value is trying to be set on a copy of a slice from a DataFrame.\n",
            "Try using .loc[row_indexer,col_indexer] = value instead\n",
            "\n",
            "See the caveats in the documentation: http://pandas.pydata.org/pandas-docs/stable/indexing.html#indexing-view-versus-copy\n",
            "  after removing the cwd from sys.path.\n",
            "/usr/local/lib/python3.6/dist-packages/ipykernel_launcher.py:4: SettingWithCopyWarning: \n",
            "A value is trying to be set on a copy of a slice from a DataFrame.\n",
            "Try using .loc[row_indexer,col_indexer] = value instead\n",
            "\n",
            "See the caveats in the documentation: http://pandas.pydata.org/pandas-docs/stable/indexing.html#indexing-view-versus-copy\n",
            "  after removing the cwd from sys.path.\n",
            "/usr/local/lib/python3.6/dist-packages/ipykernel_launcher.py:4: SettingWithCopyWarning: \n",
            "A value is trying to be set on a copy of a slice from a DataFrame.\n",
            "Try using .loc[row_indexer,col_indexer] = value instead\n",
            "\n",
            "See the caveats in the documentation: http://pandas.pydata.org/pandas-docs/stable/indexing.html#indexing-view-versus-copy\n",
            "  after removing the cwd from sys.path.\n",
            "/usr/local/lib/python3.6/dist-packages/ipykernel_launcher.py:4: SettingWithCopyWarning: \n",
            "A value is trying to be set on a copy of a slice from a DataFrame.\n",
            "Try using .loc[row_indexer,col_indexer] = value instead\n",
            "\n",
            "See the caveats in the documentation: http://pandas.pydata.org/pandas-docs/stable/indexing.html#indexing-view-versus-copy\n",
            "  after removing the cwd from sys.path.\n",
            "/usr/local/lib/python3.6/dist-packages/ipykernel_launcher.py:4: SettingWithCopyWarning: \n",
            "A value is trying to be set on a copy of a slice from a DataFrame.\n",
            "Try using .loc[row_indexer,col_indexer] = value instead\n",
            "\n",
            "See the caveats in the documentation: http://pandas.pydata.org/pandas-docs/stable/indexing.html#indexing-view-versus-copy\n",
            "  after removing the cwd from sys.path.\n",
            "/usr/local/lib/python3.6/dist-packages/ipykernel_launcher.py:2: SettingWithCopyWarning: \n",
            "A value is trying to be set on a copy of a slice from a DataFrame.\n",
            "Try using .loc[row_indexer,col_indexer] = value instead\n",
            "\n",
            "See the caveats in the documentation: http://pandas.pydata.org/pandas-docs/stable/indexing.html#indexing-view-versus-copy\n",
            "  \n",
            "/usr/local/lib/python3.6/dist-packages/ipykernel_launcher.py:4: SettingWithCopyWarning: \n",
            "A value is trying to be set on a copy of a slice from a DataFrame.\n",
            "Try using .loc[row_indexer,col_indexer] = value instead\n",
            "\n",
            "See the caveats in the documentation: http://pandas.pydata.org/pandas-docs/stable/indexing.html#indexing-view-versus-copy\n",
            "  after removing the cwd from sys.path.\n",
            "/usr/local/lib/python3.6/dist-packages/ipykernel_launcher.py:4: SettingWithCopyWarning: \n",
            "A value is trying to be set on a copy of a slice from a DataFrame.\n",
            "Try using .loc[row_indexer,col_indexer] = value instead\n",
            "\n",
            "See the caveats in the documentation: http://pandas.pydata.org/pandas-docs/stable/indexing.html#indexing-view-versus-copy\n",
            "  after removing the cwd from sys.path.\n",
            "/usr/local/lib/python3.6/dist-packages/ipykernel_launcher.py:4: SettingWithCopyWarning: \n",
            "A value is trying to be set on a copy of a slice from a DataFrame.\n",
            "Try using .loc[row_indexer,col_indexer] = value instead\n",
            "\n",
            "See the caveats in the documentation: http://pandas.pydata.org/pandas-docs/stable/indexing.html#indexing-view-versus-copy\n",
            "  after removing the cwd from sys.path.\n",
            "/usr/local/lib/python3.6/dist-packages/ipykernel_launcher.py:4: SettingWithCopyWarning: \n",
            "A value is trying to be set on a copy of a slice from a DataFrame.\n",
            "Try using .loc[row_indexer,col_indexer] = value instead\n",
            "\n",
            "See the caveats in the documentation: http://pandas.pydata.org/pandas-docs/stable/indexing.html#indexing-view-versus-copy\n",
            "  after removing the cwd from sys.path.\n",
            "/usr/local/lib/python3.6/dist-packages/ipykernel_launcher.py:4: SettingWithCopyWarning: \n",
            "A value is trying to be set on a copy of a slice from a DataFrame.\n",
            "Try using .loc[row_indexer,col_indexer] = value instead\n",
            "\n",
            "See the caveats in the documentation: http://pandas.pydata.org/pandas-docs/stable/indexing.html#indexing-view-versus-copy\n",
            "  after removing the cwd from sys.path.\n",
            "/usr/local/lib/python3.6/dist-packages/ipykernel_launcher.py:4: SettingWithCopyWarning: \n",
            "A value is trying to be set on a copy of a slice from a DataFrame.\n",
            "Try using .loc[row_indexer,col_indexer] = value instead\n",
            "\n",
            "See the caveats in the documentation: http://pandas.pydata.org/pandas-docs/stable/indexing.html#indexing-view-versus-copy\n",
            "  after removing the cwd from sys.path.\n",
            "/usr/local/lib/python3.6/dist-packages/ipykernel_launcher.py:4: SettingWithCopyWarning: \n",
            "A value is trying to be set on a copy of a slice from a DataFrame.\n",
            "Try using .loc[row_indexer,col_indexer] = value instead\n",
            "\n",
            "See the caveats in the documentation: http://pandas.pydata.org/pandas-docs/stable/indexing.html#indexing-view-versus-copy\n",
            "  after removing the cwd from sys.path.\n",
            "/usr/local/lib/python3.6/dist-packages/ipykernel_launcher.py:4: SettingWithCopyWarning: \n",
            "A value is trying to be set on a copy of a slice from a DataFrame.\n",
            "Try using .loc[row_indexer,col_indexer] = value instead\n",
            "\n",
            "See the caveats in the documentation: http://pandas.pydata.org/pandas-docs/stable/indexing.html#indexing-view-versus-copy\n",
            "  after removing the cwd from sys.path.\n",
            "/usr/local/lib/python3.6/dist-packages/ipykernel_launcher.py:4: SettingWithCopyWarning: \n",
            "A value is trying to be set on a copy of a slice from a DataFrame.\n",
            "Try using .loc[row_indexer,col_indexer] = value instead\n",
            "\n",
            "See the caveats in the documentation: http://pandas.pydata.org/pandas-docs/stable/indexing.html#indexing-view-versus-copy\n",
            "  after removing the cwd from sys.path.\n",
            "/usr/local/lib/python3.6/dist-packages/ipykernel_launcher.py:2: SettingWithCopyWarning: \n",
            "A value is trying to be set on a copy of a slice from a DataFrame.\n",
            "Try using .loc[row_indexer,col_indexer] = value instead\n",
            "\n",
            "See the caveats in the documentation: http://pandas.pydata.org/pandas-docs/stable/indexing.html#indexing-view-versus-copy\n",
            "  \n",
            "/usr/local/lib/python3.6/dist-packages/ipykernel_launcher.py:4: SettingWithCopyWarning: \n",
            "A value is trying to be set on a copy of a slice from a DataFrame.\n",
            "Try using .loc[row_indexer,col_indexer] = value instead\n",
            "\n",
            "See the caveats in the documentation: http://pandas.pydata.org/pandas-docs/stable/indexing.html#indexing-view-versus-copy\n",
            "  after removing the cwd from sys.path.\n",
            "/usr/local/lib/python3.6/dist-packages/ipykernel_launcher.py:4: SettingWithCopyWarning: \n",
            "A value is trying to be set on a copy of a slice from a DataFrame.\n",
            "Try using .loc[row_indexer,col_indexer] = value instead\n",
            "\n",
            "See the caveats in the documentation: http://pandas.pydata.org/pandas-docs/stable/indexing.html#indexing-view-versus-copy\n",
            "  after removing the cwd from sys.path.\n",
            "/usr/local/lib/python3.6/dist-packages/ipykernel_launcher.py:4: SettingWithCopyWarning: \n",
            "A value is trying to be set on a copy of a slice from a DataFrame.\n",
            "Try using .loc[row_indexer,col_indexer] = value instead\n",
            "\n",
            "See the caveats in the documentation: http://pandas.pydata.org/pandas-docs/stable/indexing.html#indexing-view-versus-copy\n",
            "  after removing the cwd from sys.path.\n",
            "/usr/local/lib/python3.6/dist-packages/ipykernel_launcher.py:4: SettingWithCopyWarning: \n",
            "A value is trying to be set on a copy of a slice from a DataFrame.\n",
            "Try using .loc[row_indexer,col_indexer] = value instead\n",
            "\n",
            "See the caveats in the documentation: http://pandas.pydata.org/pandas-docs/stable/indexing.html#indexing-view-versus-copy\n",
            "  after removing the cwd from sys.path.\n",
            "/usr/local/lib/python3.6/dist-packages/ipykernel_launcher.py:4: SettingWithCopyWarning: \n",
            "A value is trying to be set on a copy of a slice from a DataFrame.\n",
            "Try using .loc[row_indexer,col_indexer] = value instead\n",
            "\n",
            "See the caveats in the documentation: http://pandas.pydata.org/pandas-docs/stable/indexing.html#indexing-view-versus-copy\n",
            "  after removing the cwd from sys.path.\n",
            "/usr/local/lib/python3.6/dist-packages/ipykernel_launcher.py:4: SettingWithCopyWarning: \n",
            "A value is trying to be set on a copy of a slice from a DataFrame.\n",
            "Try using .loc[row_indexer,col_indexer] = value instead\n",
            "\n",
            "See the caveats in the documentation: http://pandas.pydata.org/pandas-docs/stable/indexing.html#indexing-view-versus-copy\n",
            "  after removing the cwd from sys.path.\n",
            "/usr/local/lib/python3.6/dist-packages/ipykernel_launcher.py:4: SettingWithCopyWarning: \n",
            "A value is trying to be set on a copy of a slice from a DataFrame.\n",
            "Try using .loc[row_indexer,col_indexer] = value instead\n",
            "\n",
            "See the caveats in the documentation: http://pandas.pydata.org/pandas-docs/stable/indexing.html#indexing-view-versus-copy\n",
            "  after removing the cwd from sys.path.\n",
            "/usr/local/lib/python3.6/dist-packages/ipykernel_launcher.py:4: SettingWithCopyWarning: \n",
            "A value is trying to be set on a copy of a slice from a DataFrame.\n",
            "Try using .loc[row_indexer,col_indexer] = value instead\n",
            "\n",
            "See the caveats in the documentation: http://pandas.pydata.org/pandas-docs/stable/indexing.html#indexing-view-versus-copy\n",
            "  after removing the cwd from sys.path.\n",
            "/usr/local/lib/python3.6/dist-packages/ipykernel_launcher.py:4: SettingWithCopyWarning: \n",
            "A value is trying to be set on a copy of a slice from a DataFrame.\n",
            "Try using .loc[row_indexer,col_indexer] = value instead\n",
            "\n",
            "See the caveats in the documentation: http://pandas.pydata.org/pandas-docs/stable/indexing.html#indexing-view-versus-copy\n",
            "  after removing the cwd from sys.path.\n",
            "/usr/local/lib/python3.6/dist-packages/ipykernel_launcher.py:4: SettingWithCopyWarning: \n",
            "A value is trying to be set on a copy of a slice from a DataFrame.\n",
            "Try using .loc[row_indexer,col_indexer] = value instead\n",
            "\n",
            "See the caveats in the documentation: http://pandas.pydata.org/pandas-docs/stable/indexing.html#indexing-view-versus-copy\n",
            "  after removing the cwd from sys.path.\n",
            "/usr/local/lib/python3.6/dist-packages/ipykernel_launcher.py:2: SettingWithCopyWarning: \n",
            "A value is trying to be set on a copy of a slice from a DataFrame.\n",
            "Try using .loc[row_indexer,col_indexer] = value instead\n",
            "\n",
            "See the caveats in the documentation: http://pandas.pydata.org/pandas-docs/stable/indexing.html#indexing-view-versus-copy\n",
            "  \n",
            "/usr/local/lib/python3.6/dist-packages/ipykernel_launcher.py:4: SettingWithCopyWarning: \n",
            "A value is trying to be set on a copy of a slice from a DataFrame.\n",
            "Try using .loc[row_indexer,col_indexer] = value instead\n",
            "\n",
            "See the caveats in the documentation: http://pandas.pydata.org/pandas-docs/stable/indexing.html#indexing-view-versus-copy\n",
            "  after removing the cwd from sys.path.\n",
            "/usr/local/lib/python3.6/dist-packages/ipykernel_launcher.py:4: SettingWithCopyWarning: \n",
            "A value is trying to be set on a copy of a slice from a DataFrame.\n",
            "Try using .loc[row_indexer,col_indexer] = value instead\n",
            "\n",
            "See the caveats in the documentation: http://pandas.pydata.org/pandas-docs/stable/indexing.html#indexing-view-versus-copy\n",
            "  after removing the cwd from sys.path.\n",
            "/usr/local/lib/python3.6/dist-packages/ipykernel_launcher.py:4: SettingWithCopyWarning: \n",
            "A value is trying to be set on a copy of a slice from a DataFrame.\n",
            "Try using .loc[row_indexer,col_indexer] = value instead\n",
            "\n",
            "See the caveats in the documentation: http://pandas.pydata.org/pandas-docs/stable/indexing.html#indexing-view-versus-copy\n",
            "  after removing the cwd from sys.path.\n",
            "/usr/local/lib/python3.6/dist-packages/ipykernel_launcher.py:4: SettingWithCopyWarning: \n",
            "A value is trying to be set on a copy of a slice from a DataFrame.\n",
            "Try using .loc[row_indexer,col_indexer] = value instead\n",
            "\n",
            "See the caveats in the documentation: http://pandas.pydata.org/pandas-docs/stable/indexing.html#indexing-view-versus-copy\n",
            "  after removing the cwd from sys.path.\n",
            "/usr/local/lib/python3.6/dist-packages/ipykernel_launcher.py:4: SettingWithCopyWarning: \n",
            "A value is trying to be set on a copy of a slice from a DataFrame.\n",
            "Try using .loc[row_indexer,col_indexer] = value instead\n",
            "\n",
            "See the caveats in the documentation: http://pandas.pydata.org/pandas-docs/stable/indexing.html#indexing-view-versus-copy\n",
            "  after removing the cwd from sys.path.\n",
            "/usr/local/lib/python3.6/dist-packages/ipykernel_launcher.py:4: SettingWithCopyWarning: \n",
            "A value is trying to be set on a copy of a slice from a DataFrame.\n",
            "Try using .loc[row_indexer,col_indexer] = value instead\n",
            "\n",
            "See the caveats in the documentation: http://pandas.pydata.org/pandas-docs/stable/indexing.html#indexing-view-versus-copy\n",
            "  after removing the cwd from sys.path.\n",
            "/usr/local/lib/python3.6/dist-packages/ipykernel_launcher.py:4: SettingWithCopyWarning: \n",
            "A value is trying to be set on a copy of a slice from a DataFrame.\n",
            "Try using .loc[row_indexer,col_indexer] = value instead\n",
            "\n",
            "See the caveats in the documentation: http://pandas.pydata.org/pandas-docs/stable/indexing.html#indexing-view-versus-copy\n",
            "  after removing the cwd from sys.path.\n",
            "/usr/local/lib/python3.6/dist-packages/ipykernel_launcher.py:4: SettingWithCopyWarning: \n",
            "A value is trying to be set on a copy of a slice from a DataFrame.\n",
            "Try using .loc[row_indexer,col_indexer] = value instead\n",
            "\n",
            "See the caveats in the documentation: http://pandas.pydata.org/pandas-docs/stable/indexing.html#indexing-view-versus-copy\n",
            "  after removing the cwd from sys.path.\n",
            "/usr/local/lib/python3.6/dist-packages/ipykernel_launcher.py:4: SettingWithCopyWarning: \n",
            "A value is trying to be set on a copy of a slice from a DataFrame.\n",
            "Try using .loc[row_indexer,col_indexer] = value instead\n",
            "\n",
            "See the caveats in the documentation: http://pandas.pydata.org/pandas-docs/stable/indexing.html#indexing-view-versus-copy\n",
            "  after removing the cwd from sys.path.\n",
            "/usr/local/lib/python3.6/dist-packages/ipykernel_launcher.py:4: SettingWithCopyWarning: \n",
            "A value is trying to be set on a copy of a slice from a DataFrame.\n",
            "Try using .loc[row_indexer,col_indexer] = value instead\n",
            "\n",
            "See the caveats in the documentation: http://pandas.pydata.org/pandas-docs/stable/indexing.html#indexing-view-versus-copy\n",
            "  after removing the cwd from sys.path.\n",
            "/usr/local/lib/python3.6/dist-packages/ipykernel_launcher.py:4: SettingWithCopyWarning: \n",
            "A value is trying to be set on a copy of a slice from a DataFrame.\n",
            "Try using .loc[row_indexer,col_indexer] = value instead\n",
            "\n",
            "See the caveats in the documentation: http://pandas.pydata.org/pandas-docs/stable/indexing.html#indexing-view-versus-copy\n",
            "  after removing the cwd from sys.path.\n",
            "/usr/local/lib/python3.6/dist-packages/ipykernel_launcher.py:2: SettingWithCopyWarning: \n",
            "A value is trying to be set on a copy of a slice from a DataFrame.\n",
            "Try using .loc[row_indexer,col_indexer] = value instead\n",
            "\n",
            "See the caveats in the documentation: http://pandas.pydata.org/pandas-docs/stable/indexing.html#indexing-view-versus-copy\n",
            "  \n",
            "/usr/local/lib/python3.6/dist-packages/ipykernel_launcher.py:4: SettingWithCopyWarning: \n",
            "A value is trying to be set on a copy of a slice from a DataFrame.\n",
            "Try using .loc[row_indexer,col_indexer] = value instead\n",
            "\n",
            "See the caveats in the documentation: http://pandas.pydata.org/pandas-docs/stable/indexing.html#indexing-view-versus-copy\n",
            "  after removing the cwd from sys.path.\n",
            "/usr/local/lib/python3.6/dist-packages/ipykernel_launcher.py:4: SettingWithCopyWarning: \n",
            "A value is trying to be set on a copy of a slice from a DataFrame.\n",
            "Try using .loc[row_indexer,col_indexer] = value instead\n",
            "\n",
            "See the caveats in the documentation: http://pandas.pydata.org/pandas-docs/stable/indexing.html#indexing-view-versus-copy\n",
            "  after removing the cwd from sys.path.\n",
            "/usr/local/lib/python3.6/dist-packages/ipykernel_launcher.py:4: SettingWithCopyWarning: \n",
            "A value is trying to be set on a copy of a slice from a DataFrame.\n",
            "Try using .loc[row_indexer,col_indexer] = value instead\n",
            "\n",
            "See the caveats in the documentation: http://pandas.pydata.org/pandas-docs/stable/indexing.html#indexing-view-versus-copy\n",
            "  after removing the cwd from sys.path.\n",
            "/usr/local/lib/python3.6/dist-packages/ipykernel_launcher.py:4: SettingWithCopyWarning: \n",
            "A value is trying to be set on a copy of a slice from a DataFrame.\n",
            "Try using .loc[row_indexer,col_indexer] = value instead\n",
            "\n",
            "See the caveats in the documentation: http://pandas.pydata.org/pandas-docs/stable/indexing.html#indexing-view-versus-copy\n",
            "  after removing the cwd from sys.path.\n",
            "/usr/local/lib/python3.6/dist-packages/ipykernel_launcher.py:4: SettingWithCopyWarning: \n",
            "A value is trying to be set on a copy of a slice from a DataFrame.\n",
            "Try using .loc[row_indexer,col_indexer] = value instead\n",
            "\n",
            "See the caveats in the documentation: http://pandas.pydata.org/pandas-docs/stable/indexing.html#indexing-view-versus-copy\n",
            "  after removing the cwd from sys.path.\n",
            "/usr/local/lib/python3.6/dist-packages/ipykernel_launcher.py:4: SettingWithCopyWarning: \n",
            "A value is trying to be set on a copy of a slice from a DataFrame.\n",
            "Try using .loc[row_indexer,col_indexer] = value instead\n",
            "\n",
            "See the caveats in the documentation: http://pandas.pydata.org/pandas-docs/stable/indexing.html#indexing-view-versus-copy\n",
            "  after removing the cwd from sys.path.\n",
            "/usr/local/lib/python3.6/dist-packages/ipykernel_launcher.py:4: SettingWithCopyWarning: \n",
            "A value is trying to be set on a copy of a slice from a DataFrame.\n",
            "Try using .loc[row_indexer,col_indexer] = value instead\n",
            "\n",
            "See the caveats in the documentation: http://pandas.pydata.org/pandas-docs/stable/indexing.html#indexing-view-versus-copy\n",
            "  after removing the cwd from sys.path.\n",
            "/usr/local/lib/python3.6/dist-packages/ipykernel_launcher.py:4: SettingWithCopyWarning: \n",
            "A value is trying to be set on a copy of a slice from a DataFrame.\n",
            "Try using .loc[row_indexer,col_indexer] = value instead\n",
            "\n",
            "See the caveats in the documentation: http://pandas.pydata.org/pandas-docs/stable/indexing.html#indexing-view-versus-copy\n",
            "  after removing the cwd from sys.path.\n",
            "/usr/local/lib/python3.6/dist-packages/ipykernel_launcher.py:4: SettingWithCopyWarning: \n",
            "A value is trying to be set on a copy of a slice from a DataFrame.\n",
            "Try using .loc[row_indexer,col_indexer] = value instead\n",
            "\n",
            "See the caveats in the documentation: http://pandas.pydata.org/pandas-docs/stable/indexing.html#indexing-view-versus-copy\n",
            "  after removing the cwd from sys.path.\n",
            "/usr/local/lib/python3.6/dist-packages/ipykernel_launcher.py:4: SettingWithCopyWarning: \n",
            "A value is trying to be set on a copy of a slice from a DataFrame.\n",
            "Try using .loc[row_indexer,col_indexer] = value instead\n",
            "\n",
            "See the caveats in the documentation: http://pandas.pydata.org/pandas-docs/stable/indexing.html#indexing-view-versus-copy\n",
            "  after removing the cwd from sys.path.\n",
            "/usr/local/lib/python3.6/dist-packages/ipykernel_launcher.py:4: SettingWithCopyWarning: \n",
            "A value is trying to be set on a copy of a slice from a DataFrame.\n",
            "Try using .loc[row_indexer,col_indexer] = value instead\n",
            "\n",
            "See the caveats in the documentation: http://pandas.pydata.org/pandas-docs/stable/indexing.html#indexing-view-versus-copy\n",
            "  after removing the cwd from sys.path.\n",
            "/usr/local/lib/python3.6/dist-packages/ipykernel_launcher.py:4: SettingWithCopyWarning: \n",
            "A value is trying to be set on a copy of a slice from a DataFrame.\n",
            "Try using .loc[row_indexer,col_indexer] = value instead\n",
            "\n",
            "See the caveats in the documentation: http://pandas.pydata.org/pandas-docs/stable/indexing.html#indexing-view-versus-copy\n",
            "  after removing the cwd from sys.path.\n",
            "/usr/local/lib/python3.6/dist-packages/ipykernel_launcher.py:2: SettingWithCopyWarning: \n",
            "A value is trying to be set on a copy of a slice from a DataFrame.\n",
            "Try using .loc[row_indexer,col_indexer] = value instead\n",
            "\n",
            "See the caveats in the documentation: http://pandas.pydata.org/pandas-docs/stable/indexing.html#indexing-view-versus-copy\n",
            "  \n",
            "/usr/local/lib/python3.6/dist-packages/ipykernel_launcher.py:4: SettingWithCopyWarning: \n",
            "A value is trying to be set on a copy of a slice from a DataFrame.\n",
            "Try using .loc[row_indexer,col_indexer] = value instead\n",
            "\n",
            "See the caveats in the documentation: http://pandas.pydata.org/pandas-docs/stable/indexing.html#indexing-view-versus-copy\n",
            "  after removing the cwd from sys.path.\n",
            "/usr/local/lib/python3.6/dist-packages/ipykernel_launcher.py:4: SettingWithCopyWarning: \n",
            "A value is trying to be set on a copy of a slice from a DataFrame.\n",
            "Try using .loc[row_indexer,col_indexer] = value instead\n",
            "\n",
            "See the caveats in the documentation: http://pandas.pydata.org/pandas-docs/stable/indexing.html#indexing-view-versus-copy\n",
            "  after removing the cwd from sys.path.\n",
            "/usr/local/lib/python3.6/dist-packages/ipykernel_launcher.py:4: SettingWithCopyWarning: \n",
            "A value is trying to be set on a copy of a slice from a DataFrame.\n",
            "Try using .loc[row_indexer,col_indexer] = value instead\n",
            "\n",
            "See the caveats in the documentation: http://pandas.pydata.org/pandas-docs/stable/indexing.html#indexing-view-versus-copy\n",
            "  after removing the cwd from sys.path.\n",
            "/usr/local/lib/python3.6/dist-packages/ipykernel_launcher.py:4: SettingWithCopyWarning: \n",
            "A value is trying to be set on a copy of a slice from a DataFrame.\n",
            "Try using .loc[row_indexer,col_indexer] = value instead\n",
            "\n",
            "See the caveats in the documentation: http://pandas.pydata.org/pandas-docs/stable/indexing.html#indexing-view-versus-copy\n",
            "  after removing the cwd from sys.path.\n",
            "/usr/local/lib/python3.6/dist-packages/ipykernel_launcher.py:4: SettingWithCopyWarning: \n",
            "A value is trying to be set on a copy of a slice from a DataFrame.\n",
            "Try using .loc[row_indexer,col_indexer] = value instead\n",
            "\n",
            "See the caveats in the documentation: http://pandas.pydata.org/pandas-docs/stable/indexing.html#indexing-view-versus-copy\n",
            "  after removing the cwd from sys.path.\n",
            "/usr/local/lib/python3.6/dist-packages/ipykernel_launcher.py:4: SettingWithCopyWarning: \n",
            "A value is trying to be set on a copy of a slice from a DataFrame.\n",
            "Try using .loc[row_indexer,col_indexer] = value instead\n",
            "\n",
            "See the caveats in the documentation: http://pandas.pydata.org/pandas-docs/stable/indexing.html#indexing-view-versus-copy\n",
            "  after removing the cwd from sys.path.\n",
            "/usr/local/lib/python3.6/dist-packages/ipykernel_launcher.py:4: SettingWithCopyWarning: \n",
            "A value is trying to be set on a copy of a slice from a DataFrame.\n",
            "Try using .loc[row_indexer,col_indexer] = value instead\n",
            "\n",
            "See the caveats in the documentation: http://pandas.pydata.org/pandas-docs/stable/indexing.html#indexing-view-versus-copy\n",
            "  after removing the cwd from sys.path.\n",
            "/usr/local/lib/python3.6/dist-packages/ipykernel_launcher.py:4: SettingWithCopyWarning: \n",
            "A value is trying to be set on a copy of a slice from a DataFrame.\n",
            "Try using .loc[row_indexer,col_indexer] = value instead\n",
            "\n",
            "See the caveats in the documentation: http://pandas.pydata.org/pandas-docs/stable/indexing.html#indexing-view-versus-copy\n",
            "  after removing the cwd from sys.path.\n",
            "/usr/local/lib/python3.6/dist-packages/ipykernel_launcher.py:4: SettingWithCopyWarning: \n",
            "A value is trying to be set on a copy of a slice from a DataFrame.\n",
            "Try using .loc[row_indexer,col_indexer] = value instead\n",
            "\n",
            "See the caveats in the documentation: http://pandas.pydata.org/pandas-docs/stable/indexing.html#indexing-view-versus-copy\n",
            "  after removing the cwd from sys.path.\n",
            "/usr/local/lib/python3.6/dist-packages/ipykernel_launcher.py:4: SettingWithCopyWarning: \n",
            "A value is trying to be set on a copy of a slice from a DataFrame.\n",
            "Try using .loc[row_indexer,col_indexer] = value instead\n",
            "\n",
            "See the caveats in the documentation: http://pandas.pydata.org/pandas-docs/stable/indexing.html#indexing-view-versus-copy\n",
            "  after removing the cwd from sys.path.\n",
            "/usr/local/lib/python3.6/dist-packages/ipykernel_launcher.py:4: SettingWithCopyWarning: \n",
            "A value is trying to be set on a copy of a slice from a DataFrame.\n",
            "Try using .loc[row_indexer,col_indexer] = value instead\n",
            "\n",
            "See the caveats in the documentation: http://pandas.pydata.org/pandas-docs/stable/indexing.html#indexing-view-versus-copy\n",
            "  after removing the cwd from sys.path.\n",
            "/usr/local/lib/python3.6/dist-packages/ipykernel_launcher.py:4: SettingWithCopyWarning: \n",
            "A value is trying to be set on a copy of a slice from a DataFrame.\n",
            "Try using .loc[row_indexer,col_indexer] = value instead\n",
            "\n",
            "See the caveats in the documentation: http://pandas.pydata.org/pandas-docs/stable/indexing.html#indexing-view-versus-copy\n",
            "  after removing the cwd from sys.path.\n",
            "/usr/local/lib/python3.6/dist-packages/ipykernel_launcher.py:4: SettingWithCopyWarning: \n",
            "A value is trying to be set on a copy of a slice from a DataFrame.\n",
            "Try using .loc[row_indexer,col_indexer] = value instead\n",
            "\n",
            "See the caveats in the documentation: http://pandas.pydata.org/pandas-docs/stable/indexing.html#indexing-view-versus-copy\n",
            "  after removing the cwd from sys.path.\n",
            "/usr/local/lib/python3.6/dist-packages/ipykernel_launcher.py:2: SettingWithCopyWarning: \n",
            "A value is trying to be set on a copy of a slice from a DataFrame.\n",
            "Try using .loc[row_indexer,col_indexer] = value instead\n",
            "\n",
            "See the caveats in the documentation: http://pandas.pydata.org/pandas-docs/stable/indexing.html#indexing-view-versus-copy\n",
            "  \n",
            "/usr/local/lib/python3.6/dist-packages/ipykernel_launcher.py:4: SettingWithCopyWarning: \n",
            "A value is trying to be set on a copy of a slice from a DataFrame.\n",
            "Try using .loc[row_indexer,col_indexer] = value instead\n",
            "\n",
            "See the caveats in the documentation: http://pandas.pydata.org/pandas-docs/stable/indexing.html#indexing-view-versus-copy\n",
            "  after removing the cwd from sys.path.\n",
            "/usr/local/lib/python3.6/dist-packages/ipykernel_launcher.py:4: SettingWithCopyWarning: \n",
            "A value is trying to be set on a copy of a slice from a DataFrame.\n",
            "Try using .loc[row_indexer,col_indexer] = value instead\n",
            "\n",
            "See the caveats in the documentation: http://pandas.pydata.org/pandas-docs/stable/indexing.html#indexing-view-versus-copy\n",
            "  after removing the cwd from sys.path.\n",
            "/usr/local/lib/python3.6/dist-packages/ipykernel_launcher.py:4: SettingWithCopyWarning: \n",
            "A value is trying to be set on a copy of a slice from a DataFrame.\n",
            "Try using .loc[row_indexer,col_indexer] = value instead\n",
            "\n",
            "See the caveats in the documentation: http://pandas.pydata.org/pandas-docs/stable/indexing.html#indexing-view-versus-copy\n",
            "  after removing the cwd from sys.path.\n",
            "/usr/local/lib/python3.6/dist-packages/ipykernel_launcher.py:4: SettingWithCopyWarning: \n",
            "A value is trying to be set on a copy of a slice from a DataFrame.\n",
            "Try using .loc[row_indexer,col_indexer] = value instead\n",
            "\n",
            "See the caveats in the documentation: http://pandas.pydata.org/pandas-docs/stable/indexing.html#indexing-view-versus-copy\n",
            "  after removing the cwd from sys.path.\n",
            "/usr/local/lib/python3.6/dist-packages/ipykernel_launcher.py:4: SettingWithCopyWarning: \n",
            "A value is trying to be set on a copy of a slice from a DataFrame.\n",
            "Try using .loc[row_indexer,col_indexer] = value instead\n",
            "\n",
            "See the caveats in the documentation: http://pandas.pydata.org/pandas-docs/stable/indexing.html#indexing-view-versus-copy\n",
            "  after removing the cwd from sys.path.\n",
            "/usr/local/lib/python3.6/dist-packages/ipykernel_launcher.py:4: SettingWithCopyWarning: \n",
            "A value is trying to be set on a copy of a slice from a DataFrame.\n",
            "Try using .loc[row_indexer,col_indexer] = value instead\n",
            "\n",
            "See the caveats in the documentation: http://pandas.pydata.org/pandas-docs/stable/indexing.html#indexing-view-versus-copy\n",
            "  after removing the cwd from sys.path.\n",
            "/usr/local/lib/python3.6/dist-packages/ipykernel_launcher.py:4: SettingWithCopyWarning: \n",
            "A value is trying to be set on a copy of a slice from a DataFrame.\n",
            "Try using .loc[row_indexer,col_indexer] = value instead\n",
            "\n",
            "See the caveats in the documentation: http://pandas.pydata.org/pandas-docs/stable/indexing.html#indexing-view-versus-copy\n",
            "  after removing the cwd from sys.path.\n",
            "/usr/local/lib/python3.6/dist-packages/ipykernel_launcher.py:4: SettingWithCopyWarning: \n",
            "A value is trying to be set on a copy of a slice from a DataFrame.\n",
            "Try using .loc[row_indexer,col_indexer] = value instead\n",
            "\n",
            "See the caveats in the documentation: http://pandas.pydata.org/pandas-docs/stable/indexing.html#indexing-view-versus-copy\n",
            "  after removing the cwd from sys.path.\n",
            "/usr/local/lib/python3.6/dist-packages/ipykernel_launcher.py:4: SettingWithCopyWarning: \n",
            "A value is trying to be set on a copy of a slice from a DataFrame.\n",
            "Try using .loc[row_indexer,col_indexer] = value instead\n",
            "\n",
            "See the caveats in the documentation: http://pandas.pydata.org/pandas-docs/stable/indexing.html#indexing-view-versus-copy\n",
            "  after removing the cwd from sys.path.\n",
            "/usr/local/lib/python3.6/dist-packages/ipykernel_launcher.py:4: SettingWithCopyWarning: \n",
            "A value is trying to be set on a copy of a slice from a DataFrame.\n",
            "Try using .loc[row_indexer,col_indexer] = value instead\n",
            "\n",
            "See the caveats in the documentation: http://pandas.pydata.org/pandas-docs/stable/indexing.html#indexing-view-versus-copy\n",
            "  after removing the cwd from sys.path.\n",
            "/usr/local/lib/python3.6/dist-packages/ipykernel_launcher.py:4: SettingWithCopyWarning: \n",
            "A value is trying to be set on a copy of a slice from a DataFrame.\n",
            "Try using .loc[row_indexer,col_indexer] = value instead\n",
            "\n",
            "See the caveats in the documentation: http://pandas.pydata.org/pandas-docs/stable/indexing.html#indexing-view-versus-copy\n",
            "  after removing the cwd from sys.path.\n",
            "/usr/local/lib/python3.6/dist-packages/ipykernel_launcher.py:4: SettingWithCopyWarning: \n",
            "A value is trying to be set on a copy of a slice from a DataFrame.\n",
            "Try using .loc[row_indexer,col_indexer] = value instead\n",
            "\n",
            "See the caveats in the documentation: http://pandas.pydata.org/pandas-docs/stable/indexing.html#indexing-view-versus-copy\n",
            "  after removing the cwd from sys.path.\n",
            "/usr/local/lib/python3.6/dist-packages/ipykernel_launcher.py:4: SettingWithCopyWarning: \n",
            "A value is trying to be set on a copy of a slice from a DataFrame.\n",
            "Try using .loc[row_indexer,col_indexer] = value instead\n",
            "\n",
            "See the caveats in the documentation: http://pandas.pydata.org/pandas-docs/stable/indexing.html#indexing-view-versus-copy\n",
            "  after removing the cwd from sys.path.\n",
            "/usr/local/lib/python3.6/dist-packages/ipykernel_launcher.py:4: SettingWithCopyWarning: \n",
            "A value is trying to be set on a copy of a slice from a DataFrame.\n",
            "Try using .loc[row_indexer,col_indexer] = value instead\n",
            "\n",
            "See the caveats in the documentation: http://pandas.pydata.org/pandas-docs/stable/indexing.html#indexing-view-versus-copy\n",
            "  after removing the cwd from sys.path.\n",
            "/usr/local/lib/python3.6/dist-packages/ipykernel_launcher.py:2: SettingWithCopyWarning: \n",
            "A value is trying to be set on a copy of a slice from a DataFrame.\n",
            "Try using .loc[row_indexer,col_indexer] = value instead\n",
            "\n",
            "See the caveats in the documentation: http://pandas.pydata.org/pandas-docs/stable/indexing.html#indexing-view-versus-copy\n",
            "  \n",
            "/usr/local/lib/python3.6/dist-packages/ipykernel_launcher.py:4: SettingWithCopyWarning: \n",
            "A value is trying to be set on a copy of a slice from a DataFrame.\n",
            "Try using .loc[row_indexer,col_indexer] = value instead\n",
            "\n",
            "See the caveats in the documentation: http://pandas.pydata.org/pandas-docs/stable/indexing.html#indexing-view-versus-copy\n",
            "  after removing the cwd from sys.path.\n",
            "/usr/local/lib/python3.6/dist-packages/ipykernel_launcher.py:4: SettingWithCopyWarning: \n",
            "A value is trying to be set on a copy of a slice from a DataFrame.\n",
            "Try using .loc[row_indexer,col_indexer] = value instead\n",
            "\n",
            "See the caveats in the documentation: http://pandas.pydata.org/pandas-docs/stable/indexing.html#indexing-view-versus-copy\n",
            "  after removing the cwd from sys.path.\n",
            "/usr/local/lib/python3.6/dist-packages/ipykernel_launcher.py:4: SettingWithCopyWarning: \n",
            "A value is trying to be set on a copy of a slice from a DataFrame.\n",
            "Try using .loc[row_indexer,col_indexer] = value instead\n",
            "\n",
            "See the caveats in the documentation: http://pandas.pydata.org/pandas-docs/stable/indexing.html#indexing-view-versus-copy\n",
            "  after removing the cwd from sys.path.\n",
            "/usr/local/lib/python3.6/dist-packages/ipykernel_launcher.py:4: SettingWithCopyWarning: \n",
            "A value is trying to be set on a copy of a slice from a DataFrame.\n",
            "Try using .loc[row_indexer,col_indexer] = value instead\n",
            "\n",
            "See the caveats in the documentation: http://pandas.pydata.org/pandas-docs/stable/indexing.html#indexing-view-versus-copy\n",
            "  after removing the cwd from sys.path.\n",
            "/usr/local/lib/python3.6/dist-packages/ipykernel_launcher.py:4: SettingWithCopyWarning: \n",
            "A value is trying to be set on a copy of a slice from a DataFrame.\n",
            "Try using .loc[row_indexer,col_indexer] = value instead\n",
            "\n",
            "See the caveats in the documentation: http://pandas.pydata.org/pandas-docs/stable/indexing.html#indexing-view-versus-copy\n",
            "  after removing the cwd from sys.path.\n",
            "/usr/local/lib/python3.6/dist-packages/ipykernel_launcher.py:4: SettingWithCopyWarning: \n",
            "A value is trying to be set on a copy of a slice from a DataFrame.\n",
            "Try using .loc[row_indexer,col_indexer] = value instead\n",
            "\n",
            "See the caveats in the documentation: http://pandas.pydata.org/pandas-docs/stable/indexing.html#indexing-view-versus-copy\n",
            "  after removing the cwd from sys.path.\n",
            "/usr/local/lib/python3.6/dist-packages/ipykernel_launcher.py:4: SettingWithCopyWarning: \n",
            "A value is trying to be set on a copy of a slice from a DataFrame.\n",
            "Try using .loc[row_indexer,col_indexer] = value instead\n",
            "\n",
            "See the caveats in the documentation: http://pandas.pydata.org/pandas-docs/stable/indexing.html#indexing-view-versus-copy\n",
            "  after removing the cwd from sys.path.\n",
            "/usr/local/lib/python3.6/dist-packages/ipykernel_launcher.py:4: SettingWithCopyWarning: \n",
            "A value is trying to be set on a copy of a slice from a DataFrame.\n",
            "Try using .loc[row_indexer,col_indexer] = value instead\n",
            "\n",
            "See the caveats in the documentation: http://pandas.pydata.org/pandas-docs/stable/indexing.html#indexing-view-versus-copy\n",
            "  after removing the cwd from sys.path.\n",
            "/usr/local/lib/python3.6/dist-packages/ipykernel_launcher.py:4: SettingWithCopyWarning: \n",
            "A value is trying to be set on a copy of a slice from a DataFrame.\n",
            "Try using .loc[row_indexer,col_indexer] = value instead\n",
            "\n",
            "See the caveats in the documentation: http://pandas.pydata.org/pandas-docs/stable/indexing.html#indexing-view-versus-copy\n",
            "  after removing the cwd from sys.path.\n",
            "/usr/local/lib/python3.6/dist-packages/ipykernel_launcher.py:4: SettingWithCopyWarning: \n",
            "A value is trying to be set on a copy of a slice from a DataFrame.\n",
            "Try using .loc[row_indexer,col_indexer] = value instead\n",
            "\n",
            "See the caveats in the documentation: http://pandas.pydata.org/pandas-docs/stable/indexing.html#indexing-view-versus-copy\n",
            "  after removing the cwd from sys.path.\n",
            "/usr/local/lib/python3.6/dist-packages/ipykernel_launcher.py:4: SettingWithCopyWarning: \n",
            "A value is trying to be set on a copy of a slice from a DataFrame.\n",
            "Try using .loc[row_indexer,col_indexer] = value instead\n",
            "\n",
            "See the caveats in the documentation: http://pandas.pydata.org/pandas-docs/stable/indexing.html#indexing-view-versus-copy\n",
            "  after removing the cwd from sys.path.\n",
            "/usr/local/lib/python3.6/dist-packages/ipykernel_launcher.py:4: SettingWithCopyWarning: \n",
            "A value is trying to be set on a copy of a slice from a DataFrame.\n",
            "Try using .loc[row_indexer,col_indexer] = value instead\n",
            "\n",
            "See the caveats in the documentation: http://pandas.pydata.org/pandas-docs/stable/indexing.html#indexing-view-versus-copy\n",
            "  after removing the cwd from sys.path.\n",
            "/usr/local/lib/python3.6/dist-packages/ipykernel_launcher.py:4: SettingWithCopyWarning: \n",
            "A value is trying to be set on a copy of a slice from a DataFrame.\n",
            "Try using .loc[row_indexer,col_indexer] = value instead\n",
            "\n",
            "See the caveats in the documentation: http://pandas.pydata.org/pandas-docs/stable/indexing.html#indexing-view-versus-copy\n",
            "  after removing the cwd from sys.path.\n",
            "/usr/local/lib/python3.6/dist-packages/ipykernel_launcher.py:4: SettingWithCopyWarning: \n",
            "A value is trying to be set on a copy of a slice from a DataFrame.\n",
            "Try using .loc[row_indexer,col_indexer] = value instead\n",
            "\n",
            "See the caveats in the documentation: http://pandas.pydata.org/pandas-docs/stable/indexing.html#indexing-view-versus-copy\n",
            "  after removing the cwd from sys.path.\n",
            "/usr/local/lib/python3.6/dist-packages/ipykernel_launcher.py:4: SettingWithCopyWarning: \n",
            "A value is trying to be set on a copy of a slice from a DataFrame.\n",
            "Try using .loc[row_indexer,col_indexer] = value instead\n",
            "\n",
            "See the caveats in the documentation: http://pandas.pydata.org/pandas-docs/stable/indexing.html#indexing-view-versus-copy\n",
            "  after removing the cwd from sys.path.\n",
            "/usr/local/lib/python3.6/dist-packages/ipykernel_launcher.py:2: SettingWithCopyWarning: \n",
            "A value is trying to be set on a copy of a slice from a DataFrame.\n",
            "Try using .loc[row_indexer,col_indexer] = value instead\n",
            "\n",
            "See the caveats in the documentation: http://pandas.pydata.org/pandas-docs/stable/indexing.html#indexing-view-versus-copy\n",
            "  \n",
            "/usr/local/lib/python3.6/dist-packages/ipykernel_launcher.py:4: SettingWithCopyWarning: \n",
            "A value is trying to be set on a copy of a slice from a DataFrame.\n",
            "Try using .loc[row_indexer,col_indexer] = value instead\n",
            "\n",
            "See the caveats in the documentation: http://pandas.pydata.org/pandas-docs/stable/indexing.html#indexing-view-versus-copy\n",
            "  after removing the cwd from sys.path.\n",
            "/usr/local/lib/python3.6/dist-packages/ipykernel_launcher.py:4: SettingWithCopyWarning: \n",
            "A value is trying to be set on a copy of a slice from a DataFrame.\n",
            "Try using .loc[row_indexer,col_indexer] = value instead\n",
            "\n",
            "See the caveats in the documentation: http://pandas.pydata.org/pandas-docs/stable/indexing.html#indexing-view-versus-copy\n",
            "  after removing the cwd from sys.path.\n",
            "/usr/local/lib/python3.6/dist-packages/ipykernel_launcher.py:4: SettingWithCopyWarning: \n",
            "A value is trying to be set on a copy of a slice from a DataFrame.\n",
            "Try using .loc[row_indexer,col_indexer] = value instead\n",
            "\n",
            "See the caveats in the documentation: http://pandas.pydata.org/pandas-docs/stable/indexing.html#indexing-view-versus-copy\n",
            "  after removing the cwd from sys.path.\n",
            "/usr/local/lib/python3.6/dist-packages/ipykernel_launcher.py:4: SettingWithCopyWarning: \n",
            "A value is trying to be set on a copy of a slice from a DataFrame.\n",
            "Try using .loc[row_indexer,col_indexer] = value instead\n",
            "\n",
            "See the caveats in the documentation: http://pandas.pydata.org/pandas-docs/stable/indexing.html#indexing-view-versus-copy\n",
            "  after removing the cwd from sys.path.\n",
            "/usr/local/lib/python3.6/dist-packages/ipykernel_launcher.py:4: SettingWithCopyWarning: \n",
            "A value is trying to be set on a copy of a slice from a DataFrame.\n",
            "Try using .loc[row_indexer,col_indexer] = value instead\n",
            "\n",
            "See the caveats in the documentation: http://pandas.pydata.org/pandas-docs/stable/indexing.html#indexing-view-versus-copy\n",
            "  after removing the cwd from sys.path.\n",
            "/usr/local/lib/python3.6/dist-packages/ipykernel_launcher.py:4: SettingWithCopyWarning: \n",
            "A value is trying to be set on a copy of a slice from a DataFrame.\n",
            "Try using .loc[row_indexer,col_indexer] = value instead\n",
            "\n",
            "See the caveats in the documentation: http://pandas.pydata.org/pandas-docs/stable/indexing.html#indexing-view-versus-copy\n",
            "  after removing the cwd from sys.path.\n",
            "/usr/local/lib/python3.6/dist-packages/ipykernel_launcher.py:4: SettingWithCopyWarning: \n",
            "A value is trying to be set on a copy of a slice from a DataFrame.\n",
            "Try using .loc[row_indexer,col_indexer] = value instead\n",
            "\n",
            "See the caveats in the documentation: http://pandas.pydata.org/pandas-docs/stable/indexing.html#indexing-view-versus-copy\n",
            "  after removing the cwd from sys.path.\n",
            "/usr/local/lib/python3.6/dist-packages/ipykernel_launcher.py:4: SettingWithCopyWarning: \n",
            "A value is trying to be set on a copy of a slice from a DataFrame.\n",
            "Try using .loc[row_indexer,col_indexer] = value instead\n",
            "\n",
            "See the caveats in the documentation: http://pandas.pydata.org/pandas-docs/stable/indexing.html#indexing-view-versus-copy\n",
            "  after removing the cwd from sys.path.\n",
            "/usr/local/lib/python3.6/dist-packages/ipykernel_launcher.py:4: SettingWithCopyWarning: \n",
            "A value is trying to be set on a copy of a slice from a DataFrame.\n",
            "Try using .loc[row_indexer,col_indexer] = value instead\n",
            "\n",
            "See the caveats in the documentation: http://pandas.pydata.org/pandas-docs/stable/indexing.html#indexing-view-versus-copy\n",
            "  after removing the cwd from sys.path.\n",
            "/usr/local/lib/python3.6/dist-packages/ipykernel_launcher.py:4: SettingWithCopyWarning: \n",
            "A value is trying to be set on a copy of a slice from a DataFrame.\n",
            "Try using .loc[row_indexer,col_indexer] = value instead\n",
            "\n",
            "See the caveats in the documentation: http://pandas.pydata.org/pandas-docs/stable/indexing.html#indexing-view-versus-copy\n",
            "  after removing the cwd from sys.path.\n",
            "/usr/local/lib/python3.6/dist-packages/ipykernel_launcher.py:4: SettingWithCopyWarning: \n",
            "A value is trying to be set on a copy of a slice from a DataFrame.\n",
            "Try using .loc[row_indexer,col_indexer] = value instead\n",
            "\n",
            "See the caveats in the documentation: http://pandas.pydata.org/pandas-docs/stable/indexing.html#indexing-view-versus-copy\n",
            "  after removing the cwd from sys.path.\n",
            "/usr/local/lib/python3.6/dist-packages/ipykernel_launcher.py:4: SettingWithCopyWarning: \n",
            "A value is trying to be set on a copy of a slice from a DataFrame.\n",
            "Try using .loc[row_indexer,col_indexer] = value instead\n",
            "\n",
            "See the caveats in the documentation: http://pandas.pydata.org/pandas-docs/stable/indexing.html#indexing-view-versus-copy\n",
            "  after removing the cwd from sys.path.\n",
            "/usr/local/lib/python3.6/dist-packages/ipykernel_launcher.py:4: SettingWithCopyWarning: \n",
            "A value is trying to be set on a copy of a slice from a DataFrame.\n",
            "Try using .loc[row_indexer,col_indexer] = value instead\n",
            "\n",
            "See the caveats in the documentation: http://pandas.pydata.org/pandas-docs/stable/indexing.html#indexing-view-versus-copy\n",
            "  after removing the cwd from sys.path.\n",
            "/usr/local/lib/python3.6/dist-packages/ipykernel_launcher.py:4: SettingWithCopyWarning: \n",
            "A value is trying to be set on a copy of a slice from a DataFrame.\n",
            "Try using .loc[row_indexer,col_indexer] = value instead\n",
            "\n",
            "See the caveats in the documentation: http://pandas.pydata.org/pandas-docs/stable/indexing.html#indexing-view-versus-copy\n",
            "  after removing the cwd from sys.path.\n",
            "/usr/local/lib/python3.6/dist-packages/ipykernel_launcher.py:4: SettingWithCopyWarning: \n",
            "A value is trying to be set on a copy of a slice from a DataFrame.\n",
            "Try using .loc[row_indexer,col_indexer] = value instead\n",
            "\n",
            "See the caveats in the documentation: http://pandas.pydata.org/pandas-docs/stable/indexing.html#indexing-view-versus-copy\n",
            "  after removing the cwd from sys.path.\n",
            "/usr/local/lib/python3.6/dist-packages/ipykernel_launcher.py:4: SettingWithCopyWarning: \n",
            "A value is trying to be set on a copy of a slice from a DataFrame.\n",
            "Try using .loc[row_indexer,col_indexer] = value instead\n",
            "\n",
            "See the caveats in the documentation: http://pandas.pydata.org/pandas-docs/stable/indexing.html#indexing-view-versus-copy\n",
            "  after removing the cwd from sys.path.\n",
            "/usr/local/lib/python3.6/dist-packages/ipykernel_launcher.py:2: SettingWithCopyWarning: \n",
            "A value is trying to be set on a copy of a slice from a DataFrame.\n",
            "Try using .loc[row_indexer,col_indexer] = value instead\n",
            "\n",
            "See the caveats in the documentation: http://pandas.pydata.org/pandas-docs/stable/indexing.html#indexing-view-versus-copy\n",
            "  \n",
            "/usr/local/lib/python3.6/dist-packages/ipykernel_launcher.py:4: SettingWithCopyWarning: \n",
            "A value is trying to be set on a copy of a slice from a DataFrame.\n",
            "Try using .loc[row_indexer,col_indexer] = value instead\n",
            "\n",
            "See the caveats in the documentation: http://pandas.pydata.org/pandas-docs/stable/indexing.html#indexing-view-versus-copy\n",
            "  after removing the cwd from sys.path.\n",
            "/usr/local/lib/python3.6/dist-packages/ipykernel_launcher.py:4: SettingWithCopyWarning: \n",
            "A value is trying to be set on a copy of a slice from a DataFrame.\n",
            "Try using .loc[row_indexer,col_indexer] = value instead\n",
            "\n",
            "See the caveats in the documentation: http://pandas.pydata.org/pandas-docs/stable/indexing.html#indexing-view-versus-copy\n",
            "  after removing the cwd from sys.path.\n",
            "/usr/local/lib/python3.6/dist-packages/ipykernel_launcher.py:4: SettingWithCopyWarning: \n",
            "A value is trying to be set on a copy of a slice from a DataFrame.\n",
            "Try using .loc[row_indexer,col_indexer] = value instead\n",
            "\n",
            "See the caveats in the documentation: http://pandas.pydata.org/pandas-docs/stable/indexing.html#indexing-view-versus-copy\n",
            "  after removing the cwd from sys.path.\n",
            "/usr/local/lib/python3.6/dist-packages/ipykernel_launcher.py:4: SettingWithCopyWarning: \n",
            "A value is trying to be set on a copy of a slice from a DataFrame.\n",
            "Try using .loc[row_indexer,col_indexer] = value instead\n",
            "\n",
            "See the caveats in the documentation: http://pandas.pydata.org/pandas-docs/stable/indexing.html#indexing-view-versus-copy\n",
            "  after removing the cwd from sys.path.\n",
            "/usr/local/lib/python3.6/dist-packages/ipykernel_launcher.py:4: SettingWithCopyWarning: \n",
            "A value is trying to be set on a copy of a slice from a DataFrame.\n",
            "Try using .loc[row_indexer,col_indexer] = value instead\n",
            "\n",
            "See the caveats in the documentation: http://pandas.pydata.org/pandas-docs/stable/indexing.html#indexing-view-versus-copy\n",
            "  after removing the cwd from sys.path.\n",
            "/usr/local/lib/python3.6/dist-packages/ipykernel_launcher.py:4: SettingWithCopyWarning: \n",
            "A value is trying to be set on a copy of a slice from a DataFrame.\n",
            "Try using .loc[row_indexer,col_indexer] = value instead\n",
            "\n",
            "See the caveats in the documentation: http://pandas.pydata.org/pandas-docs/stable/indexing.html#indexing-view-versus-copy\n",
            "  after removing the cwd from sys.path.\n",
            "/usr/local/lib/python3.6/dist-packages/ipykernel_launcher.py:4: SettingWithCopyWarning: \n",
            "A value is trying to be set on a copy of a slice from a DataFrame.\n",
            "Try using .loc[row_indexer,col_indexer] = value instead\n",
            "\n",
            "See the caveats in the documentation: http://pandas.pydata.org/pandas-docs/stable/indexing.html#indexing-view-versus-copy\n",
            "  after removing the cwd from sys.path.\n",
            "/usr/local/lib/python3.6/dist-packages/ipykernel_launcher.py:4: SettingWithCopyWarning: \n",
            "A value is trying to be set on a copy of a slice from a DataFrame.\n",
            "Try using .loc[row_indexer,col_indexer] = value instead\n",
            "\n",
            "See the caveats in the documentation: http://pandas.pydata.org/pandas-docs/stable/indexing.html#indexing-view-versus-copy\n",
            "  after removing the cwd from sys.path.\n",
            "/usr/local/lib/python3.6/dist-packages/ipykernel_launcher.py:4: SettingWithCopyWarning: \n",
            "A value is trying to be set on a copy of a slice from a DataFrame.\n",
            "Try using .loc[row_indexer,col_indexer] = value instead\n",
            "\n",
            "See the caveats in the documentation: http://pandas.pydata.org/pandas-docs/stable/indexing.html#indexing-view-versus-copy\n",
            "  after removing the cwd from sys.path.\n",
            "/usr/local/lib/python3.6/dist-packages/ipykernel_launcher.py:4: SettingWithCopyWarning: \n",
            "A value is trying to be set on a copy of a slice from a DataFrame.\n",
            "Try using .loc[row_indexer,col_indexer] = value instead\n",
            "\n",
            "See the caveats in the documentation: http://pandas.pydata.org/pandas-docs/stable/indexing.html#indexing-view-versus-copy\n",
            "  after removing the cwd from sys.path.\n",
            "/usr/local/lib/python3.6/dist-packages/ipykernel_launcher.py:4: SettingWithCopyWarning: \n",
            "A value is trying to be set on a copy of a slice from a DataFrame.\n",
            "Try using .loc[row_indexer,col_indexer] = value instead\n",
            "\n",
            "See the caveats in the documentation: http://pandas.pydata.org/pandas-docs/stable/indexing.html#indexing-view-versus-copy\n",
            "  after removing the cwd from sys.path.\n",
            "/usr/local/lib/python3.6/dist-packages/ipykernel_launcher.py:4: SettingWithCopyWarning: \n",
            "A value is trying to be set on a copy of a slice from a DataFrame.\n",
            "Try using .loc[row_indexer,col_indexer] = value instead\n",
            "\n",
            "See the caveats in the documentation: http://pandas.pydata.org/pandas-docs/stable/indexing.html#indexing-view-versus-copy\n",
            "  after removing the cwd from sys.path.\n",
            "/usr/local/lib/python3.6/dist-packages/ipykernel_launcher.py:4: SettingWithCopyWarning: \n",
            "A value is trying to be set on a copy of a slice from a DataFrame.\n",
            "Try using .loc[row_indexer,col_indexer] = value instead\n",
            "\n",
            "See the caveats in the documentation: http://pandas.pydata.org/pandas-docs/stable/indexing.html#indexing-view-versus-copy\n",
            "  after removing the cwd from sys.path.\n",
            "/usr/local/lib/python3.6/dist-packages/ipykernel_launcher.py:4: SettingWithCopyWarning: \n",
            "A value is trying to be set on a copy of a slice from a DataFrame.\n",
            "Try using .loc[row_indexer,col_indexer] = value instead\n",
            "\n",
            "See the caveats in the documentation: http://pandas.pydata.org/pandas-docs/stable/indexing.html#indexing-view-versus-copy\n",
            "  after removing the cwd from sys.path.\n",
            "/usr/local/lib/python3.6/dist-packages/ipykernel_launcher.py:4: SettingWithCopyWarning: \n",
            "A value is trying to be set on a copy of a slice from a DataFrame.\n",
            "Try using .loc[row_indexer,col_indexer] = value instead\n",
            "\n",
            "See the caveats in the documentation: http://pandas.pydata.org/pandas-docs/stable/indexing.html#indexing-view-versus-copy\n",
            "  after removing the cwd from sys.path.\n",
            "/usr/local/lib/python3.6/dist-packages/ipykernel_launcher.py:4: SettingWithCopyWarning: \n",
            "A value is trying to be set on a copy of a slice from a DataFrame.\n",
            "Try using .loc[row_indexer,col_indexer] = value instead\n",
            "\n",
            "See the caveats in the documentation: http://pandas.pydata.org/pandas-docs/stable/indexing.html#indexing-view-versus-copy\n",
            "  after removing the cwd from sys.path.\n",
            "/usr/local/lib/python3.6/dist-packages/ipykernel_launcher.py:4: SettingWithCopyWarning: \n",
            "A value is trying to be set on a copy of a slice from a DataFrame.\n",
            "Try using .loc[row_indexer,col_indexer] = value instead\n",
            "\n",
            "See the caveats in the documentation: http://pandas.pydata.org/pandas-docs/stable/indexing.html#indexing-view-versus-copy\n",
            "  after removing the cwd from sys.path.\n",
            "/usr/local/lib/python3.6/dist-packages/ipykernel_launcher.py:2: SettingWithCopyWarning: \n",
            "A value is trying to be set on a copy of a slice from a DataFrame.\n",
            "Try using .loc[row_indexer,col_indexer] = value instead\n",
            "\n",
            "See the caveats in the documentation: http://pandas.pydata.org/pandas-docs/stable/indexing.html#indexing-view-versus-copy\n",
            "  \n",
            "/usr/local/lib/python3.6/dist-packages/ipykernel_launcher.py:4: SettingWithCopyWarning: \n",
            "A value is trying to be set on a copy of a slice from a DataFrame.\n",
            "Try using .loc[row_indexer,col_indexer] = value instead\n",
            "\n",
            "See the caveats in the documentation: http://pandas.pydata.org/pandas-docs/stable/indexing.html#indexing-view-versus-copy\n",
            "  after removing the cwd from sys.path.\n",
            "/usr/local/lib/python3.6/dist-packages/ipykernel_launcher.py:4: SettingWithCopyWarning: \n",
            "A value is trying to be set on a copy of a slice from a DataFrame.\n",
            "Try using .loc[row_indexer,col_indexer] = value instead\n",
            "\n",
            "See the caveats in the documentation: http://pandas.pydata.org/pandas-docs/stable/indexing.html#indexing-view-versus-copy\n",
            "  after removing the cwd from sys.path.\n",
            "/usr/local/lib/python3.6/dist-packages/ipykernel_launcher.py:4: SettingWithCopyWarning: \n",
            "A value is trying to be set on a copy of a slice from a DataFrame.\n",
            "Try using .loc[row_indexer,col_indexer] = value instead\n",
            "\n",
            "See the caveats in the documentation: http://pandas.pydata.org/pandas-docs/stable/indexing.html#indexing-view-versus-copy\n",
            "  after removing the cwd from sys.path.\n",
            "/usr/local/lib/python3.6/dist-packages/ipykernel_launcher.py:4: SettingWithCopyWarning: \n",
            "A value is trying to be set on a copy of a slice from a DataFrame.\n",
            "Try using .loc[row_indexer,col_indexer] = value instead\n",
            "\n",
            "See the caveats in the documentation: http://pandas.pydata.org/pandas-docs/stable/indexing.html#indexing-view-versus-copy\n",
            "  after removing the cwd from sys.path.\n",
            "/usr/local/lib/python3.6/dist-packages/ipykernel_launcher.py:4: SettingWithCopyWarning: \n",
            "A value is trying to be set on a copy of a slice from a DataFrame.\n",
            "Try using .loc[row_indexer,col_indexer] = value instead\n",
            "\n",
            "See the caveats in the documentation: http://pandas.pydata.org/pandas-docs/stable/indexing.html#indexing-view-versus-copy\n",
            "  after removing the cwd from sys.path.\n",
            "/usr/local/lib/python3.6/dist-packages/ipykernel_launcher.py:4: SettingWithCopyWarning: \n",
            "A value is trying to be set on a copy of a slice from a DataFrame.\n",
            "Try using .loc[row_indexer,col_indexer] = value instead\n",
            "\n",
            "See the caveats in the documentation: http://pandas.pydata.org/pandas-docs/stable/indexing.html#indexing-view-versus-copy\n",
            "  after removing the cwd from sys.path.\n",
            "/usr/local/lib/python3.6/dist-packages/ipykernel_launcher.py:4: SettingWithCopyWarning: \n",
            "A value is trying to be set on a copy of a slice from a DataFrame.\n",
            "Try using .loc[row_indexer,col_indexer] = value instead\n",
            "\n",
            "See the caveats in the documentation: http://pandas.pydata.org/pandas-docs/stable/indexing.html#indexing-view-versus-copy\n",
            "  after removing the cwd from sys.path.\n",
            "/usr/local/lib/python3.6/dist-packages/ipykernel_launcher.py:4: SettingWithCopyWarning: \n",
            "A value is trying to be set on a copy of a slice from a DataFrame.\n",
            "Try using .loc[row_indexer,col_indexer] = value instead\n",
            "\n",
            "See the caveats in the documentation: http://pandas.pydata.org/pandas-docs/stable/indexing.html#indexing-view-versus-copy\n",
            "  after removing the cwd from sys.path.\n",
            "/usr/local/lib/python3.6/dist-packages/ipykernel_launcher.py:4: SettingWithCopyWarning: \n",
            "A value is trying to be set on a copy of a slice from a DataFrame.\n",
            "Try using .loc[row_indexer,col_indexer] = value instead\n",
            "\n",
            "See the caveats in the documentation: http://pandas.pydata.org/pandas-docs/stable/indexing.html#indexing-view-versus-copy\n",
            "  after removing the cwd from sys.path.\n",
            "/usr/local/lib/python3.6/dist-packages/ipykernel_launcher.py:4: SettingWithCopyWarning: \n",
            "A value is trying to be set on a copy of a slice from a DataFrame.\n",
            "Try using .loc[row_indexer,col_indexer] = value instead\n",
            "\n",
            "See the caveats in the documentation: http://pandas.pydata.org/pandas-docs/stable/indexing.html#indexing-view-versus-copy\n",
            "  after removing the cwd from sys.path.\n",
            "/usr/local/lib/python3.6/dist-packages/ipykernel_launcher.py:4: SettingWithCopyWarning: \n",
            "A value is trying to be set on a copy of a slice from a DataFrame.\n",
            "Try using .loc[row_indexer,col_indexer] = value instead\n",
            "\n",
            "See the caveats in the documentation: http://pandas.pydata.org/pandas-docs/stable/indexing.html#indexing-view-versus-copy\n",
            "  after removing the cwd from sys.path.\n",
            "/usr/local/lib/python3.6/dist-packages/ipykernel_launcher.py:4: SettingWithCopyWarning: \n",
            "A value is trying to be set on a copy of a slice from a DataFrame.\n",
            "Try using .loc[row_indexer,col_indexer] = value instead\n",
            "\n",
            "See the caveats in the documentation: http://pandas.pydata.org/pandas-docs/stable/indexing.html#indexing-view-versus-copy\n",
            "  after removing the cwd from sys.path.\n",
            "/usr/local/lib/python3.6/dist-packages/ipykernel_launcher.py:4: SettingWithCopyWarning: \n",
            "A value is trying to be set on a copy of a slice from a DataFrame.\n",
            "Try using .loc[row_indexer,col_indexer] = value instead\n",
            "\n",
            "See the caveats in the documentation: http://pandas.pydata.org/pandas-docs/stable/indexing.html#indexing-view-versus-copy\n",
            "  after removing the cwd from sys.path.\n",
            "/usr/local/lib/python3.6/dist-packages/ipykernel_launcher.py:4: SettingWithCopyWarning: \n",
            "A value is trying to be set on a copy of a slice from a DataFrame.\n",
            "Try using .loc[row_indexer,col_indexer] = value instead\n",
            "\n",
            "See the caveats in the documentation: http://pandas.pydata.org/pandas-docs/stable/indexing.html#indexing-view-versus-copy\n",
            "  after removing the cwd from sys.path.\n",
            "/usr/local/lib/python3.6/dist-packages/ipykernel_launcher.py:4: SettingWithCopyWarning: \n",
            "A value is trying to be set on a copy of a slice from a DataFrame.\n",
            "Try using .loc[row_indexer,col_indexer] = value instead\n",
            "\n",
            "See the caveats in the documentation: http://pandas.pydata.org/pandas-docs/stable/indexing.html#indexing-view-versus-copy\n",
            "  after removing the cwd from sys.path.\n",
            "/usr/local/lib/python3.6/dist-packages/ipykernel_launcher.py:4: SettingWithCopyWarning: \n",
            "A value is trying to be set on a copy of a slice from a DataFrame.\n",
            "Try using .loc[row_indexer,col_indexer] = value instead\n",
            "\n",
            "See the caveats in the documentation: http://pandas.pydata.org/pandas-docs/stable/indexing.html#indexing-view-versus-copy\n",
            "  after removing the cwd from sys.path.\n",
            "/usr/local/lib/python3.6/dist-packages/ipykernel_launcher.py:4: SettingWithCopyWarning: \n",
            "A value is trying to be set on a copy of a slice from a DataFrame.\n",
            "Try using .loc[row_indexer,col_indexer] = value instead\n",
            "\n",
            "See the caveats in the documentation: http://pandas.pydata.org/pandas-docs/stable/indexing.html#indexing-view-versus-copy\n",
            "  after removing the cwd from sys.path.\n",
            "/usr/local/lib/python3.6/dist-packages/ipykernel_launcher.py:4: SettingWithCopyWarning: \n",
            "A value is trying to be set on a copy of a slice from a DataFrame.\n",
            "Try using .loc[row_indexer,col_indexer] = value instead\n",
            "\n",
            "See the caveats in the documentation: http://pandas.pydata.org/pandas-docs/stable/indexing.html#indexing-view-versus-copy\n",
            "  after removing the cwd from sys.path.\n",
            "/usr/local/lib/python3.6/dist-packages/ipykernel_launcher.py:2: SettingWithCopyWarning: \n",
            "A value is trying to be set on a copy of a slice from a DataFrame.\n",
            "Try using .loc[row_indexer,col_indexer] = value instead\n",
            "\n",
            "See the caveats in the documentation: http://pandas.pydata.org/pandas-docs/stable/indexing.html#indexing-view-versus-copy\n",
            "  \n",
            "/usr/local/lib/python3.6/dist-packages/ipykernel_launcher.py:4: SettingWithCopyWarning: \n",
            "A value is trying to be set on a copy of a slice from a DataFrame.\n",
            "Try using .loc[row_indexer,col_indexer] = value instead\n",
            "\n",
            "See the caveats in the documentation: http://pandas.pydata.org/pandas-docs/stable/indexing.html#indexing-view-versus-copy\n",
            "  after removing the cwd from sys.path.\n",
            "/usr/local/lib/python3.6/dist-packages/ipykernel_launcher.py:4: SettingWithCopyWarning: \n",
            "A value is trying to be set on a copy of a slice from a DataFrame.\n",
            "Try using .loc[row_indexer,col_indexer] = value instead\n",
            "\n",
            "See the caveats in the documentation: http://pandas.pydata.org/pandas-docs/stable/indexing.html#indexing-view-versus-copy\n",
            "  after removing the cwd from sys.path.\n",
            "/usr/local/lib/python3.6/dist-packages/ipykernel_launcher.py:4: SettingWithCopyWarning: \n",
            "A value is trying to be set on a copy of a slice from a DataFrame.\n",
            "Try using .loc[row_indexer,col_indexer] = value instead\n",
            "\n",
            "See the caveats in the documentation: http://pandas.pydata.org/pandas-docs/stable/indexing.html#indexing-view-versus-copy\n",
            "  after removing the cwd from sys.path.\n",
            "/usr/local/lib/python3.6/dist-packages/ipykernel_launcher.py:4: SettingWithCopyWarning: \n",
            "A value is trying to be set on a copy of a slice from a DataFrame.\n",
            "Try using .loc[row_indexer,col_indexer] = value instead\n",
            "\n",
            "See the caveats in the documentation: http://pandas.pydata.org/pandas-docs/stable/indexing.html#indexing-view-versus-copy\n",
            "  after removing the cwd from sys.path.\n",
            "/usr/local/lib/python3.6/dist-packages/ipykernel_launcher.py:4: SettingWithCopyWarning: \n",
            "A value is trying to be set on a copy of a slice from a DataFrame.\n",
            "Try using .loc[row_indexer,col_indexer] = value instead\n",
            "\n",
            "See the caveats in the documentation: http://pandas.pydata.org/pandas-docs/stable/indexing.html#indexing-view-versus-copy\n",
            "  after removing the cwd from sys.path.\n",
            "/usr/local/lib/python3.6/dist-packages/ipykernel_launcher.py:4: SettingWithCopyWarning: \n",
            "A value is trying to be set on a copy of a slice from a DataFrame.\n",
            "Try using .loc[row_indexer,col_indexer] = value instead\n",
            "\n",
            "See the caveats in the documentation: http://pandas.pydata.org/pandas-docs/stable/indexing.html#indexing-view-versus-copy\n",
            "  after removing the cwd from sys.path.\n",
            "/usr/local/lib/python3.6/dist-packages/ipykernel_launcher.py:4: SettingWithCopyWarning: \n",
            "A value is trying to be set on a copy of a slice from a DataFrame.\n",
            "Try using .loc[row_indexer,col_indexer] = value instead\n",
            "\n",
            "See the caveats in the documentation: http://pandas.pydata.org/pandas-docs/stable/indexing.html#indexing-view-versus-copy\n",
            "  after removing the cwd from sys.path.\n",
            "/usr/local/lib/python3.6/dist-packages/ipykernel_launcher.py:4: SettingWithCopyWarning: \n",
            "A value is trying to be set on a copy of a slice from a DataFrame.\n",
            "Try using .loc[row_indexer,col_indexer] = value instead\n",
            "\n",
            "See the caveats in the documentation: http://pandas.pydata.org/pandas-docs/stable/indexing.html#indexing-view-versus-copy\n",
            "  after removing the cwd from sys.path.\n",
            "/usr/local/lib/python3.6/dist-packages/ipykernel_launcher.py:4: SettingWithCopyWarning: \n",
            "A value is trying to be set on a copy of a slice from a DataFrame.\n",
            "Try using .loc[row_indexer,col_indexer] = value instead\n",
            "\n",
            "See the caveats in the documentation: http://pandas.pydata.org/pandas-docs/stable/indexing.html#indexing-view-versus-copy\n",
            "  after removing the cwd from sys.path.\n",
            "/usr/local/lib/python3.6/dist-packages/ipykernel_launcher.py:4: SettingWithCopyWarning: \n",
            "A value is trying to be set on a copy of a slice from a DataFrame.\n",
            "Try using .loc[row_indexer,col_indexer] = value instead\n",
            "\n",
            "See the caveats in the documentation: http://pandas.pydata.org/pandas-docs/stable/indexing.html#indexing-view-versus-copy\n",
            "  after removing the cwd from sys.path.\n",
            "/usr/local/lib/python3.6/dist-packages/ipykernel_launcher.py:4: SettingWithCopyWarning: \n",
            "A value is trying to be set on a copy of a slice from a DataFrame.\n",
            "Try using .loc[row_indexer,col_indexer] = value instead\n",
            "\n",
            "See the caveats in the documentation: http://pandas.pydata.org/pandas-docs/stable/indexing.html#indexing-view-versus-copy\n",
            "  after removing the cwd from sys.path.\n",
            "/usr/local/lib/python3.6/dist-packages/ipykernel_launcher.py:4: SettingWithCopyWarning: \n",
            "A value is trying to be set on a copy of a slice from a DataFrame.\n",
            "Try using .loc[row_indexer,col_indexer] = value instead\n",
            "\n",
            "See the caveats in the documentation: http://pandas.pydata.org/pandas-docs/stable/indexing.html#indexing-view-versus-copy\n",
            "  after removing the cwd from sys.path.\n",
            "/usr/local/lib/python3.6/dist-packages/ipykernel_launcher.py:4: SettingWithCopyWarning: \n",
            "A value is trying to be set on a copy of a slice from a DataFrame.\n",
            "Try using .loc[row_indexer,col_indexer] = value instead\n",
            "\n",
            "See the caveats in the documentation: http://pandas.pydata.org/pandas-docs/stable/indexing.html#indexing-view-versus-copy\n",
            "  after removing the cwd from sys.path.\n",
            "/usr/local/lib/python3.6/dist-packages/ipykernel_launcher.py:4: SettingWithCopyWarning: \n",
            "A value is trying to be set on a copy of a slice from a DataFrame.\n",
            "Try using .loc[row_indexer,col_indexer] = value instead\n",
            "\n",
            "See the caveats in the documentation: http://pandas.pydata.org/pandas-docs/stable/indexing.html#indexing-view-versus-copy\n",
            "  after removing the cwd from sys.path.\n",
            "/usr/local/lib/python3.6/dist-packages/ipykernel_launcher.py:4: SettingWithCopyWarning: \n",
            "A value is trying to be set on a copy of a slice from a DataFrame.\n",
            "Try using .loc[row_indexer,col_indexer] = value instead\n",
            "\n",
            "See the caveats in the documentation: http://pandas.pydata.org/pandas-docs/stable/indexing.html#indexing-view-versus-copy\n",
            "  after removing the cwd from sys.path.\n",
            "/usr/local/lib/python3.6/dist-packages/ipykernel_launcher.py:4: SettingWithCopyWarning: \n",
            "A value is trying to be set on a copy of a slice from a DataFrame.\n",
            "Try using .loc[row_indexer,col_indexer] = value instead\n",
            "\n",
            "See the caveats in the documentation: http://pandas.pydata.org/pandas-docs/stable/indexing.html#indexing-view-versus-copy\n",
            "  after removing the cwd from sys.path.\n",
            "/usr/local/lib/python3.6/dist-packages/ipykernel_launcher.py:4: SettingWithCopyWarning: \n",
            "A value is trying to be set on a copy of a slice from a DataFrame.\n",
            "Try using .loc[row_indexer,col_indexer] = value instead\n",
            "\n",
            "See the caveats in the documentation: http://pandas.pydata.org/pandas-docs/stable/indexing.html#indexing-view-versus-copy\n",
            "  after removing the cwd from sys.path.\n",
            "/usr/local/lib/python3.6/dist-packages/ipykernel_launcher.py:4: SettingWithCopyWarning: \n",
            "A value is trying to be set on a copy of a slice from a DataFrame.\n",
            "Try using .loc[row_indexer,col_indexer] = value instead\n",
            "\n",
            "See the caveats in the documentation: http://pandas.pydata.org/pandas-docs/stable/indexing.html#indexing-view-versus-copy\n",
            "  after removing the cwd from sys.path.\n",
            "/usr/local/lib/python3.6/dist-packages/ipykernel_launcher.py:4: SettingWithCopyWarning: \n",
            "A value is trying to be set on a copy of a slice from a DataFrame.\n",
            "Try using .loc[row_indexer,col_indexer] = value instead\n",
            "\n",
            "See the caveats in the documentation: http://pandas.pydata.org/pandas-docs/stable/indexing.html#indexing-view-versus-copy\n",
            "  after removing the cwd from sys.path.\n"
          ],
          "name": "stderr"
        }
      ]
    },
    {
      "cell_type": "code",
      "metadata": {
        "colab_type": "code",
        "id": "CgicxCHzBHs2",
        "outputId": "09b01cbc-3684-489b-e332-c41fb5ec3c78",
        "colab": {
          "base_uri": "https://localhost:8080/",
          "height": 1000
        }
      },
      "source": [
        "# Figure 2: Gap between posts\n",
        "#    For a user who churns, gap between consecutive posts keeps increasing. \n",
        "#    Gaps for those who stay are much lower, and stabilize around 20,000 minutes,\n",
        "#    indicating routine posting activity in every ≈2 weeks.\n",
        "clist = []\n",
        "slist = []\n",
        "subt = []\n",
        "for K in list_of_K:\n",
        "    subgroup = features_of_task1[K]\n",
        "    churners_gap = []\n",
        "    stayers_gap = []\n",
        "    for i in range(2, K+1):\n",
        "        gapK = 'gap{}'.format(i)\n",
        "        sum_gapK = list(subgroup.groupby('is_churn')[gapK].sum())\n",
        "        count_gapK = list(subgroup.groupby('is_churn')[gapK].count())\n",
        "        if len(sum_gapK) < 2:\n",
        "            break\n",
        "        churners_gap.append(sum_gapK[1] / count_gapK[1])\n",
        "        stayers_gap.append(sum_gapK[0] / count_gapK[0])\n",
        "    subt.append('K = %s'%K)\n",
        "    clist.append(churners_gap)\n",
        "    slist.append(stayers_gap)\n",
        "    \n",
        "    print(\"K={}\".format(K))\n",
        "    plt.plot(churners_gap, '-o', label='churner')\n",
        "    plt.plot(stayers_gap, '-o', label='stayer')\n",
        "    plt.legend()\n",
        "    plt.axis((0,20,0,15e4))\n",
        "    \n",
        "    plt.show()\n",
        "    plt.savefig('task1_{0}posts_{1}.png'.format(K,'TimeGap1OfUser'))\n",
        "    store_df_at_google_drive('task1_{0}posts_{1}'.format(K,'TimeGap1OfUser'),pd.DataFrame(),'png')"
      ],
      "execution_count": 38,
      "outputs": [
        {
          "output_type": "stream",
          "text": [
            "K=1\n"
          ],
          "name": "stdout"
        },
        {
          "output_type": "display_data",
          "data": {
            "image/png": "[encoded data removed]",
            "text/plain": [
              "<Figure size 432x288 with 1 Axes>"
            ]
          },
          "metadata": {
            "tags": []
          }
        },
        {
          "output_type": "stream",
          "text": [
            "Uploaded file with ID 1dgzn-CIXvUoGz6s3_CpCE_n5CXBhWjaY\n",
            "K=2\n"
          ],
          "name": "stdout"
        },
        {
          "output_type": "display_data",
          "data": {
            "image/png": "[encoded data removed]",
            "text/plain": [
              "<Figure size 432x288 with 1 Axes>"
            ]
          },
          "metadata": {
            "tags": []
          }
        },
        {
          "output_type": "stream",
          "text": [
            "Uploaded file with ID 1tqbfC75bB2auDDmtLDoONpGsElMAwG08\n",
            "K=3\n"
          ],
          "name": "stdout"
        },
        {
          "output_type": "display_data",
          "data": {
            "image/png": "[encoded data removed]",
            "text/plain": [
              "<Figure size 432x288 with 1 Axes>"
            ]
          },
          "metadata": {
            "tags": []
          }
        },
        {
          "output_type": "stream",
          "text": [
            "Uploaded file with ID 1V_QtqO58aMzPChkV4_lSkF0rtztSW6i6\n",
            "K=4\n"
          ],
          "name": "stdout"
        },
        {
          "output_type": "display_data",
          "data": {
            "image/png": "[encoded data removed]",
            "text/plain": [
              "<Figure size 432x288 with 1 Axes>"
            ]
          },
          "metadata": {
            "tags": []
          }
        },
        {
          "output_type": "stream",
          "text": [
            "Uploaded file with ID 1GPHsxWBC3KtrljcxaKHfKcW6Nn4088Jb\n",
            "K=5\n"
          ],
          "name": "stdout"
        },
        {
          "output_type": "display_data",
          "data": {
            "image/png": "[encoded data removed]",
            "text/plain": [
              "<Figure size 432x288 with 1 Axes>"
            ]
          },
          "metadata": {
            "tags": []
          }
        },
        {
          "output_type": "stream",
          "text": [
            "Uploaded file with ID 124wFK18KVmSf702HduFN14xbIo3NJXeq\n",
            "K=6\n"
          ],
          "name": "stdout"
        },
        {
          "output_type": "display_data",
          "data": {
            "image/png": "[encoded data removed]",
            "text/plain": [
              "<Figure size 432x288 with 1 Axes>"
            ]
          },
          "metadata": {
            "tags": []
          }
        },
        {
          "output_type": "stream",
          "text": [
            "Uploaded file with ID 1eyhHdFH_oGrKisdP2ONYRyG--NUG_i86\n",
            "K=7\n"
          ],
          "name": "stdout"
        },
        {
          "output_type": "display_data",
          "data": {
            "image/png": "[encoded data removed]",
            "text/plain": [
              "<Figure size 432x288 with 1 Axes>"
            ]
          },
          "metadata": {
            "tags": []
          }
        },
        {
          "output_type": "stream",
          "text": [
            "Uploaded file with ID 1e3lm-kyFD18P2KWpUnPELKs4xbspY0XK\n",
            "K=8\n"
          ],
          "name": "stdout"
        },
        {
          "output_type": "display_data",
          "data": {
            "image/png": "[encoded data removed]",
            "text/plain": [
              "<Figure size 432x288 with 1 Axes>"
            ]
          },
          "metadata": {
            "tags": []
          }
        },
        {
          "output_type": "stream",
          "text": [
            "Uploaded file with ID 1W7UmXHDo8_5IgE2Q-89RrNpzJnEhPe6W\n",
            "K=9\n"
          ],
          "name": "stdout"
        },
        {
          "output_type": "display_data",
          "data": {
            "image/png": "[encoded data removed]",
            "text/plain": [
              "<Figure size 432x288 with 1 Axes>"
            ]
          },
          "metadata": {
            "tags": []
          }
        },
        {
          "output_type": "stream",
          "text": [
            "Uploaded file with ID 1LM4c6ve3TrpqFNMFneWXnpquGptZT3Ky\n",
            "K=10\n"
          ],
          "name": "stdout"
        },
        {
          "output_type": "display_data",
          "data": {
            "image/png": "[encoded data removed]",
            "text/plain": [
              "<Figure size 432x288 with 1 Axes>"
            ]
          },
          "metadata": {
            "tags": []
          }
        },
        {
          "output_type": "stream",
          "text": [
            "Uploaded file with ID 1q_d7SIWHxIjE27ivXprmoDilAlEQqPtU\n",
            "K=11\n"
          ],
          "name": "stdout"
        },
        {
          "output_type": "display_data",
          "data": {
            "image/png": "[encoded data removed]",
            "text/plain": [
              "<Figure size 432x288 with 1 Axes>"
            ]
          },
          "metadata": {
            "tags": []
          }
        },
        {
          "output_type": "stream",
          "text": [
            "Uploaded file with ID 12gCVd_4nOKj7GdvRUzi91WQoQz-R2nL6\n",
            "K=12\n"
          ],
          "name": "stdout"
        },
        {
          "output_type": "display_data",
          "data": {
            "image/png": "[encoded data removed]",
            "text/plain": [
              "<Figure size 432x288 with 1 Axes>"
            ]
          },
          "metadata": {
            "tags": []
          }
        },
        {
          "output_type": "stream",
          "text": [
            "Uploaded file with ID 1WjV1XO6yyFYpkc9YbRBDtizfcvLOK8IQ\n",
            "K=13\n"
          ],
          "name": "stdout"
        },
        {
          "output_type": "display_data",
          "data": {
            "image/png": "[encoded data removed]",
            "text/plain": [
              "<Figure size 432x288 with 1 Axes>"
            ]
          },
          "metadata": {
            "tags": []
          }
        },
        {
          "output_type": "stream",
          "text": [
            "Uploaded file with ID 1jLdj5xfrYcnpke3KpxlCZ2EBBXbCqLiZ\n",
            "K=14\n"
          ],
          "name": "stdout"
        },
        {
          "output_type": "display_data",
          "data": {
            "image/png": "[encoded data removed]",
            "text/plain": [
              "<Figure size 432x288 with 1 Axes>"
            ]
          },
          "metadata": {
            "tags": []
          }
        },
        {
          "output_type": "stream",
          "text": [
            "Uploaded file with ID 1mQxV69edmbHFV58zzBEz74sIm_-CftF3\n",
            "K=15\n"
          ],
          "name": "stdout"
        },
        {
          "output_type": "display_data",
          "data": {
            "image/png": "[encoded data removed]",
            "text/plain": [
              "<Figure size 432x288 with 1 Axes>"
            ]
          },
          "metadata": {
            "tags": []
          }
        },
        {
          "output_type": "stream",
          "text": [
            "Uploaded file with ID 1MrWI8St-fkGlgBssjgEK3pR7IRLMNsyk\n",
            "K=16\n"
          ],
          "name": "stdout"
        },
        {
          "output_type": "display_data",
          "data": {
            "image/png": "[encoded data removed]",
            "text/plain": [
              "<Figure size 432x288 with 1 Axes>"
            ]
          },
          "metadata": {
            "tags": []
          }
        },
        {
          "output_type": "stream",
          "text": [
            "Uploaded file with ID 1PrMwKzraC5oKj3-mo7ROgfFusu5skWzr\n",
            "K=17\n"
          ],
          "name": "stdout"
        },
        {
          "output_type": "display_data",
          "data": {
            "image/png": "[encoded data removed]",
            "text/plain": [
              "<Figure size 432x288 with 1 Axes>"
            ]
          },
          "metadata": {
            "tags": []
          }
        },
        {
          "output_type": "stream",
          "text": [
            "Uploaded file with ID 1n3Mdev-AlTTqq_7edWkj4xjQV-EzhVt0\n",
            "K=18\n"
          ],
          "name": "stdout"
        },
        {
          "output_type": "display_data",
          "data": {
            "image/png": "[encoded data removed]",
            "text/plain": [
              "<Figure size 432x288 with 1 Axes>"
            ]
          },
          "metadata": {
            "tags": []
          }
        },
        {
          "output_type": "stream",
          "text": [
            "Uploaded file with ID 1RXSKdCqETI8iSzj7qimowGmp6YHB4S6x\n",
            "K=19\n"
          ],
          "name": "stdout"
        },
        {
          "output_type": "display_data",
          "data": {
            "image/png": "[encoded data removed]",
            "text/plain": [
              "<Figure size 432x288 with 1 Axes>"
            ]
          },
          "metadata": {
            "tags": []
          }
        },
        {
          "output_type": "stream",
          "text": [
            "Uploaded file with ID 1DLqWj_UrQI0AV-7E9K5ZxC9g4ObaR284\n",
            "K=20\n"
          ],
          "name": "stdout"
        },
        {
          "output_type": "display_data",
          "data": {
            "image/png": "[encoded data removed]",
            "text/plain": [
              "<Figure size 432x288 with 1 Axes>"
            ]
          },
          "metadata": {
            "tags": []
          }
        },
        {
          "output_type": "stream",
          "text": [
            "Uploaded file with ID 14SoSx6X29k5mVMMb7hrXsvQH0HlbHwce\n"
          ],
          "name": "stdout"
        },
        {
          "output_type": "display_data",
          "data": {
            "text/plain": [
              "<Figure size 432x288 with 0 Axes>"
            ]
          },
          "metadata": {
            "tags": []
          }
        }
      ]
    },
    {
      "cell_type": "code",
      "metadata": {
        "colab_type": "code",
        "id": "DQFQBkpbB6_D",
        "outputId": "9953b06c-2ee8-4e24-bca6-38ae308a4066",
        "colab": {
          "base_uri": "https://localhost:8080/",
          "height": 545
        }
      },
      "source": [
        "fig = plt.figure()\n",
        "ax1 = fig.add_subplot(2, 2, 1)\n",
        "ax2 = fig.add_subplot(2, 2, 2)\n",
        "ax3 = fig.add_subplot(2, 2, 3)\n",
        "ax4 = fig.add_subplot(2, 2, 4)\n",
        "axlist = [ax1, ax2, ax3, ax4]\n",
        "for c, s, ax,t in zip(clist[1:], slist[1:], axlist, subt[1:]):\n",
        "    ax.plot(c, '-o', label='churner')\n",
        "    ax.plot(s, '-o', label='stayer')\n",
        "    ax.legend()\n",
        "    ax.axis((0,20,0,15e4))\n",
        "    ax.set_title(t)\n",
        "fig.subplots_adjust(wspace=1, hspace=1)\n",
        "plt.show()\n",
        "\n",
        "fig = plt.figure()\n",
        "ax1 = fig.add_subplot(2, 2, 1)\n",
        "ax2 = fig.add_subplot(2, 2, 2)\n",
        "ax3 = fig.add_subplot(2, 2, 3)\n",
        "ax4 = fig.add_subplot(2, 2, 4)\n",
        "axlist = [ax1, ax2, ax3, ax4]\n",
        "for c, s, ax, t in zip(clist[-4:], slist[-4:], axlist, subt[-4:]):\n",
        "    ax.plot(c, '-o', label='churner')\n",
        "    ax.plot(s, '-o', label='stayer')\n",
        "    ax.legend()\n",
        "    ax.axis((0,20,0,15e4))\n",
        "    ax.set_title(t)\n",
        "fig.subplots_adjust(wspace=1, hspace=1)\n",
        "plt.show()"
      ],
      "execution_count": 39,
      "outputs": [
        {
          "output_type": "display_data",
          "data": {
            "image/png": "[encoded data removed]",
            "text/plain": [
              "<Figure size 432x288 with 4 Axes>"
            ]
          },
          "metadata": {
            "tags": []
          }
        },
        {
          "output_type": "display_data",
          "data": {
            "image/png": "[encoded data removed]",
            "text/plain": [
              "<Figure size 432x288 with 4 Axes>"
            ]
          },
          "metadata": {
            "tags": []
          }
        }
      ]
    },
    {
      "cell_type": "code",
      "metadata": {
        "colab_type": "code",
        "id": "JlWoElW9CFcV",
        "colab": {}
      },
      "source": [
        "# Extract temporal features for task2\n",
        "for T in list_of_T:\n",
        "    users, posts = users_of_task2[T], posts_of_task2[T]\n",
        "    features_of_task2[T]['gap1'] = getTimeGap1OfUser(users, posts)\n",
        "    features_of_task2[T]['last_gap'] = getTimeLastGapOfPosts(posts).fillna(features_of_task2[T]['gap1'])\n",
        "    #features_of_task2[T]['last_gap'] = getTimeLastGapOfPosts(posts).fillna(0)\n",
        "    features_of_task2[T]['time_since_last_post'] = getTimeSinceLastPost(users, posts, T)\n",
        "    features_of_task2[T]['mean_gap'] = getTimeMeanGap(posts)\n",
        "  \n"
      ],
      "execution_count": 0,
      "outputs": []
    },
    {
      "cell_type": "markdown",
      "metadata": {
        "colab_type": "text",
        "id": "rB7E22Q4MSWR"
      },
      "source": [
        "3-2. Frequency features"
      ]
    },
    {
      "cell_type": "code",
      "metadata": {
        "colab_type": "code",
        "id": "wpECyr9kMTvJ",
        "colab": {}
      },
      "source": [
        "# Frequency features 1: num_answers\n",
        "# Frequency features 2: num_questions\n",
        "def getNumAnswers(posts):\n",
        "    answers = posts[posts['PostTypeId'] == 2]\n",
        "    return answers.groupby('OwnerUserId')['OwnerUserId'].count()\n",
        "\n",
        "def getNumQuestions(posts):\n",
        "    questions = posts[posts['PostTypeId'] == 1]\n",
        "    return questions.groupby('OwnerUserId')['OwnerUserId'].count()\n"
      ],
      "execution_count": 0,
      "outputs": []
    },
    {
      "cell_type": "code",
      "metadata": {
        "colab_type": "code",
        "id": "KqmIPayXNHqY",
        "colab": {}
      },
      "source": [
        "# Frequency features 3: ans_ques_ratio\n",
        "def getAnsQuesRatio(num_answers, num_questions):\n",
        "    # Use Laplace Smoothing\n",
        "    return (num_answers + 1) / (num_questions + 1)\n"
      ],
      "execution_count": 0,
      "outputs": []
    },
    {
      "cell_type": "code",
      "metadata": {
        "colab_type": "code",
        "id": "PNWqcYeONJvE",
        "colab": {}
      },
      "source": [
        "# Frequency features 4: num_posts\n",
        "def getNumPosts(posts):\n",
        "    return posts.groupby('OwnerUserId')['OwnerUserId'].count().astype('float')"
      ],
      "execution_count": 0,
      "outputs": []
    },
    {
      "cell_type": "code",
      "metadata": {
        "colab_type": "code",
        "id": "_jRcG-juDigR",
        "outputId": "8cb75dc5-4c5a-403b-adac-d0434a1843b3",
        "colab": {
          "base_uri": "https://localhost:8080/",
          "height": 253
        }
      },
      "source": [
        "# Extract frequency features of task1\n",
        "for K in list_of_K:\n",
        "    users, posts = users_of_task1[K], posts_of_task1[K]\n",
        "    features_of_task1[K]['num_answers'] = getNumAnswers(posts)\n",
        "    features_of_task1[K]['num_questions'] = getNumQuestions(posts)\n",
        "    features_of_task1[K] = features_of_task1[K].fillna({'num_answers':0, 'num_questions':0})\n",
        "    features_of_task1[K]['ans_que_ratio'] = \\\n",
        "        getAnsQuesRatio(features_of_task1[K]['num_answers'], features_of_task1[K]['num_questions'])"
      ],
      "execution_count": 44,
      "outputs": [
        {
          "output_type": "stream",
          "text": [
            "/usr/local/lib/python3.6/dist-packages/ipykernel_launcher.py:3: SettingWithCopyWarning: \n",
            "A value is trying to be set on a copy of a slice from a DataFrame.\n",
            "Try using .loc[row_indexer,col_indexer] = value instead\n",
            "\n",
            "See the caveats in the documentation: http://pandas.pydata.org/pandas-docs/stable/indexing.html#indexing-view-versus-copy\n",
            "  This is separate from the ipykernel package so we can avoid doing imports until\n",
            "/usr/local/lib/python3.6/dist-packages/ipykernel_launcher.py:4: SettingWithCopyWarning: \n",
            "A value is trying to be set on a copy of a slice from a DataFrame.\n",
            "Try using .loc[row_indexer,col_indexer] = value instead\n",
            "\n",
            "See the caveats in the documentation: http://pandas.pydata.org/pandas-docs/stable/indexing.html#indexing-view-versus-copy\n",
            "  after removing the cwd from sys.path.\n"
          ],
          "name": "stderr"
        }
      ]
    },
    {
      "cell_type": "code",
      "metadata": {
        "colab_type": "code",
        "id": "pHo_ds2wFRWB",
        "colab": {}
      },
      "source": [
        "# Extract frequency features of task2\n",
        "for T in list_of_T:\n",
        "    users, posts = users_of_task2[T], posts_of_task2[T]\n",
        "    features_of_task2[T]['num_answers'] = getNumAnswers(posts)\n",
        "    features_of_task2[T]['num_questions'] = getNumQuestions(posts)\n",
        "    features_of_task2[T] = features_of_task2[T].fillna({'num_answers':0,'num_questions':0})\n",
        "    features_of_task2[T]['ans_que_ratio'] = \\\n",
        "        getAnsQuesRatio(features_of_task2[T]['num_answers'], features_of_task2[T]['num_questions'])\n",
        "    features_of_task2[T]['num_posts'] = getNumPosts(posts)"
      ],
      "execution_count": 0,
      "outputs": []
    },
    {
      "cell_type": "code",
      "metadata": {
        "colab_type": "code",
        "id": "ItDHgLi6FtEA",
        "outputId": "232163fd-ad26-4c93-f365-13e40fa0798b",
        "colab": {
          "base_uri": "https://localhost:8080/",
          "height": 827
        }
      },
      "source": [
        "# Figure 3: # Answers vs Churn probability\n",
        "#    The probability of churning for a user decreases the more answers s/he provides.\n",
        "#    It is even lower if s/he asks more questions alongside.\n",
        "\n",
        "min_num_users = 50\n",
        "for T in list_of_T:\n",
        "    task2 = features_of_task2[T]\n",
        "    for num_que_ask in range(5):\n",
        "        subgroup = task2[task2['num_questions'] == num_que_ask]\n",
        "        churn_probs = []\n",
        "        num_answers = list(set(subgroup['num_answers']))\n",
        "        num_answers.sort()\n",
        "        for num_ans in num_answers:\n",
        "            subsubgroup = subgroup[subgroup['num_answers'] == num_ans]\n",
        "            prob = sum(subsubgroup['is_churn']) / subsubgroup.shape[0]\n",
        "            if subsubgroup.shape[0] >= min_num_users:\n",
        "                churn_probs.append((num_ans, prob))\n",
        "\n",
        "        plt.plot([np.log10(x[0]+1) for x in churn_probs],\n",
        "                 [np.log10(x[1]+0.01) for x in churn_probs],\n",
        "                 '-o',\n",
        "                 label='{} ques asked'.format(num_que_ask))\n",
        "    print(\"# Answers vs Churn probability\")\n",
        "    plt.legend()\n",
        "    plt.axis((0,2,-2,0))\n",
        "    plt.show()"
      ],
      "execution_count": 46,
      "outputs": [
        {
          "output_type": "stream",
          "text": [
            "# Answers vs Churn probability\n"
          ],
          "name": "stdout"
        },
        {
          "output_type": "display_data",
          "data": {
            "image/png": "[encoded data removed]",
            "text/plain": [
              "<Figure size 432x288 with 1 Axes>"
            ]
          },
          "metadata": {
            "tags": []
          }
        },
        {
          "output_type": "stream",
          "text": [
            "# Answers vs Churn probability\n"
          ],
          "name": "stdout"
        },
        {
          "output_type": "display_data",
          "data": {
            "image/png": "[encoded data removed]",
            "text/plain": [
              "<Figure size 432x288 with 1 Axes>"
            ]
          },
          "metadata": {
            "tags": []
          }
        },
        {
          "output_type": "stream",
          "text": [
            "# Answers vs Churn probability\n"
          ],
          "name": "stdout"
        },
        {
          "output_type": "display_data",
          "data": {
            "image/png": "[encoded data removed]",
            "text/plain": [
              "<Figure size 432x288 with 1 Axes>"
            ]
          },
          "metadata": {
            "tags": []
          }
        }
      ]
    },
    {
      "cell_type": "markdown",
      "metadata": {
        "colab_type": "text",
        "id": "HYDXzIXLNN58"
      },
      "source": [
        "3-3. Knowledge features"
      ]
    },
    {
      "cell_type": "code",
      "metadata": {
        "colab_type": "code",
        "id": "-W1GRvX0PRk_",
        "colab": {}
      },
      "source": [
        "# For the fast extraction, prepare questions x answers\n",
        "def preprocessForKnowledgeFeaturesForTask1(users, posts, all_posts):\n",
        "    answers = posts[posts['PostTypeId'] == 2]\n",
        "    questions = posts[posts['PostTypeId'] == 1]\n",
        "    all_answers = all_posts[all_posts['PostTypeId'] == 2]\n",
        "    all_questions = all_posts[all_posts['PostTypeId'] == 1]\n",
        "\n",
        "    qnta = all_answers.set_index('ParentId')\\\n",
        "        .join(questions, how='inner',\\\n",
        "              lsuffix='A', rsuffix='Q')\n",
        "    tqna = answers.set_index('ParentId')\\\n",
        "        .join(all_questions, how='inner',\\\n",
        "              lsuffix='A', rsuffix='Q')\n",
        "    return answers, questions, qnta, tqna"
      ],
      "execution_count": 0,
      "outputs": []
    },
    {
      "cell_type": "code",
      "metadata": {
        "colab_type": "code",
        "id": "H-D6rXdOa4ms",
        "colab": {}
      },
      "source": [
        "# For the fast extraction, prepare questions x answers\n",
        "def preprocessForKnowledgeFeaturesForTask2(users, posts):\n",
        "    answers = posts[posts['PostTypeId'] == 2]\n",
        "    questions = posts[posts['PostTypeId'] == 1]\n",
        "    qna = answers\\\n",
        "        .set_index('ParentId').join(questions, how='inner',\\\n",
        "                                    lsuffix='A', rsuffix='Q')\n",
        "    return answers, questions, qna, qna"
      ],
      "execution_count": 0,
      "outputs": []
    },
    {
      "cell_type": "code",
      "metadata": {
        "colab_type": "code",
        "id": "s7c9nOpPNLdO",
        "colab": {}
      },
      "source": [
        "# Knowledge features 1: accepted_answerer_rep\n",
        "def getRepOfAcceptedAnswerer(users, answers, questions, qnta, tqna):\n",
        "    reputations = users.loc[:, ['Reputation']]\n",
        "    rep_accepted_ans = qnta[qnta['AcceptedAnswerIdQ'] == qnta['IdA']]\\\n",
        "        .set_index('OwnerUserIdA')\\\n",
        "        .join(reputations, how='inner')\\\n",
        "        .groupby('OwnerUserIdQ')['Reputation'].mean()\n",
        "    return rep_accepted_ans\n"
      ],
      "execution_count": 0,
      "outputs": []
    },
    {
      "cell_type": "code",
      "metadata": {
        "colab_type": "code",
        "id": "oVLRFX12NPCZ",
        "colab": {}
      },
      "source": [
        "# Knowledge features 2: max_rep_answerer \n",
        "def getMaxRepAmongAnswerer(users, answers, questions, qnta, tqna):\n",
        "    reputations = users.loc[:, ['Reputation']]\n",
        "    rep_max_ans = qnta.set_index('OwnerUserIdA')\\\n",
        "        .join(reputations, how='inner')\\\n",
        "        .groupby('OwnerUserIdQ')['Reputation'].max()\n",
        "    return rep_max_ans\n"
      ],
      "execution_count": 0,
      "outputs": []
    },
    {
      "cell_type": "code",
      "metadata": {
        "colab_type": "code",
        "id": "h7F5YoZ7NQUk",
        "colab": {}
      },
      "source": [
        "# Knowledge features 3: num_que_answered\n",
        "def getNumQueAnswered(users, answers, questions, qnta, tqna):\n",
        "    # number of questions posted by the user that got answered\n",
        "    #questions = posts[posts['PostTypeId'] == 1]\n",
        "    answered_questions = questions[questions['AnswerCount'] > 0]\n",
        "    return answered_questions.groupby('OwnerUserId')['AnswerCount'].count()\n"
      ],
      "execution_count": 0,
      "outputs": []
    },
    {
      "cell_type": "code",
      "metadata": {
        "colab_type": "code",
        "id": "3vZxSTm5NRPx",
        "colab": {}
      },
      "source": [
        "# Knowledge features 4: time_for_first_ans\n",
        "def getTimeForFirstAns(users, answers, questions, qnta, tqna):\n",
        "    tmp =  qnta[qnta['CreationDateQ'] < qnta['CreationDateA']]\n",
        "    tmp['time_for_ans'] = (tmp['CreationDateA'] - tmp['CreationDateQ']).dt.total_seconds() / 60\n",
        "    questions['time_for_first_ans'] = tmp.groupby(by=tmp.index)['time_for_ans'].min()\n",
        "    return questions.groupby('OwnerUserId')['time_for_first_ans'].mean()\n"
      ],
      "execution_count": 0,
      "outputs": []
    },
    {
      "cell_type": "code",
      "metadata": {
        "colab_type": "code",
        "id": "a-tFQfJQNSe0",
        "colab": {}
      },
      "source": [
        "# Knowledge features 5: rep_questioner\n",
        "def getAvgRepOfQuestioner(users, answers, questions, qnta, tqna):\n",
        "    # Avg. reputation of the user whose question was answered\n",
        "    reputations = users.loc[:, ['Reputation']]\n",
        "    rep_accepted_ans = tqna.set_index('OwnerUserIdQ')\\\n",
        "        .join(reputations, how='inner')\\\n",
        "        .groupby('OwnerUserIdA')['Reputation'].mean()\n",
        "    return rep_accepted_ans\n"
      ],
      "execution_count": 0,
      "outputs": []
    },
    {
      "cell_type": "code",
      "metadata": {
        "colab_type": "code",
        "id": "3DfugZxXNTeC",
        "colab": {}
      },
      "source": [
        "# Knowledge features 6: rep_answerers\n",
        "def getAvgRepOfAnswerer(users, answers, questions, qnta, tqna):\n",
        "    # Avg. reputation of the users who answered the question\n",
        "    reputations = users.loc[:, ['Reputation']]\n",
        "    rep_accepted_ans = qnta.set_index('OwnerUserIdA')\\\n",
        "        .join(reputations, how='inner')\\\n",
        "        .groupby('OwnerUserIdQ')['Reputation'].mean()\n",
        "    return rep_accepted_ans\n"
      ],
      "execution_count": 0,
      "outputs": []
    },
    {
      "cell_type": "code",
      "metadata": {
        "colab_type": "code",
        "id": "9sD-x4HhNUyX",
        "colab": {}
      },
      "source": [
        "# Knowledge features 7: rep_co_answerers\n",
        "def getAvgRepOfCoAnswerer(users, answers, questions, qnta, tqna):\n",
        "    reputations = users.loc[:, ['Reputation']]    \n",
        "    rep_ans = answers.set_index('OwnerUserId')\\\n",
        "        .join(reputations, how='inner')\\\n",
        "        .set_index('ParentId')\\\n",
        "        .join(questions, how='inner', lsuffix='A', rsuffix='Q')\n",
        "    avg_rep_ans = rep_ans.groupby(by=rep_ans.index)['Reputation'].mean()\n",
        "    rep_co_answerer = answers.set_index('ParentId')\\\n",
        "        .join(avg_rep_ans, how='inner')\\\n",
        "        .set_index('OwnerUserId')\n",
        "    return rep_co_answerer.groupby(by=rep_co_answerer.index)['Reputation'].mean()\n"
      ],
      "execution_count": 0,
      "outputs": []
    },
    {
      "cell_type": "code",
      "metadata": {
        "colab_type": "code",
        "id": "YBNqrO0jNWHJ",
        "colab": {}
      },
      "source": [
        "# Knowledge features 8: num_answers_recvd\n",
        "def getAvgNumAnsReceived(users, answers, questions, qnta, tqna):\n",
        "    #questions = posts[posts['PostTypeId'] == 1]\n",
        "    return questions.fillna({'AnswerCount': 0}).groupby('OwnerUserId')['AnswerCount'].mean()\n"
      ],
      "execution_count": 0,
      "outputs": []
    },
    {
      "cell_type": "code",
      "metadata": {
        "colab_type": "code",
        "id": "BlYoLY17HvpP",
        "outputId": "f209eced-a3ec-489d-8671-4a1fa7e3c925",
        "colab": {
          "base_uri": "https://localhost:8080/",
          "height": 613
        }
      },
      "source": [
        "# Extract knowledge features of task 1\n",
        "for K in list_of_K:\n",
        "    print(\"Extract knowledge features of task1(K=\",K,\")\")\n",
        "    users, posts = users_of_task1[K], posts_of_task1[K]\n",
        "    answers, questions, qnta, tqna = preprocessForKnowledgeFeaturesForTask1(users, posts, posts_df)\n",
        "    features_of_task1[K]['accepted_answerer_rep'] = getRepOfAcceptedAnswerer(users, answers, questions,  qnta, tqna)\n",
        "    features_of_task1[K]['max_rep_answerer'] = getMaxRepAmongAnswerer(users, answers, questions,  qnta, tqna)\n",
        "    features_of_task1[K]['num_que_answered'] = getNumQueAnswered(users, answers, questions,  qnta, tqna)\n",
        "    features_of_task1[K]['time_for_first_ans'] = getTimeForFirstAns(users, answers, questions, qnta, tqna)\n",
        "    features_of_task1[K]['rep_questioner'] = getAvgRepOfQuestioner(users, answers, questions, qnta, tqna)\n",
        "    features_of_task1[K]['rep_answerers'] = getAvgRepOfAnswerer(users, answers, questions, qnta, tqna)\n",
        "    features_of_task1[K]['rep_co_answerers'] = getAvgRepOfCoAnswerer(users, answers, questions, qnta, tqna)\n",
        "    features_of_task1[K]['num_answers_recvd'] = getAvgNumAnsReceived(users, answers, questions, qnta, tqna)"
      ],
      "execution_count": 57,
      "outputs": [
        {
          "output_type": "stream",
          "text": [
            "Extract knowledge features of task1(K= 1 )\n"
          ],
          "name": "stdout"
        },
        {
          "output_type": "stream",
          "text": [
            "/usr/local/lib/python3.6/dist-packages/ipykernel_launcher.py:3: SettingWithCopyWarning: \n",
            "A value is trying to be set on a copy of a slice from a DataFrame.\n",
            "Try using .loc[row_indexer,col_indexer] = value instead\n",
            "\n",
            "See the caveats in the documentation: http://pandas.pydata.org/pandas-docs/stable/indexing.html#indexing-view-versus-copy\n",
            "  This is separate from the ipykernel package so we can avoid doing imports until\n",
            "/usr/local/lib/python3.6/dist-packages/ipykernel_launcher.py:4: SettingWithCopyWarning: \n",
            "A value is trying to be set on a copy of a slice from a DataFrame.\n",
            "Try using .loc[row_indexer,col_indexer] = value instead\n",
            "\n",
            "See the caveats in the documentation: http://pandas.pydata.org/pandas-docs/stable/indexing.html#indexing-view-versus-copy\n",
            "  after removing the cwd from sys.path.\n"
          ],
          "name": "stderr"
        },
        {
          "output_type": "stream",
          "text": [
            "Extract knowledge features of task1(K= 2 )\n",
            "Extract knowledge features of task1(K= 3 )\n",
            "Extract knowledge features of task1(K= 4 )\n",
            "Extract knowledge features of task1(K= 5 )\n",
            "Extract knowledge features of task1(K= 6 )\n",
            "Extract knowledge features of task1(K= 7 )\n",
            "Extract knowledge features of task1(K= 8 )\n",
            "Extract knowledge features of task1(K= 9 )\n",
            "Extract knowledge features of task1(K= 10 )\n",
            "Extract knowledge features of task1(K= 11 )\n",
            "Extract knowledge features of task1(K= 12 )\n",
            "Extract knowledge features of task1(K= 13 )\n",
            "Extract knowledge features of task1(K= 14 )\n",
            "Extract knowledge features of task1(K= 15 )\n",
            "Extract knowledge features of task1(K= 16 )\n",
            "Extract knowledge features of task1(K= 17 )\n",
            "Extract knowledge features of task1(K= 18 )\n",
            "Extract knowledge features of task1(K= 19 )\n",
            "Extract knowledge features of task1(K= 20 )\n"
          ],
          "name": "stdout"
        }
      ]
    },
    {
      "cell_type": "code",
      "metadata": {
        "colab_type": "code",
        "id": "qSsmpTI_L3Gr",
        "outputId": "718305a8-bcfd-4f11-ea32-2d17c56d1332",
        "colab": {
          "base_uri": "https://localhost:8080/",
          "height": 307
        }
      },
      "source": [
        "for T in list_of_T:\n",
        "    print(\"Extract knowledge features of task2(T=)\",T,\")\")\n",
        "    users, posts = users_of_task2[T], posts_of_task2[T]\n",
        "    answers, questions, qna, qna1 = preprocessForKnowledgeFeaturesForTask2(users, posts)\n",
        "    features_of_task2[T]['accepted_answerer_rep'] = getRepOfAcceptedAnswerer(users, answers, questions, qna, qna1)\n",
        "    features_of_task2[T]['max_rep_answerer'] = getMaxRepAmongAnswerer(users, answers, questions, qna, qna1)\n",
        "    features_of_task2[T]['num_que_answered'] = getNumQueAnswered(users, answers, questions, qna, qna1)\n",
        "    features_of_task2[T]['time_for_first_ans'] = getTimeForFirstAns(users, answers, questions, qna, qna1)\n",
        "    features_of_task2[T]['rep_questioner'] = getAvgRepOfQuestioner(users, answers, questions, qna, qna1)\n",
        "    features_of_task2[T]['rep_answerers'] = getAvgRepOfAnswerer(users, answers, questions, qna, qna1)\n",
        "    features_of_task2[T]['rep_co_answerers'] = getAvgRepOfCoAnswerer(users, answers, questions, qna, qna1)\n",
        "    features_of_task2[T]['num_answers_recvd'] = getAvgNumAnsReceived(users, answers, questions, qna, qna1)"
      ],
      "execution_count": 58,
      "outputs": [
        {
          "output_type": "stream",
          "text": [
            "Extract knowledge features of task2(T=) 7 )\n"
          ],
          "name": "stdout"
        },
        {
          "output_type": "stream",
          "text": [
            "/usr/local/lib/python3.6/dist-packages/ipykernel_launcher.py:3: SettingWithCopyWarning: \n",
            "A value is trying to be set on a copy of a slice from a DataFrame.\n",
            "Try using .loc[row_indexer,col_indexer] = value instead\n",
            "\n",
            "See the caveats in the documentation: http://pandas.pydata.org/pandas-docs/stable/indexing.html#indexing-view-versus-copy\n",
            "  This is separate from the ipykernel package so we can avoid doing imports until\n",
            "/usr/local/lib/python3.6/dist-packages/ipykernel_launcher.py:4: SettingWithCopyWarning: \n",
            "A value is trying to be set on a copy of a slice from a DataFrame.\n",
            "Try using .loc[row_indexer,col_indexer] = value instead\n",
            "\n",
            "See the caveats in the documentation: http://pandas.pydata.org/pandas-docs/stable/indexing.html#indexing-view-versus-copy\n",
            "  after removing the cwd from sys.path.\n"
          ],
          "name": "stderr"
        },
        {
          "output_type": "stream",
          "text": [
            "Extract knowledge features of task2(T=) 15 )\n",
            "Extract knowledge features of task2(T=) 30 )\n"
          ],
          "name": "stdout"
        }
      ]
    },
    {
      "cell_type": "code",
      "metadata": {
        "colab_type": "code",
        "id": "9MT48B2mVZkQ",
        "outputId": "c900593b-be0e-460f-c08c-f70447669ae6",
        "colab": {
          "base_uri": "https://localhost:8080/",
          "height": 361
        }
      },
      "source": [
        "# Figure 4: K vs Time taken for the first answer to arrive\n",
        "#  The more the time taken for a user to receive an answer, \n",
        "#  the lesser the satisfaction level and the more the chances of churning.\n",
        "churners_time = []\n",
        "stayers_time = []\n",
        "for K in list_of_K:\n",
        "    subgroup = features_of_task1[K]\n",
        "    churners = subgroup[subgroup['is_churn'] == 1][subgroup['time_for_first_ans'] > 0] \n",
        "    stayers = subgroup[subgroup['is_churn'] == 0][subgroup['time_for_first_ans'] > 0]\n",
        "    churners_time.append(churners['time_for_first_ans'].mean())\n",
        "    stayers_time.append(stayers['time_for_first_ans'].mean())\n",
        "    \n",
        "\n",
        "plt.plot(churners_time, '-o', label='churner')\n",
        "plt.plot(stayers_time, '-o', label='stayer')\n",
        "plt.legend()\n",
        "# plt.axis((0,20,8e3,22e3))\n",
        "plt.show()"
      ],
      "execution_count": 59,
      "outputs": [
        {
          "output_type": "stream",
          "text": [
            "/usr/local/lib/python3.6/dist-packages/ipykernel_launcher.py:5: UserWarning: Boolean Series key will be reindexed to match DataFrame index.\n",
            "  \"\"\"\n",
            "/usr/local/lib/python3.6/dist-packages/ipykernel_launcher.py:6: UserWarning: Boolean Series key will be reindexed to match DataFrame index.\n",
            "  \n"
          ],
          "name": "stderr"
        },
        {
          "output_type": "display_data",
          "data": {
            "image/png": "[encoded data removed]",
            "text/plain": [
              "<Figure size 432x288 with 1 Axes>"
            ]
          },
          "metadata": {
            "tags": []
          }
        }
      ]
    },
    {
      "cell_type": "markdown",
      "metadata": {
        "colab_type": "text",
        "id": "a6xXsmwjf8I2"
      },
      "source": [
        "Implement the other features yourself!!\n",
        "\n",
        "3-4. Speed features\n",
        "\n",
        "3-5. Quality features\n",
        "\n",
        "3-6. Consistency features\n",
        "\n",
        "3-7. Gratitude features\n",
        "\n",
        "3-8. Competitiveness features\n",
        "\n",
        "3-9. Content features"
      ]
    },
    {
      "cell_type": "code",
      "metadata": {
        "colab_type": "code",
        "id": "_dudtEkMMr7O",
        "outputId": "1f116ce7-7fa0-48fd-a35f-74b624a3da0c",
        "colab": {
          "base_uri": "https://localhost:8080/",
          "height": 377
        }
      },
      "source": [
        "# Store the whole features of task1 to Google Drive\n",
        "for K in list_of_K:\n",
        "    store_df_at_google_drive('task1_{}posts_features.csv'.format(K), features_of_task1[K])\n",
        "#     features_of_task1[K].to_pickle('task1_{}posts_important_features.pkl'.format(K))\n",
        "#     features_of_task1[K].to_csv('task1_{}posts_important_features.csv'.format(K))"
      ],
      "execution_count": 66,
      "outputs": [
        {
          "output_type": "stream",
          "text": [
            "Uploaded file with ID 10ZKDeyGBuyHKthDM9Pt_flr8R1202oNn\n",
            "Uploaded file with ID 1GPQ90u0yHNcSbTBRvgfzWC2k0cdwLlPd\n",
            "Uploaded file with ID 1fZeiGIZR9DeiUtgODa5lM1voISp5MiMN\n",
            "Uploaded file with ID 1IuT3V9k9S_VtI4gOrIGvFyug-sL4FJvo\n",
            "Uploaded file with ID 1pc4ahaiKLsxDc5R3JoHoS5GhXckvad8c\n",
            "Uploaded file with ID 1SNsdCD_0vBhHlIJK69zzOjsIt6o9gcCg\n",
            "Uploaded file with ID 1nbrEs4GnARACdlStseOMyCV2g4TixQZl\n",
            "Uploaded file with ID 18L6g7x0GVDqhDHWSwOK1-kzGboO0qPcO\n",
            "Uploaded file with ID 1MJor52yCNCn67YpfiJSaoJHLEIRkGTsc\n",
            "Uploaded file with ID 1LTJetaqnRoeFiZ0fb8ej0ZjvbKENoUdS\n",
            "Uploaded file with ID 1R9fS9xMt2614cHHhmvRerVNpeCN4m5EG\n",
            "Uploaded file with ID 1RDjakVr6UAGPVqlAOzyL9dlpAmvJSlNG\n",
            "Uploaded file with ID 1iVGygIaKnBVhtuKtLnqpuDIoC6EyHlOZ\n",
            "Uploaded file with ID 107uUdh46z2CoL1riiZ9fBbCEc4W7jfA1\n",
            "Uploaded file with ID 1SUYuXZhf5cA6yZJpERVCvDNOI7aNoiBw\n",
            "Uploaded file with ID 1jltngvPHtReCYwtFvzU6LFg8cYdP5JLf\n",
            "Uploaded file with ID 1RT23H50ZnTjLfWcb2N_xHrFyfslski3u\n",
            "Uploaded file with ID 1ysEzAJGuN1-KJqRpcrvkE0ZK3iHLWIiC\n",
            "Uploaded file with ID 1VRbE8JRLz8_i3N77-7xlswqJax5pKAoo\n",
            "Uploaded file with ID 1_trVzkqpYQzZOcpDY1GbpTXjlDWUMdqO\n"
          ],
          "name": "stdout"
        }
      ]
    },
    {
      "cell_type": "code",
      "metadata": {
        "colab_type": "code",
        "id": "Kh4gc3g0NDI-",
        "outputId": "766e1003-5606-4322-a895-aa1b48277bd1",
        "colab": {
          "base_uri": "https://localhost:8080/",
          "height": 71
        }
      },
      "source": [
        "for T in list_of_T:\n",
        "    store_df_at_google_drive('task2_{}posts_features.csv'.format(T), features_of_task2[T])\n",
        "    #features_of_task2[T].to_pickle('task2_{}days_important_features.pkl'.format(T))\n",
        "    #features_of_task2[T].to_csv('task2_{}days_important_features.csv'.format(T))"
      ],
      "execution_count": 67,
      "outputs": [
        {
          "output_type": "stream",
          "text": [
            "Uploaded file with ID 1trWPsxNqPc4rHjfqn52VRVxbsQ6YzqtY\n",
            "Uploaded file with ID 1W7gCnA8eGWQDi1SCxEvwJN8n427SdeA8\n",
            "Uploaded file with ID 1nCsBmXL63s60ptz12x3qvGLZrWwTxxai\n"
          ],
          "name": "stdout"
        }
      ]
    },
    {
      "cell_type": "markdown",
      "metadata": {
        "colab_type": "text",
        "id": "Fhh-YaDUas2l"
      },
      "source": [
        "5. Train models for each tasks with the features\n",
        "\n",
        "    1. Decision Tree\n",
        "    2. SVM (Linear)\n",
        "    3. SVM (RBF)\n",
        "    4. Logistic Regression"
      ]
    },
    {
      "cell_type": "code",
      "metadata": {
        "colab_type": "code",
        "id": "CR4RcZp8dZFe",
        "colab": {}
      },
      "source": [
        "def fill_nan(features):\n",
        "    if 'time_for_first_ans' in features.columns and np.isnan(features['time_for_first_ans']).sum(0):\n",
        "        features['time_for_first_ans'] = 1 / features['time_for_first_ans']\n",
        "        features['time_for_first_ans'] = features['time_for_first_ans'].replace([np.nan], 0)\n",
        "    fill_constants = {\n",
        "        'accepted_answerer_rep': 0,\n",
        "        'max_rep_answerer': 0,\n",
        "        'num_que_answered': 0, \n",
        "        'rep_questioner': 0,\n",
        "        'rep_answerers': 0,\n",
        "        'rep_co_answerers': 0,\n",
        "        'num_answers_recvd': 0\n",
        "    }\n",
        "    return features.fillna(fill_constants)\n",
        "                                                                         "
      ],
      "execution_count": 0,
      "outputs": []
    },
    {
      "cell_type": "code",
      "metadata": {
        "colab_type": "code",
        "id": "b0d6jNmw2ipN",
        "outputId": "f2a11e49-e7f1-430d-eed3-16a4b0194c03",
        "colab": {
          "base_uri": "https://localhost:8080/",
          "height": 377
        }
      },
      "source": [
        "for K in list_of_K:\n",
        "    print(\"Fill NaN of task1(K=\",K,\")\")\n",
        "    features_of_task1[K] = fill_nan(features_of_task1[K])\n"
      ],
      "execution_count": 69,
      "outputs": [
        {
          "output_type": "stream",
          "text": [
            "Fill NaN of task1(K= 1 )\n",
            "Fill NaN of task1(K= 2 )\n",
            "Fill NaN of task1(K= 3 )\n",
            "Fill NaN of task1(K= 4 )\n",
            "Fill NaN of task1(K= 5 )\n",
            "Fill NaN of task1(K= 6 )\n",
            "Fill NaN of task1(K= 7 )\n",
            "Fill NaN of task1(K= 8 )\n",
            "Fill NaN of task1(K= 9 )\n",
            "Fill NaN of task1(K= 10 )\n",
            "Fill NaN of task1(K= 11 )\n",
            "Fill NaN of task1(K= 12 )\n",
            "Fill NaN of task1(K= 13 )\n",
            "Fill NaN of task1(K= 14 )\n",
            "Fill NaN of task1(K= 15 )\n",
            "Fill NaN of task1(K= 16 )\n",
            "Fill NaN of task1(K= 17 )\n",
            "Fill NaN of task1(K= 18 )\n",
            "Fill NaN of task1(K= 19 )\n",
            "Fill NaN of task1(K= 20 )\n"
          ],
          "name": "stdout"
        }
      ]
    },
    {
      "cell_type": "code",
      "metadata": {
        "colab_type": "code",
        "id": "ObxxJXT32irv",
        "outputId": "24cd900f-4c7b-406b-ff58-f7943d4d72ec",
        "colab": {
          "base_uri": "https://localhost:8080/",
          "height": 71
        }
      },
      "source": [
        "for T in list_of_T:\n",
        "    print(\"Fill NaN of task2(T=)\",T,\")\")\n",
        "    features_of_task2[T] = fill_nan(features_of_task2[T])\n"
      ],
      "execution_count": 70,
      "outputs": [
        {
          "output_type": "stream",
          "text": [
            "Fill NaN of task2(T=) 7 )\n",
            "Fill NaN of task2(T=) 15 )\n",
            "Fill NaN of task2(T=) 30 )\n"
          ],
          "name": "stdout"
        }
      ]
    },
    {
      "cell_type": "code",
      "metadata": {
        "colab_type": "code",
        "id": "zZM9rDE9WO7e",
        "colab": {}
      },
      "source": [
        "from sklearn.tree import DecisionTreeClassifier\n",
        "from sklearn.svm import SVC\n",
        "from sklearn.svm import LinearSVC\n",
        "from sklearn.linear_model import LogisticRegression\n",
        "from sklearn.model_selection import KFold\n",
        "\n",
        "import warnings\n",
        "warnings.filterwarnings(\"ignore\", category=DeprecationWarning)\n",
        "\n",
        "seed = 1234\n",
        "np.random.seed(seed)\n",
        "\n",
        "def LogisticRegression_(*arg, **kwarg):\n",
        "    kwarg['max_iter'] = 1e3\n",
        "    kwarg['solver'] = 'saga'\n",
        "    kwarg['n_jobs'] = 8\n",
        "    return LogisticRegression(*arg, **kwarg)\n",
        "\n",
        "  "
      ],
      "execution_count": 0,
      "outputs": []
    },
    {
      "cell_type": "code",
      "metadata": {
        "colab_type": "code",
        "id": "pmEBV3SA9fg6",
        "colab": {}
      },
      "source": [
        "def learn_model(data, train_features, target='is_churn', model=DecisionTreeClassifier, seed=seed):\n",
        "    X = data[train_features]\n",
        "    y = data[target]\n",
        "    print(model.__name__)\n",
        "        \n",
        "    ### 10-fold cross validation ###\n",
        "    acc_list = []\n",
        "    kf = KFold(n_splits=10, shuffle=True, random_state=seed)\n",
        "    for train_index, test_index in kf.split(X):\n",
        "        X_train, X_test = X.iloc[train_index], X.iloc[test_index]\n",
        "        y_train, y_test = y.iloc[train_index], y.iloc[test_index]\n",
        "\n",
        "        ### Under-sampling ###\n",
        "        churners = y_train[y_train == 1].index\n",
        "        stayers = y_train[y_train == 0].index\n",
        "        n_churn = len(churners)\n",
        "        n_stay = len(stayers)\n",
        "        if n_churn > n_stay:\n",
        "            churners = np.random.choice(churners, n_stay, replace=False)\n",
        "        else:\n",
        "            stayers = np.random.choice(stayers, n_churn, replace=False)\n",
        "        train_index = np.array(list(churners) + list(stayers))\n",
        "        X_train, y_train = X.reindex(train_index), y.reindex(train_index)\n",
        "\n",
        "        ### Learn Model ###\n",
        "        mdl = model().fit(X_train, y_train)\n",
        "        pred = mdl.predict(X_test)\n",
        "        acc = (pred == y_test)\n",
        "        acc_list.append(sum(acc)*100/len(acc))\n",
        "    return acc_list"
      ],
      "execution_count": 0,
      "outputs": []
    },
    {
      "cell_type": "code",
      "metadata": {
        "id": "TUFUNbuvD85E",
        "colab_type": "code",
        "colab": {}
      },
      "source": [
        "import time"
      ],
      "execution_count": 0,
      "outputs": []
    },
    {
      "cell_type": "code",
      "metadata": {
        "colab_type": "code",
        "id": "QjrE1aqQWO9t",
        "outputId": "25a1da89-f779-4309-dc3a-f9fdab4ce040",
        "colab": {
          "base_uri": "https://localhost:8080/",
          "height": 1000
        }
      },
      "source": [
        "# Table 2: Performance on Task 1\n",
        "\n",
        "drop_user_columns = ['Reputation', 'CreationDate', 'LastAccessDate', 'num_posts']\n",
        "\n",
        "# model = LogisticRegression_\n",
        "model = DecisionTreeClassifier\n",
        "for K in list_of_K:\n",
        "    stime = time.time()\n",
        "    print('Task 1, K={0}, start : {1}'.format(K, stime))\n",
        "    train_features = [col for col in features_of_task1[K].columns \n",
        "                      if col not in drop_user_columns + ['is_churn']]\n",
        "\n",
        "    acc_list = learn_model(features_of_task1[K], train_features, model=model)\n",
        "    print('Accuracy: {}'.format(np.mean(acc_list)))\n",
        "    print('    for each folds: {}'.format(acc_list))\n",
        "    print('end : {0}, execution time : {1}'.format(time.time(), time.time()-stime))\n"
      ],
      "execution_count": 75,
      "outputs": [
        {
          "output_type": "stream",
          "text": [
            "Task 1, K=1, start : 1571707548.0119524\n",
            "DecisionTreeClassifier\n",
            "Accuracy: 58.442373686893006\n",
            "    for each folds: [58.765866313791726, 58.69447878397437, 58.48379851304999, 58.202744114779215, 58.28458002507313, 58.34029809165622, 58.4360635185959, 58.10001392951665, 58.64848864744393, 58.46740493104889]\n",
            "end : 1571707597.679892, execution time : 49.66794013977051\n",
            "Task 1, K=2, start : 1571707597.679923\n",
            "DecisionTreeClassifier\n",
            "Accuracy: 54.02045753835788\n",
            "    for each folds: [53.74697577557958, 53.79903837319695, 54.22166416562031, 54.15122653354975, 53.93378862585367, 54.289039291948676, 54.411539521636605, 53.91847609714268, 53.866413499525315, 53.866413499525315]\n",
            "end : 1571707618.3301816, execution time : 20.650259017944336\n",
            "Task 1, K=3, start : 1571707618.3308635\n",
            "DecisionTreeClassifier\n",
            "Accuracy: 55.551213284398294\n",
            "    for each folds: [55.23572613124852, 55.53800592300099, 56.02369200394867, 55.332675222112535, 55.96051332675222, 55.735439289239885, 55.78677196446199, 55.34452122408687, 55.11154985192498, 55.44323790720632]\n",
            "end : 1571707632.9275718, execution time : 14.596708536148071\n",
            "Task 1, K=4, start : 1571707632.9276123\n",
            "DecisionTreeClassifier\n",
            "Accuracy: 56.626406267954906\n",
            "    for each folds: [57.74615025664956, 56.11759216052263, 57.158189454036396, 56.37890807279515, 56.26487470250595, 56.577535115964345, 55.84021652900275, 56.652200289327546, 56.97886042279154, 56.549535675953145]\n",
            "end : 1571707644.424552, execution time : 11.496939897537231\n",
            "Task 1, K=5, start : 1571707644.425147\n",
            "DecisionTreeClassifier\n",
            "Accuracy: 58.06667951397734\n",
            "    for each folds: [58.19362392889457, 57.672042152323165, 58.58214912981, 57.805098727979136, 58.01575473706621, 58.04236746859698, 58.260591867149245, 58.053012561209286, 58.25526932084309, 57.78688524590164]\n",
            "end : 1571707653.7822547, execution time : 9.357108116149902\n",
            "Task 1, K=6, start : 1571707653.7828443\n",
            "DecisionTreeClassifier\n",
            "Accuracy: 58.9083830504883\n",
            "    for each folds: [59.258819337213446, 59.377598289583084, 59.05689511818506, 58.997505642000235, 58.85497089915667, 58.567440755479005, 58.620894458632776, 58.73374116529073, 58.9475559779058, 58.66840886143612]\n",
            "end : 1571707661.8589022, execution time : 8.076059103012085\n",
            "Task 1, K=7, start : 1571707661.8589213\n",
            "DecisionTreeClassifier\n",
            "Accuracy: 59.845643426482546\n",
            "    for each folds: [59.540739774284035, 60.10829147367734, 59.67773501206863, 59.88648966012134, 60.19309804944876, 60.36923478374323, 58.94441544885177, 60.05349686847599, 60.12526096033403, 59.55767223382046]\n",
            "end : 1571707669.043833, execution time : 7.184912204742432\n",
            "Task 1, K=8, start : 1571707669.043852\n",
            "DecisionTreeClassifier\n",
            "Accuracy: 60.78042891634711\n",
            "    for each folds: [61.04956682289448, 60.82232637409459, 60.14770629171993, 61.12057946314444, 60.7939213179946, 60.53827581309473, 61.02116176679449, 61.31231359181935, 60.275529044169865, 60.72290867774464]\n",
            "end : 1571707675.6265664, execution time : 6.582714557647705\n",
            "Task 1, K=9, start : 1571707675.6271942\n",
            "DecisionTreeClassifier\n",
            "Accuracy: 61.48856272100013\n",
            "    for each folds: [61.64992716399601, 61.32495016101825, 61.025916270510656, 61.77733476460666, 60.96457598527833, 61.31728262536421, 61.42462812452078, 61.63931912283392, 61.71599447937433, 62.045698512498085]\n",
            "end : 1571707681.2612038, execution time : 5.634009838104248\n",
            "Task 1, K=10, start : 1571707681.2617562\n",
            "DecisionTreeClassifier\n",
            "Accuracy: 61.75166985485548\n",
            "    for each folds: [62.20614828209765, 61.38418543481835, 61.778727601512415, 61.951339799441065, 62.04175571264179, 61.800246609124535, 62.10439786272092, 61.05219893136046, 61.76736539251952, 61.43033292231812]\n",
            "end : 1571707686.3985164, execution time : 5.136760473251343\n",
            "Task 1, K=11, start : 1571707686.3985348\n",
            "DecisionTreeClassifier\n",
            "Accuracy: 62.2001951152479\n",
            "    for each folds: [61.90017513134851, 62.66199649737303, 61.9614711033275, 62.60945709281962, 62.34676007005254, 61.35726795096322, 62.215411558669004, 62.31173380035026, 62.35551663747811, 62.28216131009721]\n",
            "end : 1571707691.2587311, execution time : 4.860197067260742\n",
            "Task 1, K=12, start : 1571707691.2587502\n",
            "DecisionTreeClassifier\n",
            "Accuracy: 62.607516630530355\n",
            "    for each folds: [63.20781032078103, 61.766620176662016, 62.68712226871223, 62.274502510693694, 62.57206620792263, 62.637158266691465, 62.90682536730519, 63.5763436860703, 62.13501952761763, 62.31169797284731]\n",
            "end : 1571707695.7335956, execution time : 4.474845886230469\n",
            "Task 1, K=13, start : 1571707695.7336144\n",
            "DecisionTreeClassifier\n",
            "Accuracy: 63.002284243274815\n",
            "    for each folds: [63.01248648117196, 63.89735522564153, 62.87484023203225, 62.45206960967457, 63.09114148068036, 63.159964605250224, 63.356602104021235, 63.33693835414414, 62.51106085930587, 62.33038348082596]\n",
            "end : 1571707699.9560626, execution time : 4.2224485874176025\n",
            "Task 1, K=14, start : 1571707699.9567907\n",
            "DecisionTreeClassifier\n",
            "Accuracy: 63.801104322665864\n",
            "    for each folds: [63.69848829985504, 63.65707185752744, 65.08232370301336, 64.56456456456456, 63.75686030858444, 64.38852645749198, 62.938800869835354, 63.39442891167029, 62.8766697732215, 63.65330848089469]\n",
            "end : 1571707703.8299744, execution time : 3.8731842041015625\n",
            "Task 1, K=15, start : 1571707703.8305662\n",
            "DecisionTreeClassifier\n",
            "Accuracy: 64.05567077726758\n",
            "    for each folds: [64.96898465556644, 63.70265563778842, 63.22377013495864, 64.25772747061384, 64.36656508489334, 63.59381802350892, 63.45232912494558, 64.70396168915977, 63.74619068350022, 64.54070526774053]\n",
            "end : 1571707707.3078377, execution time : 3.477271795272827\n",
            "Task 1, K=16, start : 1571707707.3083003\n",
            "DecisionTreeClassifier\n",
            "Accuracy: 64.45744000083106\n",
            "    for each folds: [64.91567912488605, 64.43710118505014, 65.1207839562443, 65.16636280765725, 63.464387464387464, 63.37321937321937, 65.64102564102564, 64.02279202279202, 64.07977207977208, 64.35327635327636]\n",
            "end : 1571707710.6452553, execution time : 3.3369553089141846\n",
            "Task 1, K=17, start : 1571707710.6459928\n",
            "DecisionTreeClassifier\n",
            "Accuracy: 64.2256612552987\n",
            "    for each folds: [64.47540788376801, 63.8680481124211, 65.21376682148386, 63.8680481124211, 63.73704894605216, 65.10658568536383, 64.16577349053233, 63.046326068834105, 64.16150547879943, 64.6141019533111]\n",
            "end : 1571707713.7655568, execution time : 3.1195645332336426\n",
            "Task 1, K=18, start : 1571707713.7655776\n",
            "DecisionTreeClassifier\n",
            "Accuracy: 65.20960167750466\n",
            "    for each folds: [64.68761644516209, 65.28381567507142, 65.48254875170787, 65.50739038628741, 66.10358961619674, 64.6086956521739, 65.80124223602485, 64.85714285714286, 64.8695652173913, 64.8944099378882]\n",
            "end : 1571707716.7879715, execution time : 3.0223946571350098\n",
            "Task 1, K=19, start : 1571707716.7880547\n",
            "DecisionTreeClassifier\n",
            "Accuracy: 65.1491558229728\n",
            "    for each folds: [64.90297542043984, 65.03234152652006, 65.78266494178526, 65.53686934023285, 64.85122897800777, 66.88227684346701, 64.70892626131953, 64.04915912031048, 64.80786647690516, 64.93724932074007]\n",
            "end : 1571707719.7460878, execution time : 2.958033323287964\n",
            "Task 1, K=20, start : 1571707719.7467732\n",
            "DecisionTreeClassifier\n",
            "Accuracy: 65.13491590525591\n",
            "    for each folds: [64.9549670654658, 64.89647754772788, 65.40736757192794, 64.61414358698575, 66.28125840279645, 64.89647754772788, 65.31325625168056, 65.58214573810164, 64.27803172895939, 65.1250336111858]\n",
            "end : 1571707722.5190096, execution time : 2.7722365856170654\n"
          ],
          "name": "stdout"
        }
      ]
    },
    {
      "cell_type": "code",
      "metadata": {
        "colab_type": "code",
        "id": "ZgmKMwToWO_v",
        "outputId": "69728247-f6b0-4ce9-de55-1e22bfcd7bd8",
        "colab": {
          "base_uri": "https://localhost:8080/",
          "height": 307
        }
      },
      "source": [
        "# Table 3: Performance on Task 2\n",
        "\n",
        "drop_user_columns = ['Reputation', 'CreationDate', 'LastAccessDate']\n",
        "\n",
        "# model = LogisticRegression_\n",
        "model = DecisionTreeClassifier\n",
        "\n",
        "for T in list_of_T:\n",
        "    stime=time.time()\n",
        "    print('Task 2, T={0}, start : {1}'.format(T, stime))\n",
        "    train_features = [col for col in features_of_task2[T].columns \n",
        "                      if col not in drop_user_columns + ['is_churn']]\n",
        "\n",
        "    acc_list = learn_model(features_of_task2[T], train_features, model=model)\n",
        "    print('Accuracy: {}'.format(np.mean(acc_list)))\n",
        "    print('    for each folds: {}'.format(acc_list))\n",
        "    print('end : {0}, execution time : {1}'.format(time.time(), time.time()-stime))\n"
      ],
      "execution_count": 78,
      "outputs": [
        {
          "output_type": "stream",
          "text": [
            "Task 2, T=7, start : 1571707838.4349902\n",
            "DecisionTreeClassifier\n",
            "Accuracy: 66.08728233845257\n",
            "    for each folds: [66.57391780322037, 66.20672353236327, 66.23181133968892, 66.22953062993203, 65.81672216393741, 66.11472231725396, 66.06226479644201, 66.17630288516365, 65.6699737712396, 65.79085414528453]\n",
            "end : 1571707887.8908575, execution time : 49.455867528915405\n",
            "Task 2, T=15, start : 1571707887.8914955\n",
            "DecisionTreeClassifier\n",
            "Accuracy: 67.40059253431315\n",
            "    for each folds: [67.22252777472225, 67.44692553074469, 67.20860650327803, 67.23720684648215, 67.62881154573854, 67.66401196814361, 67.26140713688564, 67.54741056892682, 67.38460861530338, 67.40440885290623]\n",
            "end : 1571707937.1382804, execution time : 49.246785163879395\n",
            "Task 2, T=30, start : 1571707937.138951\n",
            "DecisionTreeClassifier\n",
            "Accuracy: 68.28044453954989\n",
            "    for each folds: [68.36674153494089, 68.46209263889477, 68.15696910624231, 68.07645039623681, 68.45573589863118, 68.29046065177776, 68.15629436568983, 68.41268832242069, 68.13722374080902, 68.28978873985548]\n",
            "end : 1571707988.9005573, execution time : 51.76160645484924\n"
          ],
          "name": "stdout"
        }
      ]
    },
    {
      "cell_type": "code",
      "metadata": {
        "colab_type": "code",
        "id": "tFM2c6IXaGGu",
        "colab": {}
      },
      "source": [
        "# Figure 5: Churn prediction accuracy when features from each category are used in isolation\n",
        "\n",
        "temporal_features = ['gap1', 'last_gap', 'time_since_last_post', 'mean_gap']\n",
        "frequency_features = ['num_answers', 'num_questions',\n",
        "                      'ans_que_ratio', 'num_posts']\n",
        "speed_features = ['answering_speed']\n",
        "quality_features = ['ans_score', 'que_score']\n",
        "consistency_features = ['ans_stddev', 'que_stddev']\n",
        "gratitude_features = ['ans_comments', 'que_comments']\n",
        "competitiveness_features = ['relative_rank_pos']\n",
        "content_features = ['ans_length', 'que_length']\n",
        "knowledge_features = ['accepted_answerer_rep', 'max_rep_answerer',\n",
        "                      'num_que_answered', 'time_for_first_ans',\n",
        "                      'rep_questioner', 'rep_answerers',\n",
        "                      'rep_co_answerers', 'num_answers_recvd']\n",
        "\n",
        "analysis_feature_names = {\n",
        "    'temporal': temporal_features,\n",
        "    'frequency': frequency_features,\n",
        "    'speed': speed_features,\n",
        "    'quality': quality_features,\n",
        "    'consistency': consistency_features,\n",
        "    'gratitude': gratitude_features,\n",
        "    'competitiveness': competitiveness_features,\n",
        "    'content': content_features,\n",
        "    'knowledge': knowledge_features,\n",
        "}"
      ],
      "execution_count": 0,
      "outputs": []
    },
    {
      "cell_type": "code",
      "metadata": {
        "colab_type": "code",
        "id": "ef5ac_2R1rPj",
        "outputId": "b9087def-456d-4839-9b1b-a0daef0a18ed",
        "colab": {
          "base_uri": "https://localhost:8080/",
          "height": 1000
        }
      },
      "source": [
        "task1_accuracy_of_category = {}\n",
        "for name, feature_list in analysis_feature_names.items():\n",
        "    accuracy_of_category = []\n",
        "    for K in list_of_K:\n",
        "        if name == 'temporal':\n",
        "            feature_list = ['gap{}'.format(j) for j in range(1, K+1)]\n",
        "        elif name == 'frequency':\n",
        "            features_list = [feat for feat in feature_list if feat != 'num_posts']\n",
        "        train_features = [feat for feat in feature_list if feat in features_of_task1[K].columns]\n",
        "        if len(train_features) == 0:\n",
        "            continue\n",
        "        stime = time.time()\n",
        "        print('\\n{}, Task 1, K={}, start : {}'.format(name, K, stime))\n",
        "        print('    columns: {}'.format(train_features))\n",
        "         \n",
        "        acc_list = learn_model(features_of_task1[K], train_features)\n",
        "        mean_acc = np.mean(acc_list)\n",
        "        accuracy_of_category.append(mean_acc)\n",
        "        print('Accuracy: {}'.format(mean_acc))\n",
        "        print('    for each folds: {}'.format(acc_list))\n",
        "        print('end : {}, execution time : {}'.format(time.time(), time.time()-stime))\n",
        "    task1_accuracy_of_category[name] = accuracy_of_category"
      ],
      "execution_count": 80,
      "outputs": [
        {
          "output_type": "stream",
          "text": [
            "\n",
            "temporal, Task 1, K=1, start : 1571708399.6420677\n",
            "    columns: ['gap1']\n",
            "DecisionTreeClassifier\n",
            "Accuracy: 58.77772638783036\n",
            "    for each folds: [58.99744049588216, 58.66487907648913, 58.51862169832675, 58.74599526396434, 58.77211310767516, 58.669382922412595, 59.07508009472071, 58.46914612062962, 59.203928123694105, 58.66067697450899]\n",
            "end : 1571708440.215631, execution time : 40.57356357574463\n",
            "\n",
            "temporal, Task 1, K=2, start : 1571708440.216183\n",
            "    columns: ['gap1', 'gap2']\n",
            "DecisionTreeClassifier\n",
            "Accuracy: 53.06526199736625\n",
            "    for each folds: [53.060974489327165, 53.220224787921474, 53.58772547698527, 52.760848926591734, 53.03341193764739, 52.57709858205984, 53.1712246960463, 53.05791198358497, 53.25084984534346, 52.93234924815484]\n",
            "end : 1571708454.195366, execution time : 13.979197025299072\n",
            "\n",
            "temporal, Task 1, K=3, start : 1571708454.1954908\n",
            "    columns: ['gap1', 'gap2', 'gap3']\n",
            "DecisionTreeClassifier\n",
            "Accuracy: 54.815580709093396\n",
            "    for each folds: [54.18542209586986, 54.29812438302073, 55.368213228035536, 55.39980256663376, 55.368213228035536, 55.20236920039487, 54.554787759131294, 54.81145113524185, 54.36920039486673, 54.59822309970385]\n",
            "end : 1571708463.2298784, execution time : 9.034387588500977\n",
            "\n",
            "temporal, Task 1, K=4, start : 1571708463.2299886\n",
            "    columns: ['gap1', 'gap2', 'gap3', 'gap4']\n",
            "DecisionTreeClassifier\n",
            "Accuracy: 56.07996572997456\n",
            "    for each folds: [56.48156789547364, 55.66962202519832, 56.06159589360709, 55.93093793747084, 56.36287274254515, 55.74221848896355, 56.577535115964345, 56.22287554248915, 55.980213729058754, 55.77021792897475]\n",
            "end : 1571708470.324307, execution time : 7.094318628311157\n",
            "\n",
            "temporal, Task 1, K=5, start : 1571708470.3251266\n",
            "    columns: ['gap1', 'gap2', 'gap3', 'gap4', 'gap5']\n",
            "DecisionTreeClassifier\n",
            "Accuracy: 57.288544433355355\n",
            "    for each folds: [57.17707169088296, 56.78854648996754, 57.24093884719783, 57.06530416733195, 57.48882265275708, 57.43559718969555, 57.11624441132638, 57.21205024483713, 57.47285501383862, 57.88801362571854]\n",
            "end : 1571708476.4253047, execution time : 6.100178480148315\n",
            "\n",
            "temporal, Task 1, K=6, start : 1571708476.4253805\n",
            "    columns: ['gap1', 'gap2', 'gap3', 'gap4', 'gap5', 'gap6']\n",
            "DecisionTreeClassifier\n",
            "Accuracy: 58.06146809726933\n",
            "    for each folds: [58.587718256324976, 57.80377717068536, 58.91436037534149, 58.00570138971374, 57.30490557073286, 58.70998396388905, 57.25485537803647, 58.18138623270179, 58.10417532814635, 57.747817307121224]\n",
            "end : 1571708481.8383574, execution time : 5.41297721862793\n",
            "\n",
            "temporal, Task 1, K=7, start : 1571708481.8387208\n",
            "    columns: ['gap1', 'gap2', 'gap3', 'gap4', 'gap5', 'gap6', 'gap7']\n",
            "DecisionTreeClassifier\n",
            "Accuracy: 58.806412562677124\n",
            "    for each folds: [58.76443342683802, 58.49696653402049, 58.99928240589732, 59.331985126231324, 58.64048535455672, 58.849240002609434, 59.140135699373694, 58.853079331941544, 58.4812108559499, 58.50730688935282]\n",
            "end : 1571708486.7178142, execution time : 4.879093885421753\n",
            "\n",
            "temporal, Task 1, K=8, start : 1571708486.7178767\n",
            "    columns: ['gap1', 'gap2', 'gap3', 'gap4', 'gap5', 'gap6', 'gap7', 'gap8']\n",
            "DecisionTreeClassifier\n",
            "Accuracy: 59.73725323107512\n",
            "    for each folds: [59.89916205084505, 59.66482033802017, 59.941769634995026, 60.00568101122, 60.14770629171993, 59.394972305070304, 59.85655446669507, 59.52989632154524, 59.643516545945175, 59.288453344695355]\n",
            "end : 1571708491.3634908, execution time : 4.6456146240234375\n",
            "\n",
            "temporal, Task 1, K=9, start : 1571708491.3635592\n",
            "    columns: ['gap1', 'gap2', 'gap3', 'gap4', 'gap5', 'gap6', 'gap7', 'gap8', 'gap9']\n",
            "DecisionTreeClassifier\n",
            "Accuracy: 60.50866512654409\n",
            "    for each folds: [59.89419612052442, 60.66554209477074, 60.228492562490416, 59.99079895721515, 60.397178346879315, 61.34028523232633, 60.04447170679344, 60.19782241987425, 61.0719214844349, 61.25594234013188]\n",
            "end : 1571708495.5135863, execution time : 4.150027513504028\n",
            "\n",
            "temporal, Task 1, K=10, start : 1571708495.5141718\n",
            "    columns: ['gap1', 'gap2', 'gap3', 'gap4', 'gap5', 'gap6', 'gap7', 'gap8', 'gap9', 'gap10']\n",
            "DecisionTreeClassifier\n",
            "Accuracy: 60.62060377411016\n",
            "    for each folds: [60.57866184448463, 60.74305441394049, 59.95397008055236, 61.64721354594772, 60.62797961532139, 60.60830250719277, 60.76448828606659, 60.8138101109741, 60.74804767776408, 59.72050965885738]\n",
            "end : 1571708499.3074238, execution time : 3.793252468109131\n",
            "\n",
            "temporal, Task 1, K=11, start : 1571708499.3075745\n",
            "    columns: ['gap1', 'gap2', 'gap3', 'gap4', 'gap5', 'gap6', 'gap7', 'gap8', 'gap9', 'gap10', 'gap11']\n",
            "DecisionTreeClassifier\n",
            "Accuracy: 61.562714246035696\n",
            "    for each folds: [61.80385288966725, 62.04028021015762, 61.80385288966725, 61.768826619964976, 61.97898423817863, 61.38353765323993, 61.077057793345006, 60.84063047285464, 60.96322241681261, 61.96689727646904]\n",
            "end : 1571708502.9145215, execution time : 3.606947183609009\n",
            "\n",
            "temporal, Task 1, K=12, start : 1571708502.9145944\n",
            "    columns: ['gap1', 'gap2', 'gap3', 'gap4', 'gap5', 'gap6', 'gap7', 'gap8', 'gap9', 'gap10', 'gap11', 'gap12']\n",
            "DecisionTreeClassifier\n",
            "Accuracy: 61.81712551012989\n",
            "    for each folds: [61.33891213389121, 62.333798233379824, 62.649930264993024, 62.107122931002415, 61.4283057466989, 61.44690347777571, 61.71657057838944, 62.17221498977125, 61.391110284545285, 61.58638646085178]\n",
            "end : 1571708506.3778791, execution time : 3.463284969329834\n",
            "\n",
            "temporal, Task 1, K=13, start : 1571708506.3779964\n",
            "    columns: ['gap1', 'gap2', 'gap3', 'gap4', 'gap5', 'gap6', 'gap7', 'gap8', 'gap9', 'gap10', 'gap11', 'gap12', 'gap13']\n",
            "DecisionTreeClassifier\n",
            "Accuracy: 62.18525214892206\n",
            "    for each folds: [63.49424835316095, 62.47173335955166, 62.33408711041196, 61.459050240880934, 61.35089961655688, 62.08829023694818, 61.842493363484415, 61.97030773768557, 62.845344607216596, 61.9960668633235]\n",
            "end : 1571708509.632659, execution time : 3.2546627521514893\n",
            "\n",
            "temporal, Task 1, K=14, start : 1571708509.6327736\n",
            "    columns: ['gap1', 'gap2', 'gap3', 'gap4', 'gap5', 'gap6', 'gap7', 'gap8', 'gap9', 'gap10', 'gap11', 'gap12', 'gap13', 'gap14']\n",
            "DecisionTreeClassifier\n",
            "Accuracy: 62.94370419576609\n",
            "    for each folds: [63.37751087181611, 63.108303996686686, 64.26426426426427, 62.8766697732215, 64.1192917054986, 62.51423837630734, 63.04235269752511, 62.27606917262089, 62.44175209692451, 61.4165890027959]\n",
            "end : 1571708512.7308118, execution time : 3.0980381965637207\n",
            "\n",
            "temporal, Task 1, K=15, start : 1571708512.73093\n",
            "    columns: ['gap1', 'gap2', 'gap3', 'gap4', 'gap5', 'gap6', 'gap7', 'gap8', 'gap9', 'gap10', 'gap11', 'gap12', 'gap13', 'gap14', 'gap15']\n",
            "DecisionTreeClassifier\n",
            "Accuracy: 63.040242130468414\n",
            "    for each folds: [62.55305256284688, 63.550282977797124, 63.93121462777536, 63.800609490639964, 62.113626469307796, 62.18981279930344, 63.506747932085325, 62.73400087070092, 63.506747932085325, 62.51632564214192]\n",
            "end : 1571708515.531435, execution time : 2.8005051612854004\n",
            "\n",
            "temporal, Task 1, K=16, start : 1571708515.5315535\n",
            "    columns: ['gap1', 'gap2', 'gap3', 'gap4', 'gap5', 'gap6', 'gap7', 'gap8', 'gap9', 'gap10', 'gap11', 'gap12', 'gap13', 'gap14', 'gap15', 'gap16']\n",
            "DecisionTreeClassifier\n",
            "Accuracy: 62.8609424304046\n",
            "    for each folds: [63.36599817684594, 62.71649954421149, 63.52552415679125, 62.69371011850502, 61.93732193732194, 62.27920227920228, 63.43019943019943, 63.74928774928775, 62.50712250712251, 62.40455840455841]\n",
            "end : 1571708518.3147154, execution time : 2.7831621170043945\n",
            "\n",
            "temporal, Task 1, K=17, start : 1571708518.3148365\n",
            "    columns: ['gap1', 'gap2', 'gap3', 'gap4', 'gap5', 'gap6', 'gap7', 'gap8', 'gap9', 'gap10', 'gap11', 'gap12', 'gap13', 'gap14', 'gap15', 'gap16', 'gap17']\n",
            "DecisionTreeClassifier\n",
            "Accuracy: 62.58455982288645\n",
            "    for each folds: [62.80814576634512, 63.35596046206979, 62.73669167559843, 62.33178516136716, 62.974871978087414, 62.427057282362746, 61.93878766226033, 61.78397046564249, 62.77989518818485, 62.70843258694617]\n",
            "end : 1571708520.914485, execution time : 2.5996487140655518\n",
            "\n",
            "temporal, Task 1, K=18, start : 1571708520.914607\n",
            "    columns: ['gap1', 'gap2', 'gap3', 'gap4', 'gap5', 'gap6', 'gap7', 'gap8', 'gap9', 'gap10', 'gap11', 'gap12', 'gap13', 'gap14', 'gap15', 'gap16', 'gap17', 'gap18']\n",
            "DecisionTreeClassifier\n",
            "Accuracy: 63.99725121913021\n",
            "    for each folds: [64.2901502918892, 63.74363433113899, 64.58824990684387, 63.805738417587875, 64.8490870699292, 63.316770186335404, 65.1055900621118, 63.254658385093165, 63.30434782608695, 63.714285714285715]\n",
            "end : 1571708523.3827307, execution time : 2.4681239128112793\n",
            "\n",
            "temporal, Task 1, K=19, start : 1571708523.3828573\n",
            "    columns: ['gap1', 'gap2', 'gap3', 'gap4', 'gap5', 'gap6', 'gap7', 'gap8', 'gap9', 'gap10', 'gap11', 'gap12', 'gap13', 'gap14', 'gap15', 'gap16', 'gap17', 'gap18', 'gap19']\n",
            "DecisionTreeClassifier\n",
            "Accuracy: 64.06631464936831\n",
            "    for each folds: [64.29495472186287, 64.20439844760672, 64.13971539456662, 63.71280724450194, 64.01034928848641, 64.47606727037517, 65.27813712807244, 64.42432082794308, 62.33665415965843, 63.78574201060939]\n",
            "end : 1571708525.8476405, execution time : 2.4647839069366455\n",
            "\n",
            "temporal, Task 1, K=20, start : 1571708525.8477294\n",
            "    columns: ['gap1', 'gap2', 'gap3', 'gap4', 'gap5', 'gap6', 'gap7', 'gap8', 'gap9', 'gap10', 'gap11', 'gap12', 'gap13', 'gap14', 'gap15', 'gap16', 'gap17', 'gap18', 'gap19', 'gap20']\n",
            "DecisionTreeClassifier\n",
            "Accuracy: 63.61841263681546\n",
            "    for each folds: [62.4680736658153, 62.812584027964505, 65.20570045711213, 63.67303038451197, 63.09491798870664, 64.37214304920677, 63.21591825759613, 63.202473783275074, 64.7754772788384, 63.36380747512772]\n",
            "end : 1571708528.2325609, execution time : 2.3848319053649902\n",
            "\n",
            "frequency, Task 1, K=1, start : 1571708528.23263\n",
            "    columns: ['num_answers', 'num_questions', 'ans_que_ratio', 'num_posts']\n",
            "DecisionTreeClassifier\n",
            "Accuracy: 94.26072060547658\n",
            "    for each folds: [94.29247993313949, 94.30292688872251, 94.34645587031847, 94.15134419835631, 94.28541579607187, 94.27322746900683, 94.28541579607187, 94.19313274829364, 94.32546315642847, 94.15134419835631]\n",
            "end : 1571708532.995826, execution time : 4.7631964683532715\n",
            "\n",
            "frequency, Task 1, K=2, start : 1571708532.9960542\n",
            "    columns: ['num_answers', 'num_questions', 'ans_que_ratio', 'num_posts']\n",
            "DecisionTreeClassifier\n",
            "Accuracy: 94.2553517287845\n",
            "    for each folds: [94.24555171040946, 94.26392674486264, 94.46911462958992, 94.22717667595627, 94.08936391755735, 94.37111444583958, 94.1659265611123, 94.13836400943252, 94.11998897497932, 94.46298961810554]\n",
            "end : 1571708534.7836757, execution time : 1.7876217365264893\n",
            "\n",
            "frequency, Task 1, K=3, start : 1571708534.7837434\n",
            "    columns: ['num_answers', 'num_questions', 'ans_que_ratio', 'num_posts']\n",
            "DecisionTreeClassifier\n",
            "Accuracy: 94.90624244452536\n",
            "    for each folds: [94.10092395167023, 95.42349457058243, 94.99308983218164, 94.23889437314907, 95.24580454096743, 95.33267522211254, 95.16683119447187, 94.3573543928924, 95.08785784797631, 95.11549851924975]\n",
            "end : 1571708535.8971097, execution time : 1.1133670806884766\n",
            "\n",
            "frequency, Task 1, K=4, start : 1571708535.8971791\n",
            "    columns: ['num_answers', 'num_questions', 'ans_que_ratio', 'num_posts']\n",
            "DecisionTreeClassifier\n",
            "Accuracy: 93.18133441655324\n",
            "    for each folds: [94.15772281847877, 92.69248716752216, 92.92113859076062, 92.07652823145123, 93.90545522422885, 93.04680573055205, 93.26146810397125, 92.89747538382565, 92.87880909048485, 93.97545382425685]\n",
            "end : 1571708536.7536433, execution time : 0.8564646244049072\n",
            "\n",
            "frequency, Task 1, K=5, start : 1571708536.754126\n",
            "    columns: ['num_answers', 'num_questions', 'ans_que_ratio', 'num_posts']\n",
            "DecisionTreeClassifier\n",
            "Accuracy: 93.6290477059579\n",
            "    for each folds: [94.2732449837671, 94.40097929639683, 92.58076534142317, 93.26201500878173, 93.39472003406429, 94.66680860123483, 93.77262082180115, 92.58569299552906, 94.12923142431339, 93.2243985522674]\n",
            "end : 1571708537.4762907, execution time : 0.7221651077270508\n",
            "\n",
            "frequency, Task 1, K=6, start : 1571708537.4765265\n",
            "    columns: ['num_answers', 'num_questions', 'ans_que_ratio', 'num_posts']\n",
            "DecisionTreeClassifier\n",
            "Accuracy: 92.93243646206113\n",
            "    for each folds: [93.25335550540444, 93.0039197054282, 93.34837866730015, 92.80793443401829, 93.25929445302292, 91.56025420205499, 93.22325830017223, 92.98568628615548, 92.59963176337827, 93.28265130367643]\n",
            "end : 1571708538.077429, execution time : 0.600902795791626\n",
            "\n",
            "frequency, Task 1, K=7, start : 1571708538.0777276\n",
            "    columns: ['num_answers', 'num_questions', 'ans_que_ratio', 'num_posts']\n",
            "DecisionTreeClassifier\n",
            "Accuracy: 92.89041131734015\n",
            "    for each folds: [92.78491747667819, 93.52208232761433, 92.48483267010242, 92.9936721247309, 92.7457759801683, 93.22199752103856, 93.4303235908142, 91.74712943632568, 92.47781837160751, 93.4955636743215]\n",
            "end : 1571708538.6032033, execution time : 0.5254759788513184\n",
            "\n",
            "frequency, Task 1, K=8, start : 1571708538.603282\n",
            "    columns: ['num_answers', 'num_questions', 'ans_que_ratio', 'num_posts']\n",
            "DecisionTreeClassifier\n",
            "Accuracy: 91.67518818349667\n",
            "    for each folds: [92.10339440420395, 91.51398949012925, 91.47138190597927, 91.58500213037921, 91.13762249680443, 91.92586280357904, 91.70572361880414, 91.37196420962931, 92.01107797187899, 91.92586280357904]\n",
            "end : 1571708539.0786133, execution time : 0.47533178329467773\n",
            "\n",
            "frequency, Task 1, K=9, start : 1571708539.078674\n",
            "    columns: ['num_answers', 'num_questions', 'ans_que_ratio', 'num_posts']\n",
            "DecisionTreeClassifier\n",
            "Accuracy: 91.90927998495252\n",
            "    for each folds: [91.70436249329143, 91.25134181873946, 91.91074988498697, 91.74973163625211, 91.97975770587333, 91.97975770587333, 92.65450084342892, 91.78806931452232, 91.61938353013342, 92.45514491642386]\n",
            "end : 1571708539.5027678, execution time : 0.42409396171569824\n",
            "\n",
            "frequency, Task 1, K=10, start : 1571708539.5029497\n",
            "    columns: ['num_answers', 'num_questions', 'ans_que_ratio', 'num_posts']\n",
            "DecisionTreeClassifier\n",
            "Accuracy: 91.26710029007553\n",
            "    for each folds: [90.99950682229164, 92.31464737793851, 90.81867499589019, 92.24889035015617, 90.86799276672694, 91.20427455815866, 91.87833949856144, 90.63707357172215, 90.99054665022607, 90.71105630908343]\n",
            "end : 1571708539.8944333, execution time : 0.39148402214050293\n",
            "\n",
            "frequency, Task 1, K=11, start : 1571708539.8945045\n",
            "    columns: ['num_answers', 'num_questions', 'ans_que_ratio', 'num_posts']\n",
            "DecisionTreeClassifier\n",
            "Accuracy: 91.95965069738901\n",
            "    for each folds: [92.54816112084063, 92.85464098073555, 91.56742556917688, 91.8739054290718, 92.13660245183888, 91.67250437828372, 90.6217162872154, 91.21716287215412, 92.99474605954465, 92.10964182502846]\n",
            "end : 1571708540.2637274, execution time : 0.36922311782836914\n",
            "\n",
            "frequency, Task 1, K=12, start : 1571708540.263808\n",
            "    columns: ['num_answers', 'num_questions', 'ans_que_ratio', 'num_posts']\n",
            "DecisionTreeClassifier\n",
            "Accuracy: 90.58050426913468\n",
            "    for each folds: [91.52022315202231, 90.42305904230591, 90.6276150627615, 90.087409336061, 90.91500836897899, 90.66393899944207, 90.00371954621536, 90.84991631021015, 89.57597173144876, 91.13818114190069]\n",
            "end : 1571708540.5983148, execution time : 0.3345069885253906\n",
            "\n",
            "frequency, Task 1, K=13, start : 1571708540.5984223\n",
            "    columns: ['num_answers', 'num_questions', 'ans_que_ratio', 'num_posts']\n",
            "DecisionTreeClassifier\n",
            "Accuracy: 90.41285154632575\n",
            "    for each folds: [90.39425818503588, 89.74535443909153, 90.35493068528169, 91.092321305673, 89.94199193786255, 91.01366630616458, 90.11896568675647, 89.56838069019761, 90.76786943270082, 91.13077679449361]\n",
            "end : 1571708540.9157877, execution time : 0.3173658847808838\n",
            "\n",
            "frequency, Task 1, K=14, start : 1571708540.9163246\n",
            "    columns: ['num_answers', 'num_questions', 'ans_que_ratio', 'num_posts']\n",
            "DecisionTreeClassifier\n",
            "Accuracy: 91.5317002937771\n",
            "    for each folds: [92.33795816939325, 91.36467177469456, 90.76317697007352, 91.84011597804701, 92.32680956818888, 91.50875012943979, 91.37413275344309, 90.52500776638708, 91.69514341928135, 91.58123640882262]\n",
            "end : 1571708541.2266543, execution time : 0.3103299140930176\n",
            "\n",
            "frequency, Task 1, K=15, start : 1571708541.2270641\n",
            "    columns: ['num_answers', 'num_questions', 'ans_que_ratio', 'num_posts']\n",
            "DecisionTreeClassifier\n",
            "Accuracy: 90.26675366095432\n",
            "    for each folds: [90.67363151594297, 90.3678711362647, 89.60600783630822, 89.59512407488027, 89.68219416630387, 91.3365259033522, 90.52024379625598, 89.84545058772312, 89.36656508489334, 91.67392250761863]\n",
            "end : 1571708541.508659, execution time : 0.28159499168395996\n",
            "\n",
            "frequency, Task 1, K=16, start : 1571708541.5087252\n",
            "    columns: ['num_answers', 'num_questions', 'ans_que_ratio', 'num_posts']\n",
            "DecisionTreeClassifier\n",
            "Accuracy: 90.58958880344477\n",
            "    for each folds: [91.3514129443938, 90.42844120328168, 90.70191431175934, 91.1007292616226, 90.84900284900284, 89.43589743589743, 91.31623931623932, 91.38461538461539, 89.88034188034187, 89.44729344729345]\n",
            "end : 1571708541.7793398, execution time : 0.2706151008605957\n",
            "\n",
            "frequency, Task 1, K=17, start : 1571708541.7798374\n",
            "    columns: ['num_answers', 'num_questions', 'ans_que_ratio', 'num_posts']\n",
            "DecisionTreeClassifier\n",
            "Accuracy: 90.14386915788057\n",
            "    for each folds: [89.93688221984041, 89.448612599738, 90.2226985828272, 90.71096820292962, 90.91342146004526, 89.71061093247589, 89.3771585089913, 90.42515183994284, 89.7451167222487, 90.94807050976655]\n",
            "end : 1571708542.034054, execution time : 0.25421738624572754\n",
            "\n",
            "frequency, Task 1, K=18, start : 1571708542.0341132\n",
            "    columns: ['num_answers', 'num_questions', 'ans_que_ratio', 'num_posts']\n",
            "DecisionTreeClassifier\n",
            "Accuracy: 90.24904263271952\n",
            "    for each folds: [90.70922866724631, 91.1563780896783, 91.14395727238852, 89.96397962985965, 89.09452241957521, 88.90683229813665, 89.93788819875776, 91.14285714285714, 90.74534161490683, 89.68944099378882]\n",
            "end : 1571708542.2748446, execution time : 0.24073195457458496\n",
            "\n",
            "frequency, Task 1, K=19, start : 1571708542.2751465\n",
            "    columns: ['num_answers', 'num_questions', 'ans_que_ratio', 'num_posts']\n",
            "DecisionTreeClassifier\n",
            "Accuracy: 89.93505600536413\n",
            "    for each folds: [89.81888745148771, 90.09055627425614, 89.46959896507116, 89.43078913324709, 89.32729624838292, 90.19404915912031, 91.28072445019404, 89.90944372574386, 89.55880450252296, 90.27041014361495]\n",
            "end : 1571708542.5121274, execution time : 0.23698115348815918\n",
            "\n",
            "frequency, Task 1, K=20, start : 1571708542.512206\n",
            "    columns: ['num_answers', 'num_questions', 'ans_que_ratio', 'num_posts']\n",
            "DecisionTreeClassifier\n",
            "Accuracy: 89.28625004567941\n",
            "    for each folds: [88.72160236590939, 89.83597741328315, 89.90319978488841, 89.09653132562516, 89.66119924710944, 89.04275342834096, 88.41086313525142, 90.07797795106211, 89.28475396611992, 88.82764183920409]\n",
            "end : 1571708542.7444546, execution time : 0.23224878311157227\n",
            "\n",
            "knowledge, Task 1, K=1, start : 1571708542.7449994\n",
            "    columns: ['accepted_answerer_rep', 'max_rep_answerer', 'num_que_answered', 'time_for_first_ans', 'rep_questioner', 'rep_answerers', 'rep_co_answerers', 'num_answers_recvd']\n",
            "DecisionTreeClassifier\n",
            "Accuracy: 52.61133538713\n",
            "    for each folds: [52.5568923789459, 52.52555151219682, 52.77801960545331, 52.68665552305335, 52.381947346427076, 52.56999582114501, 52.47597158378604, 52.84162139573757, 52.467265635882434, 52.829433068672515]\n",
            "end : 1571708563.798453, execution time : 21.05345368385315\n",
            "\n",
            "knowledge, Task 1, K=2, start : 1571708563.7985606\n",
            "    columns: ['accepted_answerer_rep', 'max_rep_answerer', 'num_que_answered', 'time_for_first_ans', 'rep_questioner', 'rep_answerers', 'rep_co_answerers', 'num_answers_recvd']\n",
            "DecisionTreeClassifier\n",
            "Accuracy: 55.007196888494164\n",
            "    for each folds: [54.9444155207791, 54.81272777386457, 55.24760358925673, 54.89541542890393, 55.02710317581845, 55.34254126726488, 55.27822864667871, 53.70410069518881, 55.710041956328666, 55.10979083085781]\n",
            "end : 1571708573.6215353, execution time : 9.822974920272827\n",
            "\n",
            "knowledge, Task 1, K=3, start : 1571708573.6216435\n",
            "    columns: ['accepted_answerer_rep', 'max_rep_answerer', 'num_que_answered', 'time_for_first_ans', 'rep_questioner', 'rep_answerers', 'rep_co_answerers', 'num_answers_recvd']\n",
            "DecisionTreeClassifier\n",
            "Accuracy: 54.409260268799684\n",
            "    for each folds: [54.83692647871752, 54.92991115498519, 54.27048371174728, 54.95360315893386, 53.058242843040475, 53.816386969397826, 54.665350444225076, 54.93780848963475, 54.06120434353406, 54.56268509378085]\n",
            "end : 1571708579.8774326, execution time : 6.255789041519165\n",
            "\n",
            "knowledge, Task 1, K=4, start : 1571708579.8775408\n",
            "    columns: ['accepted_answerer_rep', 'max_rep_answerer', 'num_que_answered', 'time_for_first_ans', 'rep_questioner', 'rep_answerers', 'rep_co_answerers', 'num_answers_recvd']\n",
            "DecisionTreeClassifier\n",
            "Accuracy: 53.58945778620591\n",
            "    for each folds: [53.817078861409236, 53.33644423705086, 54.302379841343914, 53.63509099393374, 53.00760651453638, 54.057585514956365, 52.55961547435718, 53.530262728078775, 53.74025852816277, 53.90825516822997]\n",
            "end : 1571708584.333223, execution time : 4.4556825160980225\n",
            "\n",
            "knowledge, Task 1, K=5, start : 1571708584.3333418\n",
            "    columns: ['accepted_answerer_rep', 'max_rep_answerer', 'num_que_answered', 'time_for_first_ans', 'rep_questioner', 'rep_answerers', 'rep_co_answerers', 'num_answers_recvd']\n",
            "DecisionTreeClassifier\n",
            "Accuracy: 53.283411169022216\n",
            "    for each folds: [53.430198520410876, 54.04225876842833, 53.11618500186279, 52.120921815956144, 54.14626357249308, 53.51820310836704, 52.9806259314456, 53.55013838620396, 53.52884820097935, 52.40046838407494]\n",
            "end : 1571708587.947909, execution time : 3.614567279815674\n",
            "\n",
            "knowledge, Task 1, K=6, start : 1571708587.9480164\n",
            "    columns: ['accepted_answerer_rep', 'max_rep_answerer', 'num_que_answered', 'time_for_first_ans', 'rep_questioner', 'rep_answerers', 'rep_co_answerers', 'num_answers_recvd']\n",
            "DecisionTreeClassifier\n",
            "Accuracy: 54.20757207814343\n",
            "    for each folds: [54.163202280555886, 54.59080650908659, 54.602684404323554, 54.13350754246348, 53.5990022568001, 53.364613648512204, 54.97416404347568, 54.44556631228841, 54.01199738670785, 54.190176397220405]\n",
            "end : 1571708590.791814, execution time : 2.8437976837158203\n",
            "\n",
            "knowledge, Task 1, K=7, start : 1571708590.7919197\n",
            "    columns: ['accepted_answerer_rep', 'max_rep_answerer', 'num_que_answered', 'time_for_first_ans', 'rep_questioner', 'rep_answerers', 'rep_co_answerers', 'num_answers_recvd']\n",
            "DecisionTreeClassifier\n",
            "Accuracy: 54.42700905919995\n",
            "    for each folds: [54.54367538652228, 54.51758105551569, 54.67414704155522, 55.00684976188923, 54.10659534216192, 55.202557244438644, 54.07750521920668, 53.620824634655534, 53.84916492693111, 54.67118997912317]\n",
            "end : 1571708593.2324889, execution time : 2.440570116043091\n",
            "\n",
            "knowledge, Task 1, K=8, start : 1571708593.232553\n",
            "    columns: ['accepted_answerer_rep', 'max_rep_answerer', 'num_que_answered', 'time_for_first_ans', 'rep_questioner', 'rep_answerers', 'rep_co_answerers', 'num_answers_recvd']\n",
            "DecisionTreeClassifier\n",
            "Accuracy: 54.36514699616532\n",
            "    for each folds: [54.28206220707286, 54.30336599914785, 54.26785967902287, 55.02769492969749, 54.211049566822894, 54.64422667234768, 54.83596080102258, 54.31756852719784, 53.6003408606732, 54.16134071864792]\n",
            "end : 1571708595.4362862, execution time : 2.2037336826324463\n",
            "\n",
            "knowledge, Task 1, K=9, start : 1571708595.4363496\n",
            "    columns: ['accepted_answerer_rep', 'max_rep_answerer', 'num_que_answered', 'time_for_first_ans', 'rep_questioner', 'rep_answerers', 'rep_co_answerers', 'num_answers_recvd']\n",
            "DecisionTreeClassifier\n",
            "Accuracy: 54.176090579232905\n",
            "    for each folds: [54.26665644406962, 53.8721055052906, 54.43183560803558, 54.42416807238153, 54.63885907069468, 54.209477074068396, 53.94111332617697, 53.58073915043705, 54.91489035424015, 53.48106118693452]\n",
            "end : 1571708597.290604, execution time : 1.8542547225952148\n",
            "\n",
            "knowledge, Task 1, K=10, start : 1571708597.2911513\n",
            "    columns: ['accepted_answerer_rep', 'max_rep_answerer', 'num_que_answered', 'time_for_first_ans', 'rep_questioner', 'rep_answerers', 'rep_co_answerers', 'num_answers_recvd']\n",
            "DecisionTreeClassifier\n",
            "Accuracy: 53.83419560040079\n",
            "    for each folds: [53.69061318428407, 54.25776754890679, 53.69883281275686, 54.46325826072662, 53.99473943777741, 54.870530209617755, 53.711467324291, 53.177147554459516, 52.61816687217427, 53.85943279901356]\n",
            "end : 1571708598.8768003, execution time : 1.5856494903564453\n",
            "\n",
            "knowledge, Task 1, K=11, start : 1571708598.876959\n",
            "    columns: ['accepted_answerer_rep', 'max_rep_answerer', 'num_que_answered', 'time_for_first_ans', 'rep_questioner', 'rep_answerers', 'rep_co_answerers', 'num_answers_recvd']\n",
            "DecisionTreeClassifier\n",
            "Accuracy: 54.47683777107285\n",
            "    for each folds: [54.229422066549915, 54.185639229422065, 54.071803852889666, 54.50087565674256, 54.719789842381786, 54.03677758318739, 54.62346760070052, 54.50963222416813, 55.017513134851136, 54.873456519835365]\n",
            "end : 1571708600.2643113, execution time : 1.387352466583252\n",
            "\n",
            "knowledge, Task 1, K=12, start : 1571708600.2644336\n",
            "    columns: ['accepted_answerer_rep', 'max_rep_answerer', 'num_que_answered', 'time_for_first_ans', 'rep_questioner', 'rep_answerers', 'rep_co_answerers', 'num_answers_recvd']\n",
            "DecisionTreeClassifier\n",
            "Accuracy: 54.648837659099875\n",
            "    for each folds: [54.25383542538354, 54.300325430032544, 55.443979544397955, 54.20308722335875, 54.64013390366375, 54.54714524827971, 54.193788357820345, 54.69592709689418, 55.30035335689046, 54.909801004277476]\n",
            "end : 1571708601.4797328, execution time : 1.2152996063232422\n",
            "\n",
            "knowledge, Task 1, K=13, start : 1571708601.4798198\n",
            "    columns: ['accepted_answerer_rep', 'max_rep_answerer', 'num_que_answered', 'time_for_first_ans', 'rep_questioner', 'rep_answerers', 'rep_co_answerers', 'num_answers_recvd']\n",
            "DecisionTreeClassifier\n",
            "Accuracy: 53.99127989066413\n",
            "    for each folds: [53.32808966669944, 54.56690590895684, 54.80287090748206, 53.99665716252089, 53.741028414118574, 53.94749778782814, 54.47841903450988, 53.34775341657654, 54.625897158588145, 53.077679449360865]\n",
            "end : 1571708602.5730429, execution time : 1.0932233333587646\n",
            "\n",
            "knowledge, Task 1, K=14, start : 1571708602.5734112\n",
            "    columns: ['accepted_answerer_rep', 'max_rep_answerer', 'num_que_answered', 'time_for_first_ans', 'rep_questioner', 'rep_answerers', 'rep_co_answerers', 'num_answers_recvd']\n",
            "DecisionTreeClassifier\n",
            "Accuracy: 54.75499978524093\n",
            "    for each folds: [54.39014288672603, 55.28059639676952, 54.44755099927514, 55.35880708294501, 54.24044734389562, 54.14725069897484, 54.706430568499535, 55.36916226571399, 54.5925235580408, 55.01708605156881]\n",
            "end : 1571708603.5864913, execution time : 1.013080358505249\n",
            "\n",
            "knowledge, Task 1, K=15, start : 1571708603.5865788\n",
            "    columns: ['accepted_answerer_rep', 'max_rep_answerer', 'num_que_answered', 'time_for_first_ans', 'rep_questioner', 'rep_answerers', 'rep_co_answerers', 'num_answers_recvd']\n",
            "DecisionTreeClassifier\n",
            "Accuracy: 54.35075514519191\n",
            "    for each folds: [52.617259767112856, 55.08271658685241, 53.47191989551589, 54.75620374401393, 55.3439268611232, 53.613408794079234, 54.74531998258598, 55.50718328254245, 54.50587723117109, 53.863735306922074]\n",
            "end : 1571708604.5106912, execution time : 0.9241125583648682\n",
            "\n",
            "knowledge, Task 1, K=16, start : 1571708604.5108345\n",
            "    columns: ['accepted_answerer_rep', 'max_rep_answerer', 'num_que_answered', 'time_for_first_ans', 'rep_questioner', 'rep_answerers', 'rep_co_answerers', 'num_answers_recvd']\n",
            "DecisionTreeClassifier\n",
            "Accuracy: 54.136559562858565\n",
            "    for each folds: [55.04785779398359, 54.06791248860529, 54.58067456700091, 53.201914311759346, 53.903133903133906, 53.344729344729345, 54.06267806267806, 54.39316239316239, 54.712250712250714, 54.05128205128205]\n",
            "end : 1571708605.3642757, execution time : 0.8534417152404785\n",
            "\n",
            "knowledge, Task 1, K=17, start : 1571708605.3643413\n",
            "    columns: ['accepted_answerer_rep', 'max_rep_answerer', 'num_que_answered', 'time_for_first_ans', 'rep_questioner', 'rep_answerers', 'rep_co_answerers', 'num_answers_recvd']\n",
            "DecisionTreeClassifier\n",
            "Accuracy: 54.52791137831787\n",
            "    for each folds: [54.995831844706444, 54.412290103608434, 53.459568893652495, 55.32928426819102, 54.40038108848398, 53.44765987852804, 55.55555555555556, 54.960104799333095, 54.09718913768461, 54.62124821343497]\n",
            "end : 1571708606.1436539, execution time : 0.7793128490447998\n",
            "\n",
            "knowledge, Task 1, K=18, start : 1571708606.1437452\n",
            "    columns: ['accepted_answerer_rep', 'max_rep_answerer', 'num_que_answered', 'time_for_first_ans', 'rep_questioner', 'rep_answerers', 'rep_co_answerers', 'num_answers_recvd']\n",
            "DecisionTreeClassifier\n",
            "Accuracy: 54.563062803818205\n",
            "    for each folds: [54.73854179605018, 54.82548751707862, 54.37833809464663, 55.558315737175505, 53.94360948950441, 55.03105590062112, 53.95031055900621, 54.79503105590062, 54.24844720496895, 54.161490683229815]\n",
            "end : 1571708606.8712082, execution time : 0.7274632453918457\n",
            "\n",
            "knowledge, Task 1, K=19, start : 1571708606.8713012\n",
            "    columns: ['accepted_answerer_rep', 'max_rep_answerer', 'num_que_answered', 'time_for_first_ans', 'rep_questioner', 'rep_answerers', 'rep_co_answerers', 'num_answers_recvd']\n",
            "DecisionTreeClassifier\n",
            "Accuracy: 54.29374776237141\n",
            "    for each folds: [54.73479948253558, 54.307891332470895, 54.35963777490298, 54.73479948253558, 54.372574385510994, 54.95472186287193, 53.91979301423027, 54.85122897800776, 54.1208435761418, 52.58118773450641]\n",
            "end : 1571708607.5438948, execution time : 0.6725938320159912\n",
            "\n",
            "knowledge, Task 1, K=20, start : 1571708607.5439804\n",
            "    columns: ['accepted_answerer_rep', 'max_rep_answerer', 'num_que_answered', 'time_for_first_ans', 'rep_questioner', 'rep_answerers', 'rep_co_answerers', 'num_answers_recvd']\n",
            "DecisionTreeClassifier\n",
            "Accuracy: 54.47897791343421\n",
            "    for each folds: [53.62279876327463, 54.261898359774136, 54.638343640763644, 55.52567894595321, 54.12745361656359, 55.297122882495295, 53.42834095186878, 54.6517881150847, 54.55767679483732, 54.67867706372681]\n",
            "end : 1571708608.1664228, execution time : 0.6224427223205566\n"
          ],
          "name": "stdout"
        }
      ]
    },
    {
      "cell_type": "code",
      "metadata": {
        "colab_type": "code",
        "id": "ke9xkcjC9C3g",
        "outputId": "68a4a229-c5e9-4a6a-b1cb-d59c628a23fa",
        "colab": {
          "base_uri": "https://localhost:8080/",
          "height": 863
        }
      },
      "source": [
        "# Bar Chart\n",
        "for title, predictions in task1_accuracy_of_category.items():\n",
        "    if len(predictions) == 0:\n",
        "        continue\n",
        "    n_groups = len(list_of_K)\n",
        "    index = np.arange(n_groups)\n",
        "\n",
        "    plt.bar(index, predictions, tick_label=list_of_K, align='center')\n",
        "\n",
        "    plt.title(title)\n",
        "    plt.xlim(-1, n_groups)\n",
        "    plt.ylim(40, 100)\n",
        "    \n",
        "    plt.savefig('task1_{}_accuracy.png'.format(title))\n",
        "    plt.show()\n",
        "    store_df_at_google_drive('task1_{}_accuracy'.format(title),pd.DataFrame(),'png')"
      ],
      "execution_count": 85,
      "outputs": [
        {
          "output_type": "display_data",
          "data": {
            "image/png": "[encoded data removed]",
            "text/plain": [
              "<Figure size 432x288 with 1 Axes>"
            ]
          },
          "metadata": {
            "tags": []
          }
        },
        {
          "output_type": "stream",
          "text": [
            "Uploaded file with ID 1Hjj7OcoskxK4DmC9sxnCYCVuGCT22AY7\n"
          ],
          "name": "stdout"
        },
        {
          "output_type": "display_data",
          "data": {
            "image/png": "[encoded data removed]",
            "text/plain": [
              "<Figure size 432x288 with 1 Axes>"
            ]
          },
          "metadata": {
            "tags": []
          }
        },
        {
          "output_type": "stream",
          "text": [
            "Uploaded file with ID 1sbtgioCLmJjCzITuL7MW5d9bf8wHjmZy\n"
          ],
          "name": "stdout"
        },
        {
          "output_type": "display_data",
          "data": {
            "image/png": "[encoded data removed]",
            "text/plain": [
              "<Figure size 432x288 with 1 Axes>"
            ]
          },
          "metadata": {
            "tags": []
          }
        },
        {
          "output_type": "stream",
          "text": [
            "Uploaded file with ID 1nbyypCrjEusb5zIdLXTwVcyXz6dROdVK\n"
          ],
          "name": "stdout"
        }
      ]
    },
    {
      "cell_type": "code",
      "metadata": {
        "colab_type": "code",
        "id": "TU8JkA8k1t28",
        "outputId": "8cc29337-b9d0-4f4e-b540-1cd41b642175",
        "colab": {
          "base_uri": "https://localhost:8080/",
          "height": 1000
        }
      },
      "source": [
        "### Category Analysis - Task 2 ###\n",
        "task2_accuracy_of_category = {}\n",
        "for name, feature_list in analysis_feature_names.items():\n",
        "    accuracy_of_category = []\n",
        "    for T in list_of_T:\n",
        "        train_features = [feat for feat in feature_list if feat in features_of_task2[T].columns]\n",
        "        if len(train_features) == 0:\n",
        "            continue\n",
        "        stime = time.time()\n",
        "        print('\\n{}, Task 2, T={}, start : {}'.format(name, T, stime))\n",
        "        print('    columns: {}'.format(train_features))\n",
        "\n",
        "        acc_list = learn_model(features_of_task2[T], train_features)\n",
        "        mean_acc = np.mean(acc_list)\n",
        "        accuracy_of_category.append(mean_acc)\n",
        "        print('Accuracy: {}'.format(mean_acc))\n",
        "        print('    for each folds: {}'.format(acc_list))\n",
        "        print('end : {}, execution time : {}'.format(time.time(), time.time()-stime))\n",
        "\n",
        "    task2_accuracy_of_category[name] = accuracy_of_category"
      ],
      "execution_count": 86,
      "outputs": [
        {
          "output_type": "stream",
          "text": [
            "\n",
            "temporal, Task 2, T=7, start : 1571709048.7073128\n",
            "    columns: ['gap1', 'last_gap', 'time_since_last_post', 'mean_gap']\n",
            "DecisionTreeClassifier\n",
            "Accuracy: 66.17486229535363\n",
            "    for each folds: [66.32532043972084, 66.377776764129, 66.20672353236327, 66.56707567394973, 66.14970578844137, 65.7748888128635, 66.06910708176531, 66.1033185083818, 66.04173794047212, 66.13296841144943]\n",
            "end : 1571709096.359669, execution time : 47.65235638618469\n",
            "\n",
            "temporal, Task 2, T=15, start : 1571709096.3603222\n",
            "    columns: ['gap1', 'last_gap', 'time_since_last_post', 'mean_gap']\n",
            "DecisionTreeClassifier\n",
            "Accuracy: 67.42655245379609\n",
            "    for each folds: [67.53052469475305, 67.31712682873172, 67.4264091169094, 67.34060808729704, 67.35820829849958, 67.38240858890306, 67.5320103841246, 67.55621067452809, 67.3736084833018, 67.44840938091257]\n",
            "end : 1571709140.1570356, execution time : 43.79671359062195\n",
            "\n",
            "temporal, Task 2, T=30, start : 1571709140.1577826\n",
            "    columns: ['gap1', 'last_gap', 'time_since_last_post', 'mean_gap']\n",
            "DecisionTreeClassifier\n",
            "Accuracy: 68.33680867820803\n",
            "    for each folds: [68.2629147773022, 68.27774717125058, 68.36674153494089, 68.20994194177226, 68.19510954782388, 68.56803830995466, 68.32157311465683, 68.51439832178501, 68.33640582289746, 68.31521623969657]\n",
            "end : 1571709183.0344882, execution time : 42.87670612335205\n",
            "\n",
            "frequency, Task 2, T=7, start : 1571709183.0350904\n",
            "    columns: ['num_answers', 'num_questions', 'ans_que_ratio', 'num_posts']\n",
            "DecisionTreeClassifier\n",
            "Accuracy: 69.99874592433994\n",
            "    for each folds: [70.18656205811249, 69.67796378232906, 70.01778953610363, 70.13410573370433, 69.83305204579665, 70.09465161363896, 69.91447143345877, 69.87569848329342, 69.91903295700764, 70.33413159995439]\n",
            "end : 1571709185.6035836, execution time : 2.568493604660034\n",
            "\n",
            "frequency, Task 2, T=15, start : 1571709185.604307\n",
            "    columns: ['num_answers', 'num_questions', 'ans_que_ratio', 'num_posts']\n",
            "DecisionTreeClassifier\n",
            "Accuracy: 71.40132273689363\n",
            "    for each folds: [71.28148718512814, 71.48168518314817, 71.47005764069169, 71.42605711268536, 71.6020592247107, 71.41065692788314, 71.562458749505, 71.11365336384037, 71.37545650547807, 71.28965547586571]\n",
            "end : 1571709188.3808918, execution time : 2.776585578918457\n",
            "\n",
            "frequency, Task 2, T=30, start : 1571709188.3809469\n",
            "    columns: ['num_answers', 'num_questions', 'ans_que_ratio', 'num_posts']\n",
            "DecisionTreeClassifier\n",
            "Accuracy: 71.80571104678003\n",
            "    for each folds: [72.06424545493071, 71.74428952832987, 71.68072212569395, 71.49425774462856, 71.98796457176759, 71.8142136712294, 71.68859788527959, 72.04458288305469, 71.7712372597631, 71.76699934312292]\n",
            "end : 1571709191.507611, execution time : 3.1266651153564453\n",
            "\n",
            "knowledge, Task 2, T=7, start : 1571709191.5081654\n",
            "    columns: ['accepted_answerer_rep', 'max_rep_answerer', 'num_que_answered', 'time_for_first_ans', 'rep_questioner', 'rep_answerers', 'rep_co_answerers', 'num_answers_recvd']\n",
            "DecisionTreeClassifier\n",
            "Accuracy: 65.42427244357418\n",
            "    for each folds: [65.40619440769967, 65.9444419103225, 66.19531998357888, 65.1735620124983, 65.0275965880582, 65.39172083475881, 65.12715246892462, 65.26627893716501, 65.32329798152583, 65.38715931120994]\n",
            "end : 1571709197.773328, execution time : 6.265162944793701\n",
            "\n",
            "knowledge, Task 2, T=15, start : 1571709197.773404\n",
            "    columns: ['accepted_answerer_rep', 'max_rep_answerer', 'num_que_answered', 'time_for_first_ans', 'rep_questioner', 'rep_answerers', 'rep_co_answerers', 'num_answers_recvd']\n",
            "DecisionTreeClassifier\n",
            "Accuracy: 69.07458477665851\n",
            "    for each folds: [69.08370916290838, 69.1519084809152, 69.03242838914068, 68.93342720112642, 69.11602939235271, 69.21283055396665, 69.41743300919612, 68.95322743872927, 68.9576274915299, 68.88722664671977]\n",
            "end : 1571709205.0186589, execution time : 7.245255708694458\n",
            "\n",
            "knowledge, Task 2, T=30, start : 1571709205.0187154\n",
            "    columns: ['accepted_answerer_rep', 'max_rep_answerer', 'num_que_answered', 'time_for_first_ans', 'rep_questioner', 'rep_answerers', 'rep_co_answerers', 'num_answers_recvd']\n",
            "DecisionTreeClassifier\n",
            "Accuracy: 70.81722765394503\n",
            "    for each folds: [71.31838793066915, 70.75687587405179, 70.82891893037251, 70.71025977878544, 71.13616137644615, 71.0026698309107, 70.72023393299854, 70.64183247515521, 70.58038268387261, 70.4765537261882]\n",
            "end : 1571709214.0085855, execution time : 8.989870309829712\n"
          ],
          "name": "stdout"
        }
      ]
    },
    {
      "cell_type": "code",
      "metadata": {
        "colab_type": "code",
        "id": "r_4qFfOF1uHn",
        "outputId": "8a9a5e1c-32fd-47f1-f9e2-74e6c45400bf",
        "colab": {
          "base_uri": "https://localhost:8080/",
          "height": 863
        }
      },
      "source": [
        "# Bar Chart\n",
        "for title, predictions in task2_accuracy_of_category.items():\n",
        "    if len(predictions) == 0:\n",
        "        continue\n",
        "    n_groups = len(list_of_T)\n",
        "    index = np.arange(n_groups)\n",
        "\n",
        "    plt.bar(index, predictions, tick_label=list_of_T, align='center')\n",
        "\n",
        "    plt.title(title)\n",
        "    plt.xlim(-1, n_groups)\n",
        "    plt.ylim(50, 80)\n",
        "    plt.savefig('task2_{}_accuracy.png'.format(title))\n",
        "    plt.show()\n",
        "    store_df_at_google_drive('task2_{}_accuracy'.format(title),pd.DataFrame(),'png')"
      ],
      "execution_count": 87,
      "outputs": [
        {
          "output_type": "display_data",
          "data": {
            "image/png": "[encoded data removed]",
            "text/plain": [
              "<Figure size 432x288 with 1 Axes>"
            ]
          },
          "metadata": {
            "tags": []
          }
        },
        {
          "output_type": "stream",
          "text": [
            "Uploaded file with ID 1V01iidJ9IzYZkpRkAPHbjhRwokDILx41\n"
          ],
          "name": "stdout"
        },
        {
          "output_type": "display_data",
          "data": {
            "image/png": "[encoded data removed]",
            "text/plain": [
              "<Figure size 432x288 with 1 Axes>"
            ]
          },
          "metadata": {
            "tags": []
          }
        },
        {
          "output_type": "stream",
          "text": [
            "Uploaded file with ID 1GyaiTjjSGQerePqlncKqdcK2zRWitrB5\n"
          ],
          "name": "stdout"
        },
        {
          "output_type": "display_data",
          "data": {
            "image/png": "[encoded data removed]",
            "text/plain": [
              "<Figure size 432x288 with 1 Axes>"
            ]
          },
          "metadata": {
            "tags": []
          }
        },
        {
          "output_type": "stream",
          "text": [
            "Uploaded file with ID 1T_A5IOM9txXGXCVjbEG-uADQeuI7zznD\n"
          ],
          "name": "stdout"
        }
      ]
    },
    {
      "cell_type": "code",
      "metadata": {
        "colab_type": "code",
        "id": "0lkszL557Csg",
        "outputId": "fdee2bce-56bf-4a54-acb6-976aa654c130",
        "colab": {
          "base_uri": "https://localhost:8080/",
          "height": 1000
        }
      },
      "source": [
        "### Temporal Feature Analysis - Task 1 ###\n",
        "temporal_analysis_feature_func = {\n",
        "    'gapK': lambda K: ['gap{}'.format(j) for j in range(1, K+1)],\n",
        "    'last_gap': lambda K: ['gap{}'.format(K)]\n",
        "}\n",
        "\n",
        "\n",
        "task1_accuracy_with_time_gap = {}\n",
        "for K in list_of_K:\n",
        "    accuracy_with_time_gap = []\n",
        "    for name, feature_func in temporal_analysis_feature_func.items():\n",
        "        train_features = [feat for feat in feature_list if feat in features_of_task1[K].columns]\n",
        "        if len(train_features) == 0:\n",
        "            continue\n",
        "        stime = time.time()\n",
        "        print('\\n{}, Task 1, K={}, start : {}'.format(name, K, stime))\n",
        "        print('    columns: {}'.format(train_features))\n",
        "\n",
        "        acc_list = learn_model(features_of_task1[K], train_features)\n",
        "        mean_acc = np.mean(acc_list)\n",
        "        accuracy_with_time_gap.append(mean_acc)\n",
        "        print('Accuracy: {}'.format(mean_acc))\n",
        "        print('    for each folds: {}'.format(acc_list))\n",
        "        print('execution time : {}'.format(time.time()-stime))\n",
        "\n",
        "    task1_accuracy_with_time_gap[K] = accuracy_with_time_gap"
      ],
      "execution_count": 88,
      "outputs": [
        {
          "output_type": "stream",
          "text": [
            "\n",
            "gapK, Task 1, K=1, start : 1571709398.045473\n",
            "    columns: ['accepted_answerer_rep', 'max_rep_answerer', 'num_que_answered', 'time_for_first_ans', 'rep_questioner', 'rep_answerers', 'rep_co_answerers', 'num_answers_recvd']\n",
            "DecisionTreeClassifier\n",
            "Accuracy: 52.62805077375636\n",
            "    for each folds: [52.58126860863963, 52.61957411244406, 52.678773527414556, 52.75282072712077, 52.48119515252821, 52.64138459395459, 52.42895946510656, 52.773715002089425, 52.51776013372336, 52.80505641454241]\n",
            "execution time : 20.91109538078308\n",
            "\n",
            "last_gap, Task 1, K=1, start : 1571709418.9566293\n",
            "    columns: ['accepted_answerer_rep', 'max_rep_answerer', 'num_que_answered', 'time_for_first_ans', 'rep_questioner', 'rep_answerers', 'rep_co_answerers', 'num_answers_recvd']\n",
            "DecisionTreeClassifier\n",
            "Accuracy: 52.60924600207678\n",
            "    for each folds: [52.623056430971744, 52.59868020127801, 52.61435063465255, 52.64660816269676, 52.48293634210893, 52.5612898732414, 52.41677113804151, 52.82246831034963, 52.53865440869202, 52.7876445187352]\n",
            "execution time : 21.55402898788452\n",
            "\n",
            "gapK, Task 1, K=2, start : 1571709440.5112123\n",
            "    columns: ['accepted_answerer_rep', 'max_rep_answerer', 'num_que_answered', 'time_for_first_ans', 'rep_questioner', 'rep_answerers', 'rep_co_answerers', 'num_answers_recvd']\n",
            "DecisionTreeClassifier\n",
            "Accuracy: 55.23290356169419\n",
            "    for each folds: [54.91379046335712, 54.63816494655927, 55.3057911983585, 55.446666462499614, 56.634918690472546, 54.834165314059966, 55.449728968241814, 53.25084984534346, 56.73904388570728, 55.115915842342204]\n",
            "execution time : 9.972198486328125\n",
            "\n",
            "last_gap, Task 1, K=2, start : 1571709450.483605\n",
            "    columns: ['accepted_answerer_rep', 'max_rep_answerer', 'num_que_answered', 'time_for_first_ans', 'rep_questioner', 'rep_answerers', 'rep_co_answerers', 'num_answers_recvd']\n",
            "DecisionTreeClassifier\n",
            "Accuracy: 55.027715676966885\n",
            "    for each folds: [54.97810308394328, 54.904602946130524, 56.19391786359599, 55.994854990353105, 54.27372676323768, 53.39172510948458, 53.1742872017885, 55.27516614093651, 56.674731265121125, 55.416041405077635]\n",
            "execution time : 9.760619401931763\n",
            "\n",
            "gapK, Task 1, K=3, start : 1571709460.244312\n",
            "    columns: ['accepted_answerer_rep', 'max_rep_answerer', 'num_que_answered', 'time_for_first_ans', 'rep_questioner', 'rep_answerers', 'rep_co_answerers', 'num_answers_recvd']\n",
            "DecisionTreeClassifier\n",
            "Accuracy: 54.40254736284263\n",
            "    for each folds: [54.8803601042407, 54.54294175715696, 53.70977295162883, 55.036525172754196, 53.44126357354393, 53.855873642645605, 54.665350444225076, 54.282329713721616, 54.8390918065153, 54.771964461994074]\n",
            "execution time : 6.516160726547241\n",
            "\n",
            "last_gap, Task 1, K=3, start : 1571709466.7605655\n",
            "    columns: ['accepted_answerer_rep', 'max_rep_answerer', 'num_que_answered', 'time_for_first_ans', 'rep_questioner', 'rep_answerers', 'rep_co_answerers', 'num_answers_recvd']\n",
            "DecisionTreeClassifier\n",
            "Accuracy: 54.69159090241143\n",
            "    for each folds: [54.60396430545684, 55.11944718657453, 53.820335636722604, 55.43534057255676, 53.83218163869694, 54.27838104639684, 54.321816386969395, 54.76011846001974, 55.194471865745314, 55.54985192497532]\n",
            "execution time : 6.2556939125061035\n",
            "\n",
            "gapK, Task 1, K=4, start : 1571709473.0166488\n",
            "    columns: ['accepted_answerer_rep', 'max_rep_answerer', 'num_que_answered', 'time_for_first_ans', 'rep_questioner', 'rep_answerers', 'rep_co_answerers', 'num_answers_recvd']\n",
            "DecisionTreeClassifier\n",
            "Accuracy: 53.77706098079002\n",
            "    for each folds: [52.7578161455903, 53.854409706019595, 53.2991133924405, 53.69108726084928, 54.25358159503477, 54.23958187502917, 54.33291334173317, 55.345559755471555, 52.732278687759575, 53.26426804797237]\n",
            "execution time : 4.371269941329956\n",
            "\n",
            "last_gap, Task 1, K=4, start : 1571709477.3888545\n",
            "    columns: ['accepted_answerer_rep', 'max_rep_answerer', 'num_que_answered', 'time_for_first_ans', 'rep_questioner', 'rep_answerers', 'rep_co_answerers', 'num_answers_recvd']\n",
            "DecisionTreeClassifier\n",
            "Accuracy: 53.37200505017743\n",
            "    for each folds: [53.52309846010266, 53.13112459169389, 52.7578161455903, 53.62575828278115, 53.502263288067574, 53.06360539455878, 53.483596994726774, 53.516263008073174, 53.75425824816837, 53.36226608801157]\n",
            "execution time : 4.464452028274536\n",
            "\n",
            "gapK, Task 1, K=5, start : 1571709481.853399\n",
            "    columns: ['accepted_answerer_rep', 'max_rep_answerer', 'num_que_answered', 'time_for_first_ans', 'rep_questioner', 'rep_answerers', 'rep_co_answerers', 'num_answers_recvd']\n",
            "DecisionTreeClassifier\n",
            "Accuracy: 53.62298319290072\n",
            "    for each folds: [52.9245835329182, 53.728245249880246, 54.68093033157699, 52.58395869923891, 53.869491164573134, 53.16691505216095, 53.5341707472855, 53.59804130295934, 53.97061954439003, 54.172876304023845]\n",
            "execution time : 3.5038340091705322\n",
            "\n",
            "last_gap, Task 1, K=5, start : 1571709485.3573\n",
            "    columns: ['accepted_answerer_rep', 'max_rep_answerer', 'num_que_answered', 'time_for_first_ans', 'rep_questioner', 'rep_answerers', 'rep_co_answerers', 'num_answers_recvd']\n",
            "DecisionTreeClassifier\n",
            "Accuracy: 53.04868815168048\n",
            "    for each folds: [53.23327478844004, 52.54670285805525, 53.483421150673266, 53.20666347330885, 53.645944219714714, 53.08175431126251, 52.67191824568874, 52.709176069831805, 53.4436874600809, 52.46433893974878]\n",
            "execution time : 3.5112383365631104\n",
            "\n",
            "gapK, Task 1, K=6, start : 1571709488.868772\n",
            "    columns: ['accepted_answerer_rep', 'max_rep_answerer', 'num_que_answered', 'time_for_first_ans', 'rep_questioner', 'rep_answerers', 'rep_co_answerers', 'num_answers_recvd']\n",
            "DecisionTreeClassifier\n",
            "Accuracy: 54.468299532877815\n",
            "    for each folds: [54.43639387100606, 54.89963178524766, 55.3153581185414, 53.717781209169736, 54.038484380567766, 54.65938112490348, 55.13452515293699, 54.196115697570825, 54.433687711587574, 53.85163627724654]\n",
            "execution time : 2.8764145374298096\n",
            "\n",
            "last_gap, Task 1, K=6, start : 1571709491.7454093\n",
            "    columns: ['accepted_answerer_rep', 'max_rep_answerer', 'num_que_answered', 'time_for_first_ans', 'rep_questioner', 'rep_answerers', 'rep_co_answerers', 'num_answers_recvd']\n",
            "DecisionTreeClassifier\n",
            "Accuracy: 54.39227945134071\n",
            "    for each folds: [54.068179118660176, 54.8164865185889, 53.15358118541395, 55.083739161420596, 54.78679178049649, 53.99417948565659, 54.481202114390925, 55.318643463799965, 53.62000356358021, 54.5999881213993]\n",
            "execution time : 2.8529210090637207\n",
            "\n",
            "gapK, Task 1, K=7, start : 1571709494.5984137\n",
            "    columns: ['accepted_answerer_rep', 'max_rep_answerer', 'num_que_answered', 'time_for_first_ans', 'rep_questioner', 'rep_answerers', 'rep_co_answerers', 'num_answers_recvd']\n",
            "DecisionTreeClassifier\n",
            "Accuracy: 54.042117293813575\n",
            "    for each folds: [54.224019831691564, 53.662991715049905, 53.14762867766978, 53.51947289451367, 55.37869397873312, 54.32839715571792, 54.55375782881002, 53.58168058455115, 53.97312108559499, 54.051409185803756]\n",
            "execution time : 2.3841257095336914\n",
            "\n",
            "last_gap, Task 1, K=7, start : 1571709496.9826193\n",
            "    columns: ['accepted_answerer_rep', 'max_rep_answerer', 'num_que_answered', 'time_for_first_ans', 'rep_questioner', 'rep_answerers', 'rep_co_answerers', 'num_answers_recvd']\n",
            "DecisionTreeClassifier\n",
            "Accuracy: 54.06494591793279\n",
            "    for each folds: [53.64994454954661, 54.70024137256181, 54.08050101115533, 53.96960010437732, 54.197925500684974, 54.4914867245091, 54.41022964509395, 53.757828810020875, 52.94885177453027, 54.4428496868476]\n",
            "execution time : 2.355170726776123\n",
            "\n",
            "gapK, Task 1, K=8, start : 1571709499.3380303\n",
            "    columns: ['accepted_answerer_rep', 'max_rep_answerer', 'num_que_answered', 'time_for_first_ans', 'rep_questioner', 'rep_answerers', 'rep_co_answerers', 'num_answers_recvd']\n",
            "DecisionTreeClassifier\n",
            "Accuracy: 53.84959522795058\n",
            "    for each folds: [52.71978412157364, 53.68555602897316, 53.89859394972305, 53.344695355773325, 53.77077119727311, 54.28916347109786, 54.61582161624769, 54.49510012782275, 54.01931543814799, 53.65715097287317]\n",
            "execution time : 2.0846874713897705\n",
            "\n",
            "last_gap, Task 1, K=8, start : 1571709501.4232495\n",
            "    columns: ['accepted_answerer_rep', 'max_rep_answerer', 'num_que_answered', 'time_for_first_ans', 'rep_questioner', 'rep_answerers', 'rep_co_answerers', 'num_answers_recvd']\n",
            "DecisionTreeClassifier\n",
            "Accuracy: 54.213179946030394\n",
            "    for each folds: [54.154239454622925, 54.43118875159779, 53.806277517398094, 54.53060644794773, 53.99091038204801, 54.51640391989774, 53.63584718079818, 53.81337878142309, 54.95668228944752, 54.296264735122854]\n",
            "execution time : 2.087341547012329\n",
            "\n",
            "gapK, Task 1, K=9, start : 1571709503.5107846\n",
            "    columns: ['accepted_answerer_rep', 'max_rep_answerer', 'num_que_answered', 'time_for_first_ans', 'rep_questioner', 'rep_answerers', 'rep_co_answerers', 'num_answers_recvd']\n",
            "DecisionTreeClassifier\n",
            "Accuracy: 53.71988749233232\n",
            "    for each folds: [52.27325001916737, 53.9104431835608, 54.80754485508358, 54.13280171752799, 53.57307161478301, 53.25103511731329, 53.358380616469866, 54.31682257322497, 53.918110719214845, 53.65741450697746]\n",
            "execution time : 1.789393663406372\n",
            "\n",
            "last_gap, Task 1, K=9, start : 1571709505.3004715\n",
            "    columns: ['accepted_answerer_rep', 'max_rep_answerer', 'num_que_answered', 'time_for_first_ans', 'rep_questioner', 'rep_answerers', 'rep_co_answerers', 'num_answers_recvd']\n",
            "DecisionTreeClassifier\n",
            "Accuracy: 54.00433930903388\n",
            "    for each folds: [54.06731580157939, 53.036344119000155, 54.700199355927005, 53.427388437356235, 53.427388437356235, 54.05612636098758, 54.16347186014415, 54.33982518018709, 54.21714460972243, 54.60818892807852]\n",
            "execution time : 1.7720015048980713\n",
            "\n",
            "gapK, Task 1, K=10, start : 1571709507.072697\n",
            "    columns: ['accepted_answerer_rep', 'max_rep_answerer', 'num_que_answered', 'time_for_first_ans', 'rep_questioner', 'rep_answerers', 'rep_co_answerers', 'num_answers_recvd']\n",
            "DecisionTreeClassifier\n",
            "Accuracy: 53.988733669780665\n",
            "    for each folds: [53.271412132171626, 53.96186092388624, 54.37284234752589, 54.44681900378103, 54.49613677461779, 54.00739827373613, 53.55528154541718, 54.13070283600493, 53.85121249486231, 53.793670365803536]\n",
            "execution time : 1.5646336078643799\n",
            "\n",
            "last_gap, Task 1, K=10, start : 1571709508.637447\n",
            "    columns: ['accepted_answerer_rep', 'max_rep_answerer', 'num_que_answered', 'time_for_first_ans', 'rep_questioner', 'rep_answerers', 'rep_co_answerers', 'num_answers_recvd']\n",
            "DecisionTreeClassifier\n",
            "Accuracy: 53.97887295346285\n",
            "    for each folds: [53.80568798290317, 54.38106197599868, 54.79204339963834, 54.21666940654283, 52.90974847936873, 54.04027949034114, 53.98273736128237, 54.36087135224003, 53.53884093711467, 53.76078914919852]\n",
            "execution time : 1.5558269023895264\n",
            "\n",
            "gapK, Task 1, K=11, start : 1571709510.1936643\n",
            "    columns: ['accepted_answerer_rep', 'max_rep_answerer', 'num_que_answered', 'time_for_first_ans', 'rep_questioner', 'rep_answerers', 'rep_co_answerers', 'num_answers_recvd']\n",
            "DecisionTreeClassifier\n",
            "Accuracy: 54.48910386704556\n",
            "    for each folds: [54.99124343257443, 54.24693520140105, 53.581436077057795, 54.85113835376532, 54.58844133099825, 53.730297723292466, 54.518388791593694, 54.01926444833625, 54.70227670753065, 55.66161660390577]\n",
            "execution time : 1.3691365718841553\n",
            "\n",
            "last_gap, Task 1, K=11, start : 1571709511.5630307\n",
            "    columns: ['accepted_answerer_rep', 'max_rep_answerer', 'num_que_answered', 'time_for_first_ans', 'rep_questioner', 'rep_answerers', 'rep_co_answerers', 'num_answers_recvd']\n",
            "DecisionTreeClassifier\n",
            "Accuracy: 54.16246994554963\n",
            "    for each folds: [54.45709281961471, 54.483362521891415, 53.18739054290718, 53.86164623467601, 54.26444833625219, 54.597197898423815, 54.72854640980736, 53.63397548161121, 54.343257443082315, 54.06778176723005]\n",
            "execution time : 1.3832428455352783\n",
            "\n",
            "gapK, Task 1, K=12, start : 1571709512.9466133\n",
            "    columns: ['accepted_answerer_rep', 'max_rep_answerer', 'num_que_answered', 'time_for_first_ans', 'rep_questioner', 'rep_answerers', 'rep_co_answerers', 'num_answers_recvd']\n",
            "DecisionTreeClassifier\n",
            "Accuracy: 54.65721009651885\n",
            "    for each folds: [54.198047419804745, 54.60715946071595, 54.82101348210135, 54.55644411381812, 54.24028268551237, 54.40766226520365, 55.74669890273387, 55.002789659661524, 54.04500650920588, 54.946996466431095]\n",
            "execution time : 1.1953518390655518\n",
            "\n",
            "last_gap, Task 1, K=12, start : 1571709514.1420274\n",
            "    columns: ['accepted_answerer_rep', 'max_rep_answerer', 'num_que_answered', 'time_for_first_ans', 'rep_questioner', 'rep_answerers', 'rep_co_answerers', 'num_answers_recvd']\n",
            "DecisionTreeClassifier\n",
            "Accuracy: 54.43590254373903\n",
            "    for each folds: [55.45327754532776, 52.99860529986053, 54.58856345885635, 54.71452482797099, 54.54714524827971, 53.99851218151385, 53.970615584898646, 54.63083503812535, 54.80751348335503, 54.64943276920216]\n",
            "execution time : 1.2292287349700928\n",
            "\n",
            "gapK, Task 1, K=13, start : 1571709515.3713222\n",
            "    columns: ['accepted_answerer_rep', 'max_rep_answerer', 'num_que_answered', 'time_for_first_ans', 'rep_questioner', 'rep_answerers', 'rep_co_answerers', 'num_answers_recvd']\n",
            "DecisionTreeClassifier\n",
            "Accuracy: 54.52712838582172\n",
            "    for each folds: [53.898338413135384, 55.06833153082293, 54.35060466030872, 54.27194966080032, 54.59640153377249, 54.360436535247274, 54.0753121620293, 54.10480778684495, 56.31697964801888, 54.22812192723697]\n",
            "execution time : 1.1389927864074707\n",
            "\n",
            "last_gap, Task 1, K=13, start : 1571709516.5104003\n",
            "    columns: ['accepted_answerer_rep', 'max_rep_answerer', 'num_que_answered', 'time_for_first_ans', 'rep_questioner', 'rep_answerers', 'rep_co_answerers', 'num_answers_recvd']\n",
            "DecisionTreeClassifier\n",
            "Accuracy: 54.003084424482935\n",
            "    for each folds: [53.4165765411464, 54.21295841116901, 54.95034903156032, 54.61606528364959, 53.63287778979451, 54.635729033526694, 53.888506538196836, 53.33792154163799, 53.623045914855965, 53.716814159292035]\n",
            "execution time : 1.1287615299224854\n",
            "\n",
            "gapK, Task 1, K=14, start : 1571709517.6392298\n",
            "    columns: ['accepted_answerer_rep', 'max_rep_answerer', 'num_que_answered', 'time_for_first_ans', 'rep_questioner', 'rep_answerers', 'rep_co_answerers', 'num_answers_recvd']\n",
            "DecisionTreeClassifier\n",
            "Accuracy: 54.79641515538147\n",
            "    for each folds: [54.57651687720025, 55.61192793539035, 53.90908149528839, 54.11618515066791, 55.027441234337786, 55.234544889717306, 54.706430568499535, 55.13099306202754, 55.06886196541369, 54.58216837527182]\n",
            "execution time : 1.0024406909942627\n",
            "\n",
            "last_gap, Task 1, K=14, start : 1571709518.6417315\n",
            "    columns: ['accepted_answerer_rep', 'max_rep_answerer', 'num_que_answered', 'time_for_first_ans', 'rep_questioner', 'rep_answerers', 'rep_co_answerers', 'num_answers_recvd']\n",
            "DecisionTreeClassifier\n",
            "Accuracy: 54.742589005412036\n",
            "    for each folds: [54.34872644439842, 53.83102091530338, 54.73749611680646, 54.65465465465466, 55.61768665216941, 55.05850678264471, 54.58216837527182, 54.66500983742363, 54.54074764419592, 55.38987263125194]\n",
            "execution time : 1.0084095001220703\n",
            "\n",
            "gapK, Task 1, K=15, start : 1571709519.6502013\n",
            "    columns: ['accepted_answerer_rep', 'max_rep_answerer', 'num_que_answered', 'time_for_first_ans', 'rep_questioner', 'rep_answerers', 'rep_co_answerers', 'num_answers_recvd']\n",
            "DecisionTreeClassifier\n",
            "Accuracy: 54.435623137448374\n",
            "    for each folds: [54.94613124387855, 54.440574662603396, 53.75489769264258, 55.06094906399652, 54.11406181976491, 54.72355245973008, 53.48280365694384, 53.526338702655636, 55.365694383979104, 54.941227688289075]\n",
            "execution time : 0.9519534111022949\n",
            "\n",
            "last_gap, Task 1, K=15, start : 1571709520.6022155\n",
            "    columns: ['accepted_answerer_rep', 'max_rep_answerer', 'num_que_answered', 'time_for_first_ans', 'rep_questioner', 'rep_answerers', 'rep_co_answerers', 'num_answers_recvd']\n",
            "DecisionTreeClassifier\n",
            "Accuracy: 54.4715529342616\n",
            "    for each folds: [53.71640004353031, 54.29908576404005, 54.571179799738786, 54.11406181976491, 53.76578145407053, 54.440574662603396, 56.160208968219415, 54.83239007400958, 54.56029603831084, 54.25555071832825]\n",
            "execution time : 0.9279317855834961\n",
            "\n",
            "gapK, Task 1, K=16, start : 1571709521.530238\n",
            "    columns: ['accepted_answerer_rep', 'max_rep_answerer', 'num_que_answered', 'time_for_first_ans', 'rep_questioner', 'rep_answerers', 'rep_co_answerers', 'num_answers_recvd']\n",
            "DecisionTreeClassifier\n",
            "Accuracy: 54.56274675559088\n",
            "    for each folds: [54.83135824977211, 54.455332725615314, 55.57201458523245, 54.11349134001823, 55.19088319088319, 53.88034188034188, 52.831908831908834, 54.52991452991453, 55.72649572649573, 54.495726495726494]\n",
            "execution time : 0.8361427783966064\n",
            "\n",
            "last_gap, Task 1, K=16, start : 1571709522.366915\n",
            "    columns: ['accepted_answerer_rep', 'max_rep_answerer', 'num_que_answered', 'time_for_first_ans', 'rep_questioner', 'rep_answerers', 'rep_co_answerers', 'num_answers_recvd']\n",
            "DecisionTreeClassifier\n",
            "Accuracy: 54.627699475648434\n",
            "    for each folds: [55.275752051048315, 54.93391066545123, 54.71741112123974, 54.443938012762075, 54.085470085470085, 54.60968660968661, 55.55555555555556, 53.800569800569804, 54.370370370370374, 54.484330484330485]\n",
            "execution time : 0.8118438720703125\n",
            "\n",
            "gapK, Task 1, K=17, start : 1571709523.1788216\n",
            "    columns: ['accepted_answerer_rep', 'max_rep_answerer', 'num_que_answered', 'time_for_first_ans', 'rep_questioner', 'rep_answerers', 'rep_co_answerers', 'num_answers_recvd']\n",
            "DecisionTreeClassifier\n",
            "Accuracy: 54.23137988039127\n",
            "    for each folds: [54.72192449684411, 53.20947957603906, 53.28093366678576, 54.20983684649279, 53.793021317137075, 53.340478742408, 54.995831844706444, 55.79373585804454, 54.442591710338256, 54.525964745116724]\n",
            "execution time : 0.7531991004943848\n",
            "\n",
            "last_gap, Task 1, K=17, start : 1571709523.932112\n",
            "    columns: ['accepted_answerer_rep', 'max_rep_answerer', 'num_que_answered', 'time_for_first_ans', 'rep_questioner', 'rep_answerers', 'rep_co_answerers', 'num_answers_recvd']\n",
            "DecisionTreeClassifier\n",
            "Accuracy: 54.470747680195906\n",
            "    for each folds: [54.79337858759081, 54.340836012861736, 54.79337858759081, 54.817196617839706, 53.72156722639038, 54.1145647254972, 54.1383827557461, 55.30546623794212, 53.76369699857075, 54.91900905192949]\n",
            "execution time : 0.7596075534820557\n",
            "\n",
            "gapK, Task 1, K=18, start : 1571709524.691947\n",
            "    columns: ['accepted_answerer_rep', 'max_rep_answerer', 'num_que_answered', 'time_for_first_ans', 'rep_questioner', 'rep_answerers', 'rep_co_answerers', 'num_answers_recvd']\n",
            "DecisionTreeClassifier\n",
            "Accuracy: 53.95811607832367\n",
            "    for each folds: [54.564650353993294, 53.80698049931686, 54.42802136380574, 55.47137001614706, 53.38467271146441, 53.75155279503105, 53.82608695652174, 52.807453416149066, 54.88198757763975, 52.6583850931677]\n",
            "execution time : 0.71689772605896\n",
            "\n",
            "last_gap, Task 1, K=18, start : 1571709525.4091103\n",
            "    columns: ['accepted_answerer_rep', 'max_rep_answerer', 'num_que_answered', 'time_for_first_ans', 'rep_questioner', 'rep_answerers', 'rep_co_answerers', 'num_answers_recvd']\n",
            "DecisionTreeClassifier\n",
            "Accuracy: 54.461226297261796\n",
            "    for each folds: [54.26655073903863, 53.96845112408396, 53.07415227921997, 55.583157371755064, 54.3907589119364, 55.01863354037267, 54.745341614906835, 54.93167701863354, 54.8944099378882, 53.73913043478261]\n",
            "execution time : 0.7134623527526855\n",
            "\n",
            "gapK, Task 1, K=19, start : 1571709526.1231396\n",
            "    columns: ['accepted_answerer_rep', 'max_rep_answerer', 'num_que_answered', 'time_for_first_ans', 'rep_questioner', 'rep_answerers', 'rep_co_answerers', 'num_answers_recvd']\n",
            "DecisionTreeClassifier\n",
            "Accuracy: 54.57193175615703\n",
            "    for each folds: [54.8124191461837, 53.88098318240621, 54.32082794307891, 53.751617076326, 54.89003880983182, 54.69598965071151, 54.24320827943079, 54.79948253557568, 54.728942942165865, 55.59580799585975]\n",
            "execution time : 0.6749582290649414\n",
            "\n",
            "last_gap, Task 1, K=19, start : 1571709526.798166\n",
            "    columns: ['accepted_answerer_rep', 'max_rep_answerer', 'num_que_answered', 'time_for_first_ans', 'rep_questioner', 'rep_answerers', 'rep_co_answerers', 'num_answers_recvd']\n",
            "DecisionTreeClassifier\n",
            "Accuracy: 54.60038041568883\n",
            "    for each folds: [53.932729624838295, 55.10996119016818, 54.644243208279434, 53.98447606727038, 54.78654592496766, 54.411384217335055, 55.03234152652005, 54.69598965071151, 54.547806960797, 54.858325786000776]\n",
            "execution time : 0.6602287292480469\n",
            "\n",
            "gapK, Task 1, K=20, start : 1571709527.4584486\n",
            "    columns: ['accepted_answerer_rep', 'max_rep_answerer', 'num_que_answered', 'time_for_first_ans', 'rep_questioner', 'rep_answerers', 'rep_co_answerers', 'num_answers_recvd']\n",
            "DecisionTreeClassifier\n",
            "Accuracy: 53.89952378114066\n",
            "    for each folds: [53.421158757897565, 54.598010217800486, 53.42834095186878, 54.08712019360043, 54.49045442323205, 53.670341489647754, 53.38800752890562, 52.74267276149502, 53.603119118042486, 55.566012368916375]\n",
            "execution time : 0.6234450340270996\n",
            "\n",
            "last_gap, Task 1, K=20, start : 1571709528.0825038\n",
            "    columns: ['accepted_answerer_rep', 'max_rep_answerer', 'num_que_answered', 'time_for_first_ans', 'rep_questioner', 'rep_answerers', 'rep_co_answerers', 'num_answers_recvd']\n",
            "DecisionTreeClassifier\n",
            "Accuracy: 54.110600220685285\n",
            "    for each folds: [53.555585428148945, 54.302231782737294, 53.42834095186878, 52.50067222371605, 54.22156493681097, 54.01989782199516, 54.71901048668997, 55.55256789459532, 54.67867706372681, 54.12745361656359]\n",
            "execution time : 0.611016035079956\n"
          ],
          "name": "stdout"
        }
      ]
    },
    {
      "cell_type": "code",
      "metadata": {
        "colab_type": "code",
        "id": "yuFU5bd4_Efb",
        "colab": {}
      },
      "source": [
        "# Table 4: Temporal gap features analysis\n",
        "\n",
        "for K, acc in task1_accuracy_with_time_gap.items():\n",
        "    print(K, acc)"
      ],
      "execution_count": 0,
      "outputs": []
    },
    {
      "cell_type": "code",
      "metadata": {
        "colab_type": "code",
        "id": "8stSxGNbNPo9",
        "colab": {}
      },
      "source": [
        ""
      ],
      "execution_count": 0,
      "outputs": []
    }
  ]
}